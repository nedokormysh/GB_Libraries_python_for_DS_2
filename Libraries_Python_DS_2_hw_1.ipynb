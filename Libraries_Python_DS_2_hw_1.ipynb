{
  "nbformat": 4,
  "nbformat_minor": 0,
  "metadata": {
    "colab": {
      "name": "Libraries_Python_DS_2_hw_1.ipynb",
      "provenance": [],
      "collapsed_sections": [],
      "authorship_tag": "ABX9TyOY/feL4jUmoeVsfWfSZd6p",
      "include_colab_link": true
    },
    "kernelspec": {
      "name": "python3",
      "display_name": "Python 3"
    },
    "language_info": {
      "name": "python"
    }
  },
  "cells": [
    {
      "cell_type": "markdown",
      "metadata": {
        "id": "view-in-github",
        "colab_type": "text"
      },
      "source": [
        "<a href=\"https://colab.research.google.com/github/nedokormysh/GB_Libraries_python_for_DS_2/blob/main/Libraries_Python_DS_2_hw_1.ipynb\" target=\"_parent\"><img src=\"https://colab.research.google.com/assets/colab-badge.svg\" alt=\"Open In Colab\"/></a>"
      ]
    },
    {
      "cell_type": "markdown",
      "source": [
        "#Вопрос 1.\n",
        "\n",
        "\n",
        "\n",
        "**Приведите по 2 примера, когда лучше максимизировать Precision, а когда Recall.**\n",
        "\n",
        "\n",
        "**Точность** — вероятность того, что объект, случайно выбранный из пула отнесённых к \"основному\" классу (т.е. из пула извлеченных нашей моделью), является релевантным.\n",
        "\n",
        "Для максимализации precision нужно уменьшить количество ложно-положительных решений.\n",
        "\n",
        "<center>$ precision =  \\frac{TP}{TP \\: + \\: FP} $</center>\n",
        "\n",
        "***Примеры для Precision:*** \n",
        "\n",
        "*   Модель предсказывающая поведение цены. Например, хотим получить дни с ростом цены на какую-то величину. Можем пропустить какие-то дни, но желательно, получать более точные результаты. \n",
        "*   Модель для поиска друзей в социальных сетях. Если мы часто будем отправлять неверные предположения, то это может вызвать отток пользоывателей.\n",
        "*   Модель для поиска новых месторождений полезных ископаемых.\n",
        "*   Модель разблокировки телефона по отпечатку пальца.\n",
        "---\n",
        "**Полнота** — это предполагаемая вероятность того, что объект, случайно выбранный из пула релевантных объектов, будет извлечен, То есть, полнота показывает сколько образцов из всех положительных примеров были классифицированы правильно. Чем выше значение полноты, тем\n",
        "меньше положительных примеров пропущено в классификации.\n",
        "\n",
        "Для максимализации полносты следует уменьшить количество ложно-отрицательных решений.\n",
        "\n",
        "<center> $recall =  \\frac{TP}{TP \\: + \\: FN}$</center>\n",
        "\n",
        "***Примеры для Recall:*** \n",
        "\n",
        "\n",
        "\n",
        "*   Модель для поиска новых сотрудников в фирму.\n",
        "*   Модель для поиска ядов.\n",
        "*   Модель для первоначальной диагностики кариеса на снимках. Или диагностики патологий на рентгене.\n",
        "*   Модель поиска мошеннических операций в банках.\n",
        "\n",
        "\n",
        "\n"
      ],
      "metadata": {
        "id": "dpy9-EN2MzGQ"
      }
    },
    {
      "cell_type": "markdown",
      "source": [
        "Максимизация той или иной метрики сильно зависит от условий. Например, рассмотрим вызовы скорой помощи при симптомах ОРВИ для выявления случаев гриппа. Если у нас есть большое количество ресурсов, то можно высылать врача в каждом случае, иными словами максимизировать recall, но если ресурсы ограничены, то следует отмечать более точно выявлять случаи гриппа, т.е. максимализировать precision.\n",
        "\n",
        "Также возможно задача максимализировать эти метрики не будет отвечать других критериям другим задачам. Например, возможно точный поиск друзей в соц.сетях может уменьшить время пребывания человека в соц. сети."
      ],
      "metadata": {
        "id": "1uy1MTQPLzCI"
      }
    },
    {
      "cell_type": "markdown",
      "source": [
        "# Вопрос 2.\n",
        "\n",
        "**Почему мы используем F-меру, почему, например, нельзя просто взять среднее от Precision и Recall?** \n"
      ],
      "metadata": {
        "id": "f5ccIlQjM4Kz"
      }
    },
    {
      "cell_type": "markdown",
      "source": [
        "Можем создать такую модель, которая не будет допускать ошибок в определении объектов необходимого класса, но нам интересно не только как хорошо нам модели удаётся это делать, не переплачивая ложными срабатываниями, но и насколько нам получается найти все объекты класса.\n",
        "\n",
        "\n",
        "Т.е. для одновременной оптимизации и precision и recall используется F-мера."
      ],
      "metadata": {
        "id": "MQ6DnTFZiCvl"
      }
    },
    {
      "cell_type": "markdown",
      "source": [
        "*  Точность и полнота имеют одинаковые значения в числителе и разные знаменатели. Имеет смысл усреднять только их обратные величины, т.е. гармоническое среднее.\n",
        "*  Среднее гармоническое двух чисел имеет тенденцию к наименьшему числу.  \n",
        "\n",
        "\n"
      ],
      "metadata": {
        "id": "2ZB3pl1JklqZ"
      }
    },
    {
      "cell_type": "markdown",
      "source": [
        "Возможно рассчитать F-меру придав различный вес точности и полноте. F-мера достигает максимума при полноте и точности, равными единице, и близка к нулю, если один из аргументов близок к нулю."
      ],
      "metadata": {
        "id": "UjCIfRk2eKGa"
      }
    },
    {
      "cell_type": "markdown",
      "source": [
        "<center>$\\LARGE F_{\\beta} = (1+ \\beta^2) \\cdot \\frac{precision \\: \\cdot \\: recall}{(\\beta^2 \\cdot precision) \\: + \\: recall}$<center>"
      ],
      "metadata": {
        "id": "XeTEuZCDo2j1"
      }
    },
    {
      "cell_type": "markdown",
      "source": [
        "Если рассмотрим пример, где\n",
        "\n",
        "$precision: 1.0$\n",
        "\n",
        "$recall: 0.1$\n",
        "\n",
        "Это даст нам результат:\n",
        "\n",
        "F-мера: $0.18$\n",
        "\n",
        "Арифметическое среднее: $0.55$"
      ],
      "metadata": {
        "id": "SUaqGpR3sx_g"
      }
    },
    {
      "cell_type": "code",
      "source": [
        "def F_score(b, precision, recall):\n",
        "  F = (1 + b**2) * (precision * recall) / (((b ** 2) * precision) + recall)\n",
        "  return F\n",
        "\n",
        "precision = 1\n",
        "recall = 0.1\n",
        "\n",
        "F_score(1, 1, 0.1)"
      ],
      "metadata": {
        "colab": {
          "base_uri": "https://localhost:8080/"
        },
        "id": "28ugiV_7o1xe",
        "outputId": "25ffc01d-3cbd-4d13-9012-47e3da0187b9"
      },
      "execution_count": null,
      "outputs": [
        {
          "output_type": "execute_result",
          "data": {
            "text/plain": [
              "0.18181818181818182"
            ]
          },
          "metadata": {},
          "execution_count": 4
        }
      ]
    },
    {
      "cell_type": "markdown",
      "source": [
        "Тем самым арифметическое среднее будет подвержено сильному влиянию большего числа, что может привести к ошибочным выводам."
      ],
      "metadata": {
        "id": "22TeP2ObtnqG"
      }
    },
    {
      "cell_type": "code",
      "source": [
        "import numpy as np\n",
        "import matplotlib.pyplot as plt\n",
        "%matplotlib inline"
      ],
      "metadata": {
        "id": "i0lUZqP0oLu1"
      },
      "execution_count": null,
      "outputs": []
    },
    {
      "cell_type": "code",
      "source": [
        "precision = np.arange(0, 1, 0.01)\n",
        "recall = np.arange(1, 0, -0.01)\n",
        "# precision = [0.01, 0.99, 0.01]\n",
        "# recall = [0.01, 0.99, 0.01]"
      ],
      "metadata": {
        "id": "Xkw5Tc6oqE9u"
      },
      "execution_count": null,
      "outputs": []
    },
    {
      "cell_type": "markdown",
      "source": [
        "Также можем рассмотреть пример, где precision будет изменяться от 0 до 1, а recall от 1 до 0."
      ],
      "metadata": {
        "id": "WaqTr4xKsN0o"
      }
    },
    {
      "cell_type": "code",
      "source": [
        "def plt_f(b=1):    \n",
        "    plt.plot(precision, label='precision')\n",
        "    plt.plot(recall, label='recall')\n",
        "    plt.plot((precision + recall) / 2, label='average')\n",
        "    plt.plot(list(F_score(b, precision, recall)), label='f')\n",
        "    plt.legend()\n",
        "\n",
        "plt_f()"
      ],
      "metadata": {
        "colab": {
          "base_uri": "https://localhost:8080/",
          "height": 265
        },
        "id": "wKZ0NZ1coIGw",
        "outputId": "6d9a3e07-cc0b-4942-be8f-3263d683db85"
      },
      "execution_count": null,
      "outputs": [
        {
          "output_type": "display_data",
          "data": {
            "text/plain": [
              "<Figure size 432x288 with 1 Axes>"
            ],
            "image/png": "[encoded data removed]"
          },
          "metadata": {
            "needs_background": "light"
          }
        }
      ]
    },
    {
      "cell_type": "markdown",
      "source": [
        "Гармоническое среднее взвешенно относительно минимального, тем самым минимизируется влияние больших выбросов и максимизируется влияние малых. "
      ],
      "metadata": {
        "id": "7a6TT8Jss_-f"
      }
    }
  ]
}