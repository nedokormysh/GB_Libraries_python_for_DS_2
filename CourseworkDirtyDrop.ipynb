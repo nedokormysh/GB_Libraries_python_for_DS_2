{
  "nbformat": 4,
  "nbformat_minor": 0,
  "metadata": {
    "colab": {
      "name": "CourseworkDirtyDrop.ipynb",
      "provenance": [],
      "collapsed_sections": [],
      "toc_visible": true,
      "authorship_tag": "ABX9TyNdzkBbrjk2EP5P5YGEe/qg",
      "include_colab_link": true
    },
    "kernelspec": {
      "name": "python3",
      "display_name": "Python 3"
    },
    "language_info": {
      "name": "python"
    }
  },
  "cells": [
    {
      "cell_type": "markdown",
      "metadata": {
        "id": "view-in-github",
        "colab_type": "text"
      },
      "source": [
        "<a href=\"https://colab.research.google.com/github/nedokormysh/GB_Libraries_python_for_DS_2/blob/CourseProject/CourseworkDirtyDrop.ipynb\" target=\"_parent\"><img src=\"https://colab.research.google.com/assets/colab-badge.svg\" alt=\"Open In Colab\"/></a>"
      ]
    },
    {
      "cell_type": "markdown",
      "source": [
        "# Постановка задачи<a class=\"anchor\" id=\"course_project_task\"></a>"
      ],
      "metadata": {
        "id": "bq-XAvgWfvu8"
      }
    },
    {
      "cell_type": "markdown",
      "source": [
        "**Задача**\n",
        "\n",
        "На основании имеющихся данных о клиентах банка требуется построить модель для прогнозирования невыполнения долговых обязательств по текущему кредиту, используя обучающий датасет. Выполнить прогноз для примеров из тестового датасета.\n",
        "\n",
        "**Наименование файлов с данными**\n",
        "\n",
        "course_project_train.csv - обучающий датасет<br>\n",
        "course_project_test.csv - тестовый датасет\n",
        "\n",
        "**Целевая переменная**\n",
        "\n",
        "Credit Default - факт невыполнения кредитных обязательств\n",
        "\n",
        "**Метрика качества**\n",
        "\n",
        "F1-score (sklearn.metrics.f1_score)\n",
        "\n",
        "**Требования к решению**\n",
        "\n",
        "*Целевая метрика*\n",
        "* F1($\\beta$ = 1) > 0.5 при Precision > 0.5 и Recall > 0.5\n",
        "* Метрика оценивается по качеству прогноза для главного класса (1 - просрочка по кредиту)\n",
        "\n",
        "*Решение должно содержать*\n",
        "1. Тетрадка Jupyter Notebook с кодом Вашего решения, названная по образцу {ФИО}\\_solution.ipynb, пример SShirkin\\_solution.ipynb\n",
        "2. Файл CSV с прогнозами целевой переменной для тестового датасета, названный по образцу {ФИО}\\_predictions.csv, пример SShirkin\\_predictions.csv\n",
        "\n",
        "*Рекомендации для файла с кодом (ipynb)*\n",
        "1. Файл должен содержать заголовки и комментарии (markdown)\n",
        "2. Повторяющиеся операции лучше оформлять в виде функций\n",
        "3. Не делать вывод большого количества строк таблиц (5-10 достаточно)\n",
        "4. По возможности добавлять графики, описывающие данные (около 3-5)\n",
        "5. Добавлять только лучшую модель, то есть не включать в код все варианты решения проекта\n",
        "6. Скрипт проекта должен отрабатывать от начала и до конца (от загрузки данных до выгрузки предсказаний)\n",
        "7. Весь проект должен быть в одном скрипте (файл ipynb).\n",
        "8. Допускается применение библиотек Python и моделей машинного обучения,\n",
        "которые были в данном курсе.\n",
        "\n",
        "**Сроки сдачи**\n",
        "\n",
        "Cдать проект нужно в течение 5 дней после окончания последнего вебинара.\n",
        "Оценки работ, сданных до дедлайна, будут представлены в виде рейтинга, ранжированного по заданной метрике качества.\n",
        "Проекты, сданные после дедлайна или сданные повторно, не попадают в рейтинг, но можно будет узнать результат."
      ],
      "metadata": {
        "id": "NnER0vSvfz_B"
      }
    },
    {
      "cell_type": "markdown",
      "source": [
        "## Примерное описание этапов выполнения курсового проекта<a class=\"anchor\" id=\"course_project_steps\"></a>"
      ],
      "metadata": {
        "id": "K26d5GGOf1RS"
      }
    },
    {
      "cell_type": "markdown",
      "source": [
        "**Построение модели классификации**\n",
        "1. Обзор обучающего датасета\n",
        "2. Обработка выбросов\n",
        "3. Обработка пропусков\n",
        "4. Анализ данных\n",
        "5. Отбор признаков\n",
        "6. Балансировка классов\n",
        "7. Подбор моделей, получение бейзлана\n",
        "8. Выбор наилучшей модели, настройка гиперпараметров\n",
        "9. Проверка качества, борьба с переобучением\n",
        "10. Интерпретация результатов\n",
        "\n",
        "**Прогнозирование на тестовом датасете**\n",
        "1. Выполнить для тестового датасета те же этапы обработки и постронияния признаков\n",
        "2. Спрогнозировать целевую переменную, используя модель, построенную на обучающем датасете\n",
        "3. Прогнозы должны быть для всех примеров из тестового датасета (для всех строк)\n",
        "4. Соблюдать исходный порядок примеров из тестового датасета"
      ],
      "metadata": {
        "id": "9NvnZKdmf5Im"
      }
    },
    {
      "cell_type": "markdown",
      "source": [
        "## Обзор данных<a class=\"anchor\" id=\"course_project_review\"></a>"
      ],
      "metadata": {
        "id": "XW9QZQp2gp3j"
      }
    },
    {
      "cell_type": "markdown",
      "source": [
        "**Описание датасета**\n",
        "\n",
        "* **Home Ownership** - домовладение\n",
        "* **Annual Income** - годовой доход\n",
        "* **Years in current job** - количество лет на текущем месте работы\n",
        "* **Tax Liens** - налоговые обременения\n",
        "* **Number of Open Accounts** - количество открытых счетов\n",
        "* **Years of Credit History** - количество лет кредитной истории\n",
        "* **Maximum Open Credit** - наибольший открытый кредит\n",
        "* **Number of Credit Problems** - количество проблем с кредитом\n",
        "* **Months since last delinquent** - количество месяцев с последней просрочки платежа\n",
        "* **Bankruptcies** - банкротства\n",
        "* **Purpose** - цель кредита\n",
        "* **Term** - срок кредита\n",
        "* **Current Loan Amount** - текущая сумма кредита\n",
        "* **Current Credit Balance** - текущий кредитный баланс\n",
        "* **Monthly Debt** - ежемесячный долг\n",
        "* **Credit Score** - кредитный рейтинг\n",
        "* **Credit Default** - факт невыполнения кредитных обязательств (0 - погашен вовремя, 1 - просрочка)"
      ],
      "metadata": {
        "id": "eeyAxcGCgqxA"
      }
    },
    {
      "cell_type": "markdown",
      "source": [
        "# Подключение библиотек и загрузка данных<a class=\"anchor\" id=\"load_data\"></a>"
      ],
      "metadata": {
        "id": "dFmqEGQFantm"
      }
    },
    {
      "cell_type": "code",
      "source": [
        "pip install catboost"
      ],
      "metadata": {
        "colab": {
          "base_uri": "https://localhost:8080/"
        },
        "id": "uzcAem9vlmyC",
        "outputId": "0a782082-2f15-4ca0-cda1-b1255d87cf0e"
      },
      "execution_count": 1,
      "outputs": [
        {
          "output_type": "stream",
          "name": "stdout",
          "text": [
            "Collecting catboost\n",
            "  Downloading catboost-1.0.5-cp37-none-manylinux1_x86_64.whl (76.6 MB)\n",
            "\u001b[K     |████████████████████████████████| 76.6 MB 45 kB/s \n",
            "\u001b[?25hRequirement already satisfied: six in /usr/local/lib/python3.7/dist-packages (from catboost) (1.15.0)\n",
            "Requirement already satisfied: plotly in /usr/local/lib/python3.7/dist-packages (from catboost) (5.5.0)\n",
            "Requirement already satisfied: graphviz in /usr/local/lib/python3.7/dist-packages (from catboost) (0.10.1)\n",
            "Requirement already satisfied: matplotlib in /usr/local/lib/python3.7/dist-packages (from catboost) (3.2.2)\n",
            "Requirement already satisfied: numpy>=1.16.0 in /usr/local/lib/python3.7/dist-packages (from catboost) (1.21.6)\n",
            "Requirement already satisfied: pandas>=0.24.0 in /usr/local/lib/python3.7/dist-packages (from catboost) (1.3.5)\n",
            "Requirement already satisfied: scipy in /usr/local/lib/python3.7/dist-packages (from catboost) (1.4.1)\n",
            "Requirement already satisfied: python-dateutil>=2.7.3 in /usr/local/lib/python3.7/dist-packages (from pandas>=0.24.0->catboost) (2.8.2)\n",
            "Requirement already satisfied: pytz>=2017.3 in /usr/local/lib/python3.7/dist-packages (from pandas>=0.24.0->catboost) (2022.1)\n",
            "Requirement already satisfied: pyparsing!=2.0.4,!=2.1.2,!=2.1.6,>=2.0.1 in /usr/local/lib/python3.7/dist-packages (from matplotlib->catboost) (3.0.8)\n",
            "Requirement already satisfied: kiwisolver>=1.0.1 in /usr/local/lib/python3.7/dist-packages (from matplotlib->catboost) (1.4.2)\n",
            "Requirement already satisfied: cycler>=0.10 in /usr/local/lib/python3.7/dist-packages (from matplotlib->catboost) (0.11.0)\n",
            "Requirement already satisfied: typing-extensions in /usr/local/lib/python3.7/dist-packages (from kiwisolver>=1.0.1->matplotlib->catboost) (4.1.1)\n",
            "Requirement already satisfied: tenacity>=6.2.0 in /usr/local/lib/python3.7/dist-packages (from plotly->catboost) (8.0.1)\n",
            "Installing collected packages: catboost\n",
            "Successfully installed catboost-1.0.5\n"
          ]
        }
      ]
    },
    {
      "cell_type": "code",
      "source": [
        "import pandas as pd\n",
        "import numpy as np\n",
        "import pickle\n",
        "\n",
        "\n",
        "import matplotlib\n",
        "import matplotlib.pyplot as plt\n",
        "import seaborn as sns\n",
        "%matplotlib inline\n",
        "\n",
        "\n",
        "from sklearn.model_selection import train_test_split, ShuffleSplit, cross_val_score, learning_curve\n",
        "from sklearn.metrics import classification_report, f1_score, precision_score, recall_score\n",
        "from sklearn.model_selection import KFold, GridSearchCV, RandomizedSearchCV\n",
        "from scipy.stats import chi2_contingency\n",
        "import xgboost as xgb\n",
        "import catboost as catb\n",
        "\n",
        "\n",
        "from scipy.stats import shapiro, probplot, mannwhitneyu"
      ],
      "metadata": {
        "id": "EklUSrWIgVqs"
      },
      "execution_count": 3,
      "outputs": []
    },
    {
      "cell_type": "code",
      "source": [
        "\"\"\"Отчет с метриками модели\"\"\"\n",
        "def get_classification_report(y_train_true, y_train_pred, y_test_true, y_test_pred):\n",
        "    print('TRAIN\\n\\n' + classification_report(y_train_true, y_train_pred))\n",
        "    print('TEST\\n\\n' + classification_report(y_test_true, y_test_pred))\n",
        "    print('CONFUSION MATRIX\\n')\n",
        "    print(pd.crosstab(y_test_true, y_test_pred))"
      ],
      "metadata": {
        "id": "CSQR-gCMI1wA"
      },
      "execution_count": 4,
      "outputs": []
    },
    {
      "cell_type": "code",
      "source": [
        "TRAIN_DATASET_PATH = 'https://raw.githubusercontent.com/nedokormysh/GB_Libraries_python_for_DS_2/CourseProject/course_project_train.csv'\n",
        "TEST_DATASET_PATH = 'https://raw.githubusercontent.com/nedokormysh/GB_Libraries_python_for_DS_2/CourseProject/course_project_test.csv'"
      ],
      "metadata": {
        "id": "S66ykHKfIrAv"
      },
      "execution_count": 5,
      "outputs": []
    },
    {
      "cell_type": "markdown",
      "source": [
        "#**Построение модели классификации**"
      ],
      "metadata": {
        "id": "s7dCmTw4r4IH"
      }
    },
    {
      "cell_type": "markdown",
      "source": [
        "## 1. Обзор обучающего датасета."
      ],
      "metadata": {
        "id": "XWdjrB5u-n00"
      }
    },
    {
      "cell_type": "code",
      "source": [
        "df_train = pd.read_csv(TRAIN_DATASET_PATH)\n",
        "df_train.columns = [x.replace(\" \", \"_\") for x in df_train.columns]\n",
        "df_train.head().T"
      ],
      "metadata": {
        "colab": {
          "base_uri": "https://localhost:8080/",
          "height": 582
        },
        "id": "gLn8CDR5hCJG",
        "outputId": "427d9e73-6184-48d5-ee6a-523347578205"
      },
      "execution_count": 6,
      "outputs": [
        {
          "output_type": "execute_result",
          "data": {
            "text/plain": [
              "                                               0                   1  \\\n",
              "Home_Ownership                          Own Home            Own Home   \n",
              "Annual_Income                           482087.0           1025487.0   \n",
              "Years_in_current_job                         NaN           10+ years   \n",
              "Tax_Liens                                    0.0                 0.0   \n",
              "Number_of_Open_Accounts                     11.0                15.0   \n",
              "Years_of_Credit_History                     26.3                15.3   \n",
              "Maximum_Open_Credit                     685960.0           1181730.0   \n",
              "Number_of_Credit_Problems                    1.0                 0.0   \n",
              "Months_since_last_delinquent                 NaN                 NaN   \n",
              "Bankruptcies                                 1.0                 0.0   \n",
              "Purpose                       debt consolidation  debt consolidation   \n",
              "Term                                  Short Term           Long Term   \n",
              "Current_Loan_Amount                   99999999.0            264968.0   \n",
              "Current_Credit_Balance                   47386.0            394972.0   \n",
              "Monthly_Debt                              7914.0             18373.0   \n",
              "Credit_Score                               749.0               737.0   \n",
              "Credit_Default                                 0                   1   \n",
              "\n",
              "                                               2                   3  \\\n",
              "Home_Ownership                     Home Mortgage            Own Home   \n",
              "Annual_Income                           751412.0            805068.0   \n",
              "Years_in_current_job                     8 years             6 years   \n",
              "Tax_Liens                                    0.0                 0.0   \n",
              "Number_of_Open_Accounts                     11.0                 8.0   \n",
              "Years_of_Credit_History                     35.0                22.5   \n",
              "Maximum_Open_Credit                    1182434.0            147400.0   \n",
              "Number_of_Credit_Problems                    0.0                 1.0   \n",
              "Months_since_last_delinquent                 NaN                 NaN   \n",
              "Bankruptcies                                 0.0                 1.0   \n",
              "Purpose                       debt consolidation  debt consolidation   \n",
              "Term                                  Short Term          Short Term   \n",
              "Current_Loan_Amount                   99999999.0            121396.0   \n",
              "Current_Credit_Balance                  308389.0             95855.0   \n",
              "Monthly_Debt                             13651.0             11338.0   \n",
              "Credit_Score                               742.0               694.0   \n",
              "Credit_Default                                 0                   0   \n",
              "\n",
              "                                               4  \n",
              "Home_Ownership                              Rent  \n",
              "Annual_Income                           776264.0  \n",
              "Years_in_current_job                     8 years  \n",
              "Tax_Liens                                    0.0  \n",
              "Number_of_Open_Accounts                     13.0  \n",
              "Years_of_Credit_History                     13.6  \n",
              "Maximum_Open_Credit                     385836.0  \n",
              "Number_of_Credit_Problems                    1.0  \n",
              "Months_since_last_delinquent                 NaN  \n",
              "Bankruptcies                                 0.0  \n",
              "Purpose                       debt consolidation  \n",
              "Term                                  Short Term  \n",
              "Current_Loan_Amount                     125840.0  \n",
              "Current_Credit_Balance                   93309.0  \n",
              "Monthly_Debt                              7180.0  \n",
              "Credit_Score                               719.0  \n",
              "Credit_Default                                 0  "
            ],
            "text/html": [
              "\n",
              "  <div id=\"df-4cc0f131-7e21-4b1b-87ef-ad64191ea44e\">\n",
              "    <div class=\"colab-df-container\">\n",
              "      <div>\n",
              "<style scoped>\n",
              "    .dataframe tbody tr th:only-of-type {\n",
              "        vertical-align: middle;\n",
              "    }\n",
              "\n",
              "    .dataframe tbody tr th {\n",
              "        vertical-align: top;\n",
              "    }\n",
              "\n",
              "    .dataframe thead th {\n",
              "        text-align: right;\n",
              "    }\n",
              "</style>\n",
              "<table border=\"1\" class=\"dataframe\">\n",
              "  <thead>\n",
              "    <tr style=\"text-align: right;\">\n",
              "      <th></th>\n",
              "      <th>0</th>\n",
              "      <th>1</th>\n",
              "      <th>2</th>\n",
              "      <th>3</th>\n",
              "      <th>4</th>\n",
              "    </tr>\n",
              "  </thead>\n",
              "  <tbody>\n",
              "    <tr>\n",
              "      <th>Home_Ownership</th>\n",
              "      <td>Own Home</td>\n",
              "      <td>Own Home</td>\n",
              "      <td>Home Mortgage</td>\n",
              "      <td>Own Home</td>\n",
              "      <td>Rent</td>\n",
              "    </tr>\n",
              "    <tr>\n",
              "      <th>Annual_Income</th>\n",
              "      <td>482087.0</td>\n",
              "      <td>1025487.0</td>\n",
              "      <td>751412.0</td>\n",
              "      <td>805068.0</td>\n",
              "      <td>776264.0</td>\n",
              "    </tr>\n",
              "    <tr>\n",
              "      <th>Years_in_current_job</th>\n",
              "      <td>NaN</td>\n",
              "      <td>10+ years</td>\n",
              "      <td>8 years</td>\n",
              "      <td>6 years</td>\n",
              "      <td>8 years</td>\n",
              "    </tr>\n",
              "    <tr>\n",
              "      <th>Tax_Liens</th>\n",
              "      <td>0.0</td>\n",
              "      <td>0.0</td>\n",
              "      <td>0.0</td>\n",
              "      <td>0.0</td>\n",
              "      <td>0.0</td>\n",
              "    </tr>\n",
              "    <tr>\n",
              "      <th>Number_of_Open_Accounts</th>\n",
              "      <td>11.0</td>\n",
              "      <td>15.0</td>\n",
              "      <td>11.0</td>\n",
              "      <td>8.0</td>\n",
              "      <td>13.0</td>\n",
              "    </tr>\n",
              "    <tr>\n",
              "      <th>Years_of_Credit_History</th>\n",
              "      <td>26.3</td>\n",
              "      <td>15.3</td>\n",
              "      <td>35.0</td>\n",
              "      <td>22.5</td>\n",
              "      <td>13.6</td>\n",
              "    </tr>\n",
              "    <tr>\n",
              "      <th>Maximum_Open_Credit</th>\n",
              "      <td>685960.0</td>\n",
              "      <td>1181730.0</td>\n",
              "      <td>1182434.0</td>\n",
              "      <td>147400.0</td>\n",
              "      <td>385836.0</td>\n",
              "    </tr>\n",
              "    <tr>\n",
              "      <th>Number_of_Credit_Problems</th>\n",
              "      <td>1.0</td>\n",
              "      <td>0.0</td>\n",
              "      <td>0.0</td>\n",
              "      <td>1.0</td>\n",
              "      <td>1.0</td>\n",
              "    </tr>\n",
              "    <tr>\n",
              "      <th>Months_since_last_delinquent</th>\n",
              "      <td>NaN</td>\n",
              "      <td>NaN</td>\n",
              "      <td>NaN</td>\n",
              "      <td>NaN</td>\n",
              "      <td>NaN</td>\n",
              "    </tr>\n",
              "    <tr>\n",
              "      <th>Bankruptcies</th>\n",
              "      <td>1.0</td>\n",
              "      <td>0.0</td>\n",
              "      <td>0.0</td>\n",
              "      <td>1.0</td>\n",
              "      <td>0.0</td>\n",
              "    </tr>\n",
              "    <tr>\n",
              "      <th>Purpose</th>\n",
              "      <td>debt consolidation</td>\n",
              "      <td>debt consolidation</td>\n",
              "      <td>debt consolidation</td>\n",
              "      <td>debt consolidation</td>\n",
              "      <td>debt consolidation</td>\n",
              "    </tr>\n",
              "    <tr>\n",
              "      <th>Term</th>\n",
              "      <td>Short Term</td>\n",
              "      <td>Long Term</td>\n",
              "      <td>Short Term</td>\n",
              "      <td>Short Term</td>\n",
              "      <td>Short Term</td>\n",
              "    </tr>\n",
              "    <tr>\n",
              "      <th>Current_Loan_Amount</th>\n",
              "      <td>99999999.0</td>\n",
              "      <td>264968.0</td>\n",
              "      <td>99999999.0</td>\n",
              "      <td>121396.0</td>\n",
              "      <td>125840.0</td>\n",
              "    </tr>\n",
              "    <tr>\n",
              "      <th>Current_Credit_Balance</th>\n",
              "      <td>47386.0</td>\n",
              "      <td>394972.0</td>\n",
              "      <td>308389.0</td>\n",
              "      <td>95855.0</td>\n",
              "      <td>93309.0</td>\n",
              "    </tr>\n",
              "    <tr>\n",
              "      <th>Monthly_Debt</th>\n",
              "      <td>7914.0</td>\n",
              "      <td>18373.0</td>\n",
              "      <td>13651.0</td>\n",
              "      <td>11338.0</td>\n",
              "      <td>7180.0</td>\n",
              "    </tr>\n",
              "    <tr>\n",
              "      <th>Credit_Score</th>\n",
              "      <td>749.0</td>\n",
              "      <td>737.0</td>\n",
              "      <td>742.0</td>\n",
              "      <td>694.0</td>\n",
              "      <td>719.0</td>\n",
              "    </tr>\n",
              "    <tr>\n",
              "      <th>Credit_Default</th>\n",
              "      <td>0</td>\n",
              "      <td>1</td>\n",
              "      <td>0</td>\n",
              "      <td>0</td>\n",
              "      <td>0</td>\n",
              "    </tr>\n",
              "  </tbody>\n",
              "</table>\n",
              "</div>\n",
              "      <button class=\"colab-df-convert\" onclick=\"convertToInteractive('df-4cc0f131-7e21-4b1b-87ef-ad64191ea44e')\"\n",
              "              title=\"Convert this dataframe to an interactive table.\"\n",
              "              style=\"display:none;\">\n",
              "        \n",
              "  <svg xmlns=\"http://www.w3.org/2000/svg\" height=\"24px\"viewBox=\"0 0 24 24\"\n",
              "       width=\"24px\">\n",
              "    <path d=\"M0 0h24v24H0V0z\" fill=\"none\"/>\n",
              "    <path d=\"M18.56 5.44l.94 2.06.94-2.06 2.06-.94-2.06-.94-.94-2.06-.94 2.06-2.06.94zm-11 1L8.5 8.5l.94-2.06 2.06-.94-2.06-.94L8.5 2.5l-.94 2.06-2.06.94zm10 10l.94 2.06.94-2.06 2.06-.94-2.06-.94-.94-2.06-.94 2.06-2.06.94z\"/><path d=\"M17.41 7.96l-1.37-1.37c-.4-.4-.92-.59-1.43-.59-.52 0-1.04.2-1.43.59L10.3 9.45l-7.72 7.72c-.78.78-.78 2.05 0 2.83L4 21.41c.39.39.9.59 1.41.59.51 0 1.02-.2 1.41-.59l7.78-7.78 2.81-2.81c.8-.78.8-2.07 0-2.86zM5.41 20L4 18.59l7.72-7.72 1.47 1.35L5.41 20z\"/>\n",
              "  </svg>\n",
              "      </button>\n",
              "      \n",
              "  <style>\n",
              "    .colab-df-container {\n",
              "      display:flex;\n",
              "      flex-wrap:wrap;\n",
              "      gap: 12px;\n",
              "    }\n",
              "\n",
              "    .colab-df-convert {\n",
              "      background-color: #E8F0FE;\n",
              "      border: none;\n",
              "      border-radius: 50%;\n",
              "      cursor: pointer;\n",
              "      display: none;\n",
              "      fill: #1967D2;\n",
              "      height: 32px;\n",
              "      padding: 0 0 0 0;\n",
              "      width: 32px;\n",
              "    }\n",
              "\n",
              "    .colab-df-convert:hover {\n",
              "      background-color: #E2EBFA;\n",
              "      box-shadow: 0px 1px 2px rgba(60, 64, 67, 0.3), 0px 1px 3px 1px rgba(60, 64, 67, 0.15);\n",
              "      fill: #174EA6;\n",
              "    }\n",
              "\n",
              "    [theme=dark] .colab-df-convert {\n",
              "      background-color: #3B4455;\n",
              "      fill: #D2E3FC;\n",
              "    }\n",
              "\n",
              "    [theme=dark] .colab-df-convert:hover {\n",
              "      background-color: #434B5C;\n",
              "      box-shadow: 0px 1px 3px 1px rgba(0, 0, 0, 0.15);\n",
              "      filter: drop-shadow(0px 1px 2px rgba(0, 0, 0, 0.3));\n",
              "      fill: #FFFFFF;\n",
              "    }\n",
              "  </style>\n",
              "\n",
              "      <script>\n",
              "        const buttonEl =\n",
              "          document.querySelector('#df-4cc0f131-7e21-4b1b-87ef-ad64191ea44e button.colab-df-convert');\n",
              "        buttonEl.style.display =\n",
              "          google.colab.kernel.accessAllowed ? 'block' : 'none';\n",
              "\n",
              "        async function convertToInteractive(key) {\n",
              "          const element = document.querySelector('#df-4cc0f131-7e21-4b1b-87ef-ad64191ea44e');\n",
              "          const dataTable =\n",
              "            await google.colab.kernel.invokeFunction('convertToInteractive',\n",
              "                                                     [key], {});\n",
              "          if (!dataTable) return;\n",
              "\n",
              "          const docLinkHtml = 'Like what you see? Visit the ' +\n",
              "            '<a target=\"_blank\" href=https://colab.research.google.com/notebooks/data_table.ipynb>data table notebook</a>'\n",
              "            + ' to learn more about interactive tables.';\n",
              "          element.innerHTML = '';\n",
              "          dataTable['output_type'] = 'display_data';\n",
              "          await google.colab.output.renderOutput(dataTable, element);\n",
              "          const docLink = document.createElement('div');\n",
              "          docLink.innerHTML = docLinkHtml;\n",
              "          element.appendChild(docLink);\n",
              "        }\n",
              "      </script>\n",
              "    </div>\n",
              "  </div>\n",
              "  "
            ]
          },
          "metadata": {},
          "execution_count": 6
        }
      ]
    },
    {
      "cell_type": "markdown",
      "source": [
        "Проверка на дубликаты."
      ],
      "metadata": {
        "id": "WXqhJ-lJKIqM"
      }
    },
    {
      "cell_type": "code",
      "source": [
        "df_train.duplicated().value_counts()"
      ],
      "metadata": {
        "colab": {
          "base_uri": "https://localhost:8080/"
        },
        "id": "Dek3Wd4dJ7NR",
        "outputId": "e576cd55-94f0-48cf-c7b2-5efadb637fc8"
      },
      "execution_count": 11,
      "outputs": [
        {
          "output_type": "execute_result",
          "data": {
            "text/plain": [
              "False    7500\n",
              "dtype: int64"
            ]
          },
          "metadata": {},
          "execution_count": 11
        }
      ]
    },
    {
      "cell_type": "markdown",
      "source": [
        "Общая информация о датасете."
      ],
      "metadata": {
        "id": "T3u-XaohMLPz"
      }
    },
    {
      "cell_type": "code",
      "source": [
        "df_train.info()"
      ],
      "metadata": {
        "colab": {
          "base_uri": "https://localhost:8080/"
        },
        "id": "VUPf6svuU4nx",
        "outputId": "2e0f45ca-62fa-4276-ef69-0da37fb36915"
      },
      "execution_count": null,
      "outputs": [
        {
          "output_type": "stream",
          "name": "stdout",
          "text": [
            "<class 'pandas.core.frame.DataFrame'>\n",
            "RangeIndex: 7500 entries, 0 to 7499\n",
            "Data columns (total 17 columns):\n",
            " #   Column                        Non-Null Count  Dtype  \n",
            "---  ------                        --------------  -----  \n",
            " 0   Home_Ownership                7500 non-null   object \n",
            " 1   Annual_Income                 5943 non-null   float64\n",
            " 2   Years_in_current_job          7129 non-null   object \n",
            " 3   Tax_Liens                     7500 non-null   float64\n",
            " 4   Number_of_Open_Accounts       7500 non-null   float64\n",
            " 5   Years_of_Credit_History       7500 non-null   float64\n",
            " 6   Maximum_Open_Credit           7500 non-null   float64\n",
            " 7   Number_of_Credit_Problems     7500 non-null   float64\n",
            " 8   Months_since_last_delinquent  3419 non-null   float64\n",
            " 9   Bankruptcies                  7486 non-null   float64\n",
            " 10  Purpose                       7500 non-null   object \n",
            " 11  Term                          7500 non-null   object \n",
            " 12  Current_Loan_Amount           7500 non-null   float64\n",
            " 13  Current_Credit_Balance        7500 non-null   float64\n",
            " 14  Monthly_Debt                  7500 non-null   float64\n",
            " 15  Credit_Score                  5943 non-null   float64\n",
            " 16  Credit_Default                7500 non-null   int64  \n",
            "dtypes: float64(12), int64(1), object(4)\n",
            "memory usage: 996.2+ KB\n"
          ]
        }
      ]
    },
    {
      "cell_type": "markdown",
      "source": [
        "Существуют пропуски \n",
        "\n",
        "1.   Bankruptcies\n",
        "2.   Credit_Score\n",
        "3.   Years_in_current_job\n",
        "4.   Annual_Income\n",
        "5.   Months_since_last_delinquent\n",
        "\n"
      ],
      "metadata": {
        "id": "gla9_a_SMVtU"
      }
    },
    {
      "cell_type": "code",
      "source": [
        "print(f'В обучающейм датафрейме {df_train.shape[0]} строк и {df_train.shape[1]} столбцов')"
      ],
      "metadata": {
        "colab": {
          "base_uri": "https://localhost:8080/"
        },
        "id": "-h-Evv_okVuw",
        "outputId": "05323e2d-9b57-48a6-bd3f-aa467f570a69"
      },
      "execution_count": 12,
      "outputs": [
        {
          "output_type": "stream",
          "name": "stdout",
          "text": [
            "В обучающейм датафрейме 7500 строк и 17 столбцов\n"
          ]
        }
      ]
    },
    {
      "cell_type": "markdown",
      "source": [
        "**Признаки датасета.**"
      ],
      "metadata": {
        "id": "NpWFSGrChPPC"
      }
    },
    {
      "cell_type": "code",
      "source": [
        "nl = '\\n'\n",
        "print(f\"Названия столбцов в обучающем датафрейме: {nl}{df_train.columns}\")"
      ],
      "metadata": {
        "colab": {
          "base_uri": "https://localhost:8080/"
        },
        "id": "e56D3ffJhfkN",
        "outputId": "dddaacaf-a366-48ab-c49b-0f63de214efb"
      },
      "execution_count": 13,
      "outputs": [
        {
          "output_type": "stream",
          "name": "stdout",
          "text": [
            "Названия столбцов в обучающем датафрейме: \n",
            "Index(['Home_Ownership', 'Annual_Income', 'Years_in_current_job', 'Tax_Liens',\n",
            "       'Number_of_Open_Accounts', 'Years_of_Credit_History',\n",
            "       'Maximum_Open_Credit', 'Number_of_Credit_Problems',\n",
            "       'Months_since_last_delinquent', 'Bankruptcies', 'Purpose', 'Term',\n",
            "       'Current_Loan_Amount', 'Current_Credit_Balance', 'Monthly_Debt',\n",
            "       'Credit_Score', 'Credit_Default'],\n",
            "      dtype='object')\n"
          ]
        }
      ]
    },
    {
      "cell_type": "markdown",
      "source": [
        "**Описание датасета**\n",
        "\n",
        "* **Home Ownership** - домовладение\n",
        "* **Annual Income** - годовой доход\n",
        "* **Years in current job** - количество лет на текущем месте работы\n",
        "* **Tax Liens** - налоговые обременения\n",
        "* **Number of Open Accounts** - количество открытых счетов\n",
        "* **Years of Credit History** - количество лет кредитной истории\n",
        "* **Maximum Open Credit** - наибольший открытый кредит\n",
        "* **Number of Credit Problems** - количество проблем с кредитом\n",
        "* **Months since last delinquent** - количество месяцев с последней просрочки платежа\n",
        "* **Bankruptcies** - банкротства\n",
        "* **Purpose** - цель кредита\n",
        "* **Term** - срок кредита\n",
        "* **Current Loan Amount** - текущая сумма кредита\n",
        "* **Current Credit Balance** - текущий кредитный баланс\n",
        "* **Monthly Debt** - ежемесячный долг\n",
        "* **Credit Score** - кредитный рейтинг\n",
        "* **Credit Default** - факт невыполнения кредитных обязательств (0 - погашен вовремя, 1 - просрочка)"
      ],
      "metadata": {
        "id": "8FibygMjiBy0"
      }
    },
    {
      "cell_type": "code",
      "source": [
        "target = 'Credit_Default'\n",
        "\n",
        "num_feat = list(df_train.select_dtypes(exclude='object').columns)\n",
        "nom_feat = list(df_train.select_dtypes(include='object').columns)\n",
        "print(f'Числовые признаки: {num_feat}')\n",
        "print(f'Номинативные признаки: {nom_feat}')\n",
        "print(f'Целевая переменная: {target}')"
      ],
      "metadata": {
        "colab": {
          "base_uri": "https://localhost:8080/"
        },
        "id": "I_csGOX9d0OB",
        "outputId": "d713a25d-1e1b-4566-ecb8-3fd8b01d730b"
      },
      "execution_count": 14,
      "outputs": [
        {
          "output_type": "stream",
          "name": "stdout",
          "text": [
            "Числовые признаки: ['Annual_Income', 'Tax_Liens', 'Number_of_Open_Accounts', 'Years_of_Credit_History', 'Maximum_Open_Credit', 'Number_of_Credit_Problems', 'Months_since_last_delinquent', 'Bankruptcies', 'Current_Loan_Amount', 'Current_Credit_Balance', 'Monthly_Debt', 'Credit_Score', 'Credit_Default']\n",
            "Номинативные признаки: ['Home_Ownership', 'Years_in_current_job', 'Purpose', 'Term']\n",
            "Целевая переменная: Credit_Default\n"
          ]
        }
      ]
    },
    {
      "cell_type": "markdown",
      "source": [
        "### Обзор целевой переменной"
      ],
      "metadata": {
        "id": "zZMvw3WQuOjk"
      }
    },
    {
      "cell_type": "markdown",
      "source": [
        "Распределение значений целевой переменной"
      ],
      "metadata": {
        "id": "AZPS3O_cNzTi"
      }
    },
    {
      "cell_type": "code",
      "source": [
        "# нормирование на размер датасета\n",
        "norm_target = (df_train.Credit_Default.value_counts(normalize=True).mul(100).rename('percent').reset_index())\n",
        "\n",
        "plt.figure(figsize=(15, 7))\n",
        "ax = sns.barplot(x='index', y='percent', data=norm_target)\n",
        "\n",
        "# Вывод значений над графиками - annotate()\n",
        "# В цикле смотрим каждый столбец графика и на нем отмечаем значения\n",
        "for p in ax.patches:\n",
        "    percentage = '{:.1f}%'.format(p.get_height())\n",
        "    ax.annotate(percentage,  # текст\n",
        "                (p.get_x() + p.get_width() / 2., p.get_height()),  # координата xy\n",
        "                ha='center', # центрирование\n",
        "                va='center',\n",
        "                xytext=(0, 10),\n",
        "                textcoords='offset points', # точка смещения относительно координаты\n",
        "                fontsize=14)\n",
        "\n",
        "plt.title('Целевая переменная', fontsize=20)\n",
        "\n",
        "plt.xlabel('Credit Default', fontsize=14)\n",
        "plt.ylabel('Проценты', fontsize=14)\n",
        "\n",
        "plt.xticks(fontsize=14)\n",
        "plt.yticks(fontsize=14);"
      ],
      "metadata": {
        "colab": {
          "base_uri": "https://localhost:8080/",
          "height": 471
        },
        "id": "utq8F1T5vvZL",
        "outputId": "f8d63ff5-b708-4abe-d46e-5cece97d9cb9"
      },
      "execution_count": 16,
      "outputs": [
        {
          "output_type": "display_data",
          "data": {
            "text/plain": [
              "<Figure size 1080x504 with 1 Axes>"
            ],
            "image/png": "[encoded data removed]"
          },
          "metadata": {
            "needs_background": "light"
          }
        }
      ]
    },
    {
      "cell_type": "markdown",
      "source": [
        "В датесете присутствует дисбаланс классов, при обучении модели это стоит учитывать.  Определим дисбаланс целевой переменной."
      ],
      "metadata": {
        "id": "JMdddxT4yXAf"
      }
    },
    {
      "cell_type": "code",
      "source": [
        "disbalance = df_train['Credit_Default'].value_counts()[0] / df_train['Credit_Default'].value_counts()[1]\n",
        "disbalance"
      ],
      "metadata": {
        "colab": {
          "base_uri": "https://localhost:8080/"
        },
        "id": "aZKFFbUpId9A",
        "outputId": "879edfab-39bd-4028-f211-d73661dbad86"
      },
      "execution_count": 15,
      "outputs": [
        {
          "output_type": "execute_result",
          "data": {
            "text/plain": [
              "2.549455750118315"
            ]
          },
          "metadata": {},
          "execution_count": 15
        }
      ]
    },
    {
      "cell_type": "markdown",
      "source": [
        "### Номинативные признаки."
      ],
      "metadata": {
        "id": "r1967kwb-yN6"
      }
    },
    {
      "cell_type": "code",
      "source": [
        "def nom_feat_value_counts(nom_feat):\n",
        "  for el in range(0, len(nom_feat)):\n",
        "    print('\\033[1m' + f'Уникальные значения номинативного признака {nom_feat[el]}:{nl * 2}'\n",
        "     + '\\033[0m' + f'{df_train[nom_feat[el]].value_counts()}{nl}')\n",
        "    print('-' * 80)\n",
        "\n",
        "nom_feat_value_counts(nom_feat)"
      ],
      "metadata": {
        "id": "lLTpfNnDgttz",
        "colab": {
          "base_uri": "https://localhost:8080/"
        },
        "outputId": "dee8147b-b761-4f7e-c88d-ad6f8e65e8f7"
      },
      "execution_count": null,
      "outputs": [
        {
          "output_type": "stream",
          "name": "stdout",
          "text": [
            "\u001b[1mУникальные значения номинативного признака Home_Ownership:\n",
            "\n",
            "\u001b[0mHome Mortgage    3637\n",
            "Rent             3204\n",
            "Own Home          647\n",
            "Have Mortgage      12\n",
            "Name: Home_Ownership, dtype: int64\n",
            "\n",
            "--------------------------------------------------------------------------------\n",
            "\u001b[1mУникальные значения номинативного признака Years_in_current_job:\n",
            "\n",
            "\u001b[0m10+ years    2332\n",
            "2 years       705\n",
            "3 years       620\n",
            "< 1 year      563\n",
            "5 years       516\n",
            "1 year        504\n",
            "4 years       469\n",
            "6 years       426\n",
            "7 years       396\n",
            "8 years       339\n",
            "9 years       259\n",
            "Name: Years_in_current_job, dtype: int64\n",
            "\n",
            "--------------------------------------------------------------------------------\n",
            "\u001b[1mУникальные значения номинативного признака Purpose:\n",
            "\n",
            "\u001b[0mdebt consolidation      5944\n",
            "other                    665\n",
            "home improvements        412\n",
            "business loan            129\n",
            "buy a car                 96\n",
            "medical bills             71\n",
            "major purchase            40\n",
            "take a trip               37\n",
            "buy house                 34\n",
            "small business            26\n",
            "wedding                   15\n",
            "moving                    11\n",
            "educational expenses      10\n",
            "vacation                   8\n",
            "renewable energy           2\n",
            "Name: Purpose, dtype: int64\n",
            "\n",
            "--------------------------------------------------------------------------------\n",
            "\u001b[1mУникальные значения номинативного признака Term:\n",
            "\n",
            "\u001b[0mShort Term    5556\n",
            "Long Term     1944\n",
            "Name: Term, dtype: int64\n",
            "\n",
            "--------------------------------------------------------------------------------\n"
          ]
        }
      ]
    },
    {
      "cell_type": "markdown",
      "source": [
        "Заменим номинативный признак Years_in_current_job на числовые значения."
      ],
      "metadata": {
        "id": "OS5ztRh6A5Vx"
      }
    },
    {
      "cell_type": "code",
      "source": [
        "years_job_dict = {'< 1 year': 0,\n",
        "                  '1 year': 1,\n",
        "                  '2 years': 2,\n",
        "                  '3 years': 3,\n",
        "                  '4 years': 4,\n",
        "                  '5 years': 5,\n",
        "                  '6 years': 6,\n",
        "                  '7 years': 7,\n",
        "                  '8 years': 8,\n",
        "                  '9 years': 9,\n",
        "                  '10+ years': 10}\n",
        "\n",
        "df_train['Years_in_current_job'] = pd.Series(df_train.Years_in_current_job.map(years_job_dict), dtype='int8')"
      ],
      "metadata": {
        "id": "D97bSXy1AeVp"
      },
      "execution_count": null,
      "outputs": []
    },
    {
      "cell_type": "markdown",
      "source": [
        "Признак Term принимает всего два значения. Заменим их на 0 и 1."
      ],
      "metadata": {
        "id": "JylM9aP0zJkG"
      }
    },
    {
      "cell_type": "code",
      "source": [
        "term_dict = {'Short Term': 0, 'Long Term': 1}\n",
        "\n",
        "df_train.Term = pd.Series(df_train.Term.map(term_dict), dtype='int8')"
      ],
      "metadata": {
        "id": "_m2N9XcfzW42"
      },
      "execution_count": null,
      "outputs": []
    },
    {
      "cell_type": "code",
      "source": [
        "df_train.head().T"
      ],
      "metadata": {
        "colab": {
          "base_uri": "https://localhost:8080/",
          "height": 582
        },
        "id": "_PvbsFnmA1GF",
        "outputId": "dc2cbf92-08bd-4942-e479-5c584ed9828c"
      },
      "execution_count": null,
      "outputs": [
        {
          "output_type": "execute_result",
          "data": {
            "text/plain": [
              "                                               0                   1  \\\n",
              "Home_Ownership                          Own Home            Own Home   \n",
              "Annual_Income                           482087.0           1025487.0   \n",
              "Years_in_current_job                         NaN                10.0   \n",
              "Tax_Liens                                    0.0                 0.0   \n",
              "Number_of_Open_Accounts                     11.0                15.0   \n",
              "Years_of_Credit_History                     26.3                15.3   \n",
              "Maximum_Open_Credit                     685960.0           1181730.0   \n",
              "Number_of_Credit_Problems                    1.0                 0.0   \n",
              "Months_since_last_delinquent                 NaN                 NaN   \n",
              "Bankruptcies                                 1.0                 0.0   \n",
              "Purpose                       debt consolidation  debt consolidation   \n",
              "Term                                           0                   1   \n",
              "Current_Loan_Amount                   99999999.0            264968.0   \n",
              "Current_Credit_Balance                   47386.0            394972.0   \n",
              "Monthly_Debt                              7914.0             18373.0   \n",
              "Credit_Score                               749.0               737.0   \n",
              "Credit_Default                                 0                   1   \n",
              "\n",
              "                                               2                   3  \\\n",
              "Home_Ownership                     Home Mortgage            Own Home   \n",
              "Annual_Income                           751412.0            805068.0   \n",
              "Years_in_current_job                         8.0                 6.0   \n",
              "Tax_Liens                                    0.0                 0.0   \n",
              "Number_of_Open_Accounts                     11.0                 8.0   \n",
              "Years_of_Credit_History                     35.0                22.5   \n",
              "Maximum_Open_Credit                    1182434.0            147400.0   \n",
              "Number_of_Credit_Problems                    0.0                 1.0   \n",
              "Months_since_last_delinquent                 NaN                 NaN   \n",
              "Bankruptcies                                 0.0                 1.0   \n",
              "Purpose                       debt consolidation  debt consolidation   \n",
              "Term                                           0                   0   \n",
              "Current_Loan_Amount                   99999999.0            121396.0   \n",
              "Current_Credit_Balance                  308389.0             95855.0   \n",
              "Monthly_Debt                             13651.0             11338.0   \n",
              "Credit_Score                               742.0               694.0   \n",
              "Credit_Default                                 0                   0   \n",
              "\n",
              "                                               4  \n",
              "Home_Ownership                              Rent  \n",
              "Annual_Income                           776264.0  \n",
              "Years_in_current_job                         8.0  \n",
              "Tax_Liens                                    0.0  \n",
              "Number_of_Open_Accounts                     13.0  \n",
              "Years_of_Credit_History                     13.6  \n",
              "Maximum_Open_Credit                     385836.0  \n",
              "Number_of_Credit_Problems                    1.0  \n",
              "Months_since_last_delinquent                 NaN  \n",
              "Bankruptcies                                 0.0  \n",
              "Purpose                       debt consolidation  \n",
              "Term                                           0  \n",
              "Current_Loan_Amount                     125840.0  \n",
              "Current_Credit_Balance                   93309.0  \n",
              "Monthly_Debt                              7180.0  \n",
              "Credit_Score                               719.0  \n",
              "Credit_Default                                 0  "
            ],
            "text/html": [
              "\n",
              "  <div id=\"df-65c8a59b-131c-4118-b0ec-fa8d4a665de0\">\n",
              "    <div class=\"colab-df-container\">\n",
              "      <div>\n",
              "<style scoped>\n",
              "    .dataframe tbody tr th:only-of-type {\n",
              "        vertical-align: middle;\n",
              "    }\n",
              "\n",
              "    .dataframe tbody tr th {\n",
              "        vertical-align: top;\n",
              "    }\n",
              "\n",
              "    .dataframe thead th {\n",
              "        text-align: right;\n",
              "    }\n",
              "</style>\n",
              "<table border=\"1\" class=\"dataframe\">\n",
              "  <thead>\n",
              "    <tr style=\"text-align: right;\">\n",
              "      <th></th>\n",
              "      <th>0</th>\n",
              "      <th>1</th>\n",
              "      <th>2</th>\n",
              "      <th>3</th>\n",
              "      <th>4</th>\n",
              "    </tr>\n",
              "  </thead>\n",
              "  <tbody>\n",
              "    <tr>\n",
              "      <th>Home_Ownership</th>\n",
              "      <td>Own Home</td>\n",
              "      <td>Own Home</td>\n",
              "      <td>Home Mortgage</td>\n",
              "      <td>Own Home</td>\n",
              "      <td>Rent</td>\n",
              "    </tr>\n",
              "    <tr>\n",
              "      <th>Annual_Income</th>\n",
              "      <td>482087.0</td>\n",
              "      <td>1025487.0</td>\n",
              "      <td>751412.0</td>\n",
              "      <td>805068.0</td>\n",
              "      <td>776264.0</td>\n",
              "    </tr>\n",
              "    <tr>\n",
              "      <th>Years_in_current_job</th>\n",
              "      <td>NaN</td>\n",
              "      <td>10.0</td>\n",
              "      <td>8.0</td>\n",
              "      <td>6.0</td>\n",
              "      <td>8.0</td>\n",
              "    </tr>\n",
              "    <tr>\n",
              "      <th>Tax_Liens</th>\n",
              "      <td>0.0</td>\n",
              "      <td>0.0</td>\n",
              "      <td>0.0</td>\n",
              "      <td>0.0</td>\n",
              "      <td>0.0</td>\n",
              "    </tr>\n",
              "    <tr>\n",
              "      <th>Number_of_Open_Accounts</th>\n",
              "      <td>11.0</td>\n",
              "      <td>15.0</td>\n",
              "      <td>11.0</td>\n",
              "      <td>8.0</td>\n",
              "      <td>13.0</td>\n",
              "    </tr>\n",
              "    <tr>\n",
              "      <th>Years_of_Credit_History</th>\n",
              "      <td>26.3</td>\n",
              "      <td>15.3</td>\n",
              "      <td>35.0</td>\n",
              "      <td>22.5</td>\n",
              "      <td>13.6</td>\n",
              "    </tr>\n",
              "    <tr>\n",
              "      <th>Maximum_Open_Credit</th>\n",
              "      <td>685960.0</td>\n",
              "      <td>1181730.0</td>\n",
              "      <td>1182434.0</td>\n",
              "      <td>147400.0</td>\n",
              "      <td>385836.0</td>\n",
              "    </tr>\n",
              "    <tr>\n",
              "      <th>Number_of_Credit_Problems</th>\n",
              "      <td>1.0</td>\n",
              "      <td>0.0</td>\n",
              "      <td>0.0</td>\n",
              "      <td>1.0</td>\n",
              "      <td>1.0</td>\n",
              "    </tr>\n",
              "    <tr>\n",
              "      <th>Months_since_last_delinquent</th>\n",
              "      <td>NaN</td>\n",
              "      <td>NaN</td>\n",
              "      <td>NaN</td>\n",
              "      <td>NaN</td>\n",
              "      <td>NaN</td>\n",
              "    </tr>\n",
              "    <tr>\n",
              "      <th>Bankruptcies</th>\n",
              "      <td>1.0</td>\n",
              "      <td>0.0</td>\n",
              "      <td>0.0</td>\n",
              "      <td>1.0</td>\n",
              "      <td>0.0</td>\n",
              "    </tr>\n",
              "    <tr>\n",
              "      <th>Purpose</th>\n",
              "      <td>debt consolidation</td>\n",
              "      <td>debt consolidation</td>\n",
              "      <td>debt consolidation</td>\n",
              "      <td>debt consolidation</td>\n",
              "      <td>debt consolidation</td>\n",
              "    </tr>\n",
              "    <tr>\n",
              "      <th>Term</th>\n",
              "      <td>0</td>\n",
              "      <td>1</td>\n",
              "      <td>0</td>\n",
              "      <td>0</td>\n",
              "      <td>0</td>\n",
              "    </tr>\n",
              "    <tr>\n",
              "      <th>Current_Loan_Amount</th>\n",
              "      <td>99999999.0</td>\n",
              "      <td>264968.0</td>\n",
              "      <td>99999999.0</td>\n",
              "      <td>121396.0</td>\n",
              "      <td>125840.0</td>\n",
              "    </tr>\n",
              "    <tr>\n",
              "      <th>Current_Credit_Balance</th>\n",
              "      <td>47386.0</td>\n",
              "      <td>394972.0</td>\n",
              "      <td>308389.0</td>\n",
              "      <td>95855.0</td>\n",
              "      <td>93309.0</td>\n",
              "    </tr>\n",
              "    <tr>\n",
              "      <th>Monthly_Debt</th>\n",
              "      <td>7914.0</td>\n",
              "      <td>18373.0</td>\n",
              "      <td>13651.0</td>\n",
              "      <td>11338.0</td>\n",
              "      <td>7180.0</td>\n",
              "    </tr>\n",
              "    <tr>\n",
              "      <th>Credit_Score</th>\n",
              "      <td>749.0</td>\n",
              "      <td>737.0</td>\n",
              "      <td>742.0</td>\n",
              "      <td>694.0</td>\n",
              "      <td>719.0</td>\n",
              "    </tr>\n",
              "    <tr>\n",
              "      <th>Credit_Default</th>\n",
              "      <td>0</td>\n",
              "      <td>1</td>\n",
              "      <td>0</td>\n",
              "      <td>0</td>\n",
              "      <td>0</td>\n",
              "    </tr>\n",
              "  </tbody>\n",
              "</table>\n",
              "</div>\n",
              "      <button class=\"colab-df-convert\" onclick=\"convertToInteractive('df-65c8a59b-131c-4118-b0ec-fa8d4a665de0')\"\n",
              "              title=\"Convert this dataframe to an interactive table.\"\n",
              "              style=\"display:none;\">\n",
              "        \n",
              "  <svg xmlns=\"http://www.w3.org/2000/svg\" height=\"24px\"viewBox=\"0 0 24 24\"\n",
              "       width=\"24px\">\n",
              "    <path d=\"M0 0h24v24H0V0z\" fill=\"none\"/>\n",
              "    <path d=\"M18.56 5.44l.94 2.06.94-2.06 2.06-.94-2.06-.94-.94-2.06-.94 2.06-2.06.94zm-11 1L8.5 8.5l.94-2.06 2.06-.94-2.06-.94L8.5 2.5l-.94 2.06-2.06.94zm10 10l.94 2.06.94-2.06 2.06-.94-2.06-.94-.94-2.06-.94 2.06-2.06.94z\"/><path d=\"M17.41 7.96l-1.37-1.37c-.4-.4-.92-.59-1.43-.59-.52 0-1.04.2-1.43.59L10.3 9.45l-7.72 7.72c-.78.78-.78 2.05 0 2.83L4 21.41c.39.39.9.59 1.41.59.51 0 1.02-.2 1.41-.59l7.78-7.78 2.81-2.81c.8-.78.8-2.07 0-2.86zM5.41 20L4 18.59l7.72-7.72 1.47 1.35L5.41 20z\"/>\n",
              "  </svg>\n",
              "      </button>\n",
              "      \n",
              "  <style>\n",
              "    .colab-df-container {\n",
              "      display:flex;\n",
              "      flex-wrap:wrap;\n",
              "      gap: 12px;\n",
              "    }\n",
              "\n",
              "    .colab-df-convert {\n",
              "      background-color: #E8F0FE;\n",
              "      border: none;\n",
              "      border-radius: 50%;\n",
              "      cursor: pointer;\n",
              "      display: none;\n",
              "      fill: #1967D2;\n",
              "      height: 32px;\n",
              "      padding: 0 0 0 0;\n",
              "      width: 32px;\n",
              "    }\n",
              "\n",
              "    .colab-df-convert:hover {\n",
              "      background-color: #E2EBFA;\n",
              "      box-shadow: 0px 1px 2px rgba(60, 64, 67, 0.3), 0px 1px 3px 1px rgba(60, 64, 67, 0.15);\n",
              "      fill: #174EA6;\n",
              "    }\n",
              "\n",
              "    [theme=dark] .colab-df-convert {\n",
              "      background-color: #3B4455;\n",
              "      fill: #D2E3FC;\n",
              "    }\n",
              "\n",
              "    [theme=dark] .colab-df-convert:hover {\n",
              "      background-color: #434B5C;\n",
              "      box-shadow: 0px 1px 3px 1px rgba(0, 0, 0, 0.15);\n",
              "      filter: drop-shadow(0px 1px 2px rgba(0, 0, 0, 0.3));\n",
              "      fill: #FFFFFF;\n",
              "    }\n",
              "  </style>\n",
              "\n",
              "      <script>\n",
              "        const buttonEl =\n",
              "          document.querySelector('#df-65c8a59b-131c-4118-b0ec-fa8d4a665de0 button.colab-df-convert');\n",
              "        buttonEl.style.display =\n",
              "          google.colab.kernel.accessAllowed ? 'block' : 'none';\n",
              "\n",
              "        async function convertToInteractive(key) {\n",
              "          const element = document.querySelector('#df-65c8a59b-131c-4118-b0ec-fa8d4a665de0');\n",
              "          const dataTable =\n",
              "            await google.colab.kernel.invokeFunction('convertToInteractive',\n",
              "                                                     [key], {});\n",
              "          if (!dataTable) return;\n",
              "\n",
              "          const docLinkHtml = 'Like what you see? Visit the ' +\n",
              "            '<a target=\"_blank\" href=https://colab.research.google.com/notebooks/data_table.ipynb>data table notebook</a>'\n",
              "            + ' to learn more about interactive tables.';\n",
              "          element.innerHTML = '';\n",
              "          dataTable['output_type'] = 'display_data';\n",
              "          await google.colab.output.renderOutput(dataTable, element);\n",
              "          const docLink = document.createElement('div');\n",
              "          docLink.innerHTML = docLinkHtml;\n",
              "          element.appendChild(docLink);\n",
              "        }\n",
              "      </script>\n",
              "    </div>\n",
              "  </div>\n",
              "  "
            ]
          },
          "metadata": {},
          "execution_count": 12
        }
      ]
    },
    {
      "cell_type": "code",
      "source": [
        "nom_feat = list(df_train.select_dtypes(include='object').columns)\n",
        "nom_feat"
      ],
      "metadata": {
        "colab": {
          "base_uri": "https://localhost:8080/"
        },
        "id": "4XmQfIXFmJnV",
        "outputId": "a2a0f8a8-ae59-4aac-d52b-9d648bd99b2a"
      },
      "execution_count": null,
      "outputs": [
        {
          "output_type": "execute_result",
          "data": {
            "text/plain": [
              "['Home_Ownership', 'Purpose']"
            ]
          },
          "metadata": {},
          "execution_count": 13
        }
      ]
    },
    {
      "cell_type": "markdown",
      "source": [
        "Для дальнейшей работы переведём все номинативные признаки в тип категориальных."
      ],
      "metadata": {
        "id": "ffkDUtuAkcFw"
      }
    },
    {
      "cell_type": "code",
      "source": [
        "for colname in nom_feat:\n",
        "    df_train[colname] = pd.Categorical(df_train[colname])\n",
        "    \n",
        "df_train[nom_feat].dtypes"
      ],
      "metadata": {
        "colab": {
          "base_uri": "https://localhost:8080/"
        },
        "id": "AYn9eA-Wka4A",
        "outputId": "80fe4708-da6f-4f2c-9c1b-ca54c15ba167"
      },
      "execution_count": null,
      "outputs": [
        {
          "output_type": "execute_result",
          "data": {
            "text/plain": [
              "Home_Ownership    category\n",
              "Purpose           category\n",
              "dtype: object"
            ]
          },
          "metadata": {},
          "execution_count": 14
        }
      ]
    },
    {
      "cell_type": "code",
      "source": [
        "target = 'Credit_Default'\n",
        "feat =  df_train.columns.drop(target).tolist()\n",
        "num_feat = list(df_train.select_dtypes(exclude='category').columns)\n",
        "nom_feat = list(df_train.select_dtypes(include='category').columns)\n",
        "print(f'Числовые признаки: {num_feat}')\n",
        "print(f'Категориальные признаки: {nom_feat}')\n",
        "print(f'Целевая переменная: {target}')"
      ],
      "metadata": {
        "colab": {
          "base_uri": "https://localhost:8080/"
        },
        "id": "pQNfTGonEEAE",
        "outputId": "b5e47e6e-1536-4bc2-c1d1-3c0525ab77a1"
      },
      "execution_count": null,
      "outputs": [
        {
          "output_type": "stream",
          "name": "stdout",
          "text": [
            "Числовые признаки: ['Annual_Income', 'Years_in_current_job', 'Tax_Liens', 'Number_of_Open_Accounts', 'Years_of_Credit_History', 'Maximum_Open_Credit', 'Number_of_Credit_Problems', 'Months_since_last_delinquent', 'Bankruptcies', 'Term', 'Current_Loan_Amount', 'Current_Credit_Balance', 'Monthly_Debt', 'Credit_Score', 'Credit_Default']\n",
            "Категориальные признаки: ['Home_Ownership', 'Purpose']\n",
            "Целевая переменная: Credit_Default\n"
          ]
        }
      ]
    },
    {
      "cell_type": "markdown",
      "source": [
        "### Числовые признаки."
      ],
      "metadata": {
        "id": "9LVoHXba_Fy3"
      }
    },
    {
      "cell_type": "code",
      "source": [
        "df_train.describe().T"
      ],
      "metadata": {
        "colab": {
          "base_uri": "https://localhost:8080/",
          "height": 520
        },
        "id": "aqEvNbDz_K1e",
        "outputId": "eb00af96-fa15-463b-d474-ba51aebfdb21"
      },
      "execution_count": null,
      "outputs": [
        {
          "output_type": "execute_result",
          "data": {
            "text/plain": [
              "                               count          mean           std       min  \\\n",
              "Annual_Income                 5943.0  1.366392e+06  8.453392e+05  164597.0   \n",
              "Years_in_current_job          7129.0  5.880348e+00  3.620092e+00       0.0   \n",
              "Tax_Liens                     7500.0  3.013333e-02  2.716035e-01       0.0   \n",
              "Number_of_Open_Accounts       7500.0  1.113093e+01  4.908924e+00       2.0   \n",
              "Years_of_Credit_History       7500.0  1.831747e+01  7.041946e+00       4.0   \n",
              "Maximum_Open_Credit           7500.0  9.451537e+05  1.602622e+07       0.0   \n",
              "Number_of_Credit_Problems     7500.0  1.700000e-01  4.985978e-01       0.0   \n",
              "Months_since_last_delinquent  3419.0  3.469260e+01  2.168881e+01       0.0   \n",
              "Bankruptcies                  7486.0  1.171520e-01  3.471917e-01       0.0   \n",
              "Term                          7500.0  2.592000e-01  4.382248e-01       0.0   \n",
              "Current_Loan_Amount           7500.0  1.187318e+07  3.192612e+07   11242.0   \n",
              "Current_Credit_Balance        7500.0  2.898332e+05  3.178714e+05       0.0   \n",
              "Monthly_Debt                  7500.0  1.831445e+04  1.192676e+04       0.0   \n",
              "Credit_Score                  5943.0  1.151087e+03  1.604451e+03     585.0   \n",
              "Credit_Default                7500.0  2.817333e-01  4.498740e-01       0.0   \n",
              "\n",
              "                                   25%        50%         75%           max  \n",
              "Annual_Income                 844341.0  1168386.0  1640137.00  1.014934e+07  \n",
              "Years_in_current_job               3.0        6.0       10.00  1.000000e+01  \n",
              "Tax_Liens                          0.0        0.0        0.00  7.000000e+00  \n",
              "Number_of_Open_Accounts            8.0       10.0       14.00  4.300000e+01  \n",
              "Years_of_Credit_History           13.5       17.0       21.80  5.770000e+01  \n",
              "Maximum_Open_Credit           279229.5   478159.0   793501.50  1.304726e+09  \n",
              "Number_of_Credit_Problems          0.0        0.0        0.00  7.000000e+00  \n",
              "Months_since_last_delinquent      16.0       32.0       50.00  1.180000e+02  \n",
              "Bankruptcies                       0.0        0.0        0.00  4.000000e+00  \n",
              "Term                               0.0        0.0        1.00  1.000000e+00  \n",
              "Current_Loan_Amount           180169.0   309573.0   519882.00  1.000000e+08  \n",
              "Current_Credit_Balance        114256.5   209323.0   360406.25  6.506797e+06  \n",
              "Monthly_Debt                   10067.5    16076.5    23818.00  1.366790e+05  \n",
              "Credit_Score                     711.0      731.0      743.00  7.510000e+03  \n",
              "Credit_Default                     0.0        0.0        1.00  1.000000e+00  "
            ],
            "text/html": [
              "\n",
              "  <div id=\"df-43cecab3-7aec-48a6-b122-01d9778c67be\">\n",
              "    <div class=\"colab-df-container\">\n",
              "      <div>\n",
              "<style scoped>\n",
              "    .dataframe tbody tr th:only-of-type {\n",
              "        vertical-align: middle;\n",
              "    }\n",
              "\n",
              "    .dataframe tbody tr th {\n",
              "        vertical-align: top;\n",
              "    }\n",
              "\n",
              "    .dataframe thead th {\n",
              "        text-align: right;\n",
              "    }\n",
              "</style>\n",
              "<table border=\"1\" class=\"dataframe\">\n",
              "  <thead>\n",
              "    <tr style=\"text-align: right;\">\n",
              "      <th></th>\n",
              "      <th>count</th>\n",
              "      <th>mean</th>\n",
              "      <th>std</th>\n",
              "      <th>min</th>\n",
              "      <th>25%</th>\n",
              "      <th>50%</th>\n",
              "      <th>75%</th>\n",
              "      <th>max</th>\n",
              "    </tr>\n",
              "  </thead>\n",
              "  <tbody>\n",
              "    <tr>\n",
              "      <th>Annual_Income</th>\n",
              "      <td>5943.0</td>\n",
              "      <td>1.366392e+06</td>\n",
              "      <td>8.453392e+05</td>\n",
              "      <td>164597.0</td>\n",
              "      <td>844341.0</td>\n",
              "      <td>1168386.0</td>\n",
              "      <td>1640137.00</td>\n",
              "      <td>1.014934e+07</td>\n",
              "    </tr>\n",
              "    <tr>\n",
              "      <th>Years_in_current_job</th>\n",
              "      <td>7129.0</td>\n",
              "      <td>5.880348e+00</td>\n",
              "      <td>3.620092e+00</td>\n",
              "      <td>0.0</td>\n",
              "      <td>3.0</td>\n",
              "      <td>6.0</td>\n",
              "      <td>10.00</td>\n",
              "      <td>1.000000e+01</td>\n",
              "    </tr>\n",
              "    <tr>\n",
              "      <th>Tax_Liens</th>\n",
              "      <td>7500.0</td>\n",
              "      <td>3.013333e-02</td>\n",
              "      <td>2.716035e-01</td>\n",
              "      <td>0.0</td>\n",
              "      <td>0.0</td>\n",
              "      <td>0.0</td>\n",
              "      <td>0.00</td>\n",
              "      <td>7.000000e+00</td>\n",
              "    </tr>\n",
              "    <tr>\n",
              "      <th>Number_of_Open_Accounts</th>\n",
              "      <td>7500.0</td>\n",
              "      <td>1.113093e+01</td>\n",
              "      <td>4.908924e+00</td>\n",
              "      <td>2.0</td>\n",
              "      <td>8.0</td>\n",
              "      <td>10.0</td>\n",
              "      <td>14.00</td>\n",
              "      <td>4.300000e+01</td>\n",
              "    </tr>\n",
              "    <tr>\n",
              "      <th>Years_of_Credit_History</th>\n",
              "      <td>7500.0</td>\n",
              "      <td>1.831747e+01</td>\n",
              "      <td>7.041946e+00</td>\n",
              "      <td>4.0</td>\n",
              "      <td>13.5</td>\n",
              "      <td>17.0</td>\n",
              "      <td>21.80</td>\n",
              "      <td>5.770000e+01</td>\n",
              "    </tr>\n",
              "    <tr>\n",
              "      <th>Maximum_Open_Credit</th>\n",
              "      <td>7500.0</td>\n",
              "      <td>9.451537e+05</td>\n",
              "      <td>1.602622e+07</td>\n",
              "      <td>0.0</td>\n",
              "      <td>279229.5</td>\n",
              "      <td>478159.0</td>\n",
              "      <td>793501.50</td>\n",
              "      <td>1.304726e+09</td>\n",
              "    </tr>\n",
              "    <tr>\n",
              "      <th>Number_of_Credit_Problems</th>\n",
              "      <td>7500.0</td>\n",
              "      <td>1.700000e-01</td>\n",
              "      <td>4.985978e-01</td>\n",
              "      <td>0.0</td>\n",
              "      <td>0.0</td>\n",
              "      <td>0.0</td>\n",
              "      <td>0.00</td>\n",
              "      <td>7.000000e+00</td>\n",
              "    </tr>\n",
              "    <tr>\n",
              "      <th>Months_since_last_delinquent</th>\n",
              "      <td>3419.0</td>\n",
              "      <td>3.469260e+01</td>\n",
              "      <td>2.168881e+01</td>\n",
              "      <td>0.0</td>\n",
              "      <td>16.0</td>\n",
              "      <td>32.0</td>\n",
              "      <td>50.00</td>\n",
              "      <td>1.180000e+02</td>\n",
              "    </tr>\n",
              "    <tr>\n",
              "      <th>Bankruptcies</th>\n",
              "      <td>7486.0</td>\n",
              "      <td>1.171520e-01</td>\n",
              "      <td>3.471917e-01</td>\n",
              "      <td>0.0</td>\n",
              "      <td>0.0</td>\n",
              "      <td>0.0</td>\n",
              "      <td>0.00</td>\n",
              "      <td>4.000000e+00</td>\n",
              "    </tr>\n",
              "    <tr>\n",
              "      <th>Term</th>\n",
              "      <td>7500.0</td>\n",
              "      <td>2.592000e-01</td>\n",
              "      <td>4.382248e-01</td>\n",
              "      <td>0.0</td>\n",
              "      <td>0.0</td>\n",
              "      <td>0.0</td>\n",
              "      <td>1.00</td>\n",
              "      <td>1.000000e+00</td>\n",
              "    </tr>\n",
              "    <tr>\n",
              "      <th>Current_Loan_Amount</th>\n",
              "      <td>7500.0</td>\n",
              "      <td>1.187318e+07</td>\n",
              "      <td>3.192612e+07</td>\n",
              "      <td>11242.0</td>\n",
              "      <td>180169.0</td>\n",
              "      <td>309573.0</td>\n",
              "      <td>519882.00</td>\n",
              "      <td>1.000000e+08</td>\n",
              "    </tr>\n",
              "    <tr>\n",
              "      <th>Current_Credit_Balance</th>\n",
              "      <td>7500.0</td>\n",
              "      <td>2.898332e+05</td>\n",
              "      <td>3.178714e+05</td>\n",
              "      <td>0.0</td>\n",
              "      <td>114256.5</td>\n",
              "      <td>209323.0</td>\n",
              "      <td>360406.25</td>\n",
              "      <td>6.506797e+06</td>\n",
              "    </tr>\n",
              "    <tr>\n",
              "      <th>Monthly_Debt</th>\n",
              "      <td>7500.0</td>\n",
              "      <td>1.831445e+04</td>\n",
              "      <td>1.192676e+04</td>\n",
              "      <td>0.0</td>\n",
              "      <td>10067.5</td>\n",
              "      <td>16076.5</td>\n",
              "      <td>23818.00</td>\n",
              "      <td>1.366790e+05</td>\n",
              "    </tr>\n",
              "    <tr>\n",
              "      <th>Credit_Score</th>\n",
              "      <td>5943.0</td>\n",
              "      <td>1.151087e+03</td>\n",
              "      <td>1.604451e+03</td>\n",
              "      <td>585.0</td>\n",
              "      <td>711.0</td>\n",
              "      <td>731.0</td>\n",
              "      <td>743.00</td>\n",
              "      <td>7.510000e+03</td>\n",
              "    </tr>\n",
              "    <tr>\n",
              "      <th>Credit_Default</th>\n",
              "      <td>7500.0</td>\n",
              "      <td>2.817333e-01</td>\n",
              "      <td>4.498740e-01</td>\n",
              "      <td>0.0</td>\n",
              "      <td>0.0</td>\n",
              "      <td>0.0</td>\n",
              "      <td>1.00</td>\n",
              "      <td>1.000000e+00</td>\n",
              "    </tr>\n",
              "  </tbody>\n",
              "</table>\n",
              "</div>\n",
              "      <button class=\"colab-df-convert\" onclick=\"convertToInteractive('df-43cecab3-7aec-48a6-b122-01d9778c67be')\"\n",
              "              title=\"Convert this dataframe to an interactive table.\"\n",
              "              style=\"display:none;\">\n",
              "        \n",
              "  <svg xmlns=\"http://www.w3.org/2000/svg\" height=\"24px\"viewBox=\"0 0 24 24\"\n",
              "       width=\"24px\">\n",
              "    <path d=\"M0 0h24v24H0V0z\" fill=\"none\"/>\n",
              "    <path d=\"M18.56 5.44l.94 2.06.94-2.06 2.06-.94-2.06-.94-.94-2.06-.94 2.06-2.06.94zm-11 1L8.5 8.5l.94-2.06 2.06-.94-2.06-.94L8.5 2.5l-.94 2.06-2.06.94zm10 10l.94 2.06.94-2.06 2.06-.94-2.06-.94-.94-2.06-.94 2.06-2.06.94z\"/><path d=\"M17.41 7.96l-1.37-1.37c-.4-.4-.92-.59-1.43-.59-.52 0-1.04.2-1.43.59L10.3 9.45l-7.72 7.72c-.78.78-.78 2.05 0 2.83L4 21.41c.39.39.9.59 1.41.59.51 0 1.02-.2 1.41-.59l7.78-7.78 2.81-2.81c.8-.78.8-2.07 0-2.86zM5.41 20L4 18.59l7.72-7.72 1.47 1.35L5.41 20z\"/>\n",
              "  </svg>\n",
              "      </button>\n",
              "      \n",
              "  <style>\n",
              "    .colab-df-container {\n",
              "      display:flex;\n",
              "      flex-wrap:wrap;\n",
              "      gap: 12px;\n",
              "    }\n",
              "\n",
              "    .colab-df-convert {\n",
              "      background-color: #E8F0FE;\n",
              "      border: none;\n",
              "      border-radius: 50%;\n",
              "      cursor: pointer;\n",
              "      display: none;\n",
              "      fill: #1967D2;\n",
              "      height: 32px;\n",
              "      padding: 0 0 0 0;\n",
              "      width: 32px;\n",
              "    }\n",
              "\n",
              "    .colab-df-convert:hover {\n",
              "      background-color: #E2EBFA;\n",
              "      box-shadow: 0px 1px 2px rgba(60, 64, 67, 0.3), 0px 1px 3px 1px rgba(60, 64, 67, 0.15);\n",
              "      fill: #174EA6;\n",
              "    }\n",
              "\n",
              "    [theme=dark] .colab-df-convert {\n",
              "      background-color: #3B4455;\n",
              "      fill: #D2E3FC;\n",
              "    }\n",
              "\n",
              "    [theme=dark] .colab-df-convert:hover {\n",
              "      background-color: #434B5C;\n",
              "      box-shadow: 0px 1px 3px 1px rgba(0, 0, 0, 0.15);\n",
              "      filter: drop-shadow(0px 1px 2px rgba(0, 0, 0, 0.3));\n",
              "      fill: #FFFFFF;\n",
              "    }\n",
              "  </style>\n",
              "\n",
              "      <script>\n",
              "        const buttonEl =\n",
              "          document.querySelector('#df-43cecab3-7aec-48a6-b122-01d9778c67be button.colab-df-convert');\n",
              "        buttonEl.style.display =\n",
              "          google.colab.kernel.accessAllowed ? 'block' : 'none';\n",
              "\n",
              "        async function convertToInteractive(key) {\n",
              "          const element = document.querySelector('#df-43cecab3-7aec-48a6-b122-01d9778c67be');\n",
              "          const dataTable =\n",
              "            await google.colab.kernel.invokeFunction('convertToInteractive',\n",
              "                                                     [key], {});\n",
              "          if (!dataTable) return;\n",
              "\n",
              "          const docLinkHtml = 'Like what you see? Visit the ' +\n",
              "            '<a target=\"_blank\" href=https://colab.research.google.com/notebooks/data_table.ipynb>data table notebook</a>'\n",
              "            + ' to learn more about interactive tables.';\n",
              "          element.innerHTML = '';\n",
              "          dataTable['output_type'] = 'display_data';\n",
              "          await google.colab.output.renderOutput(dataTable, element);\n",
              "          const docLink = document.createElement('div');\n",
              "          docLink.innerHTML = docLinkHtml;\n",
              "          element.appendChild(docLink);\n",
              "        }\n",
              "      </script>\n",
              "    </div>\n",
              "  </div>\n",
              "  "
            ]
          },
          "metadata": {},
          "execution_count": 16
        }
      ]
    },
    {
      "cell_type": "markdown",
      "source": [
        "\n",
        "*   Annual_Income - есть пропущенные значения\n",
        "*   Years_in_current_job - есть пропущенные значения\n",
        "*   Tax_Liens практически все значения - нули\n",
        "*   Number of Open Accounts - возможно есть выбросы \n",
        "*   Years_of_Credit_History - есть выбросы\n",
        "*   Maximum_Open_Credit - есть нулевые значения, возможно есть выбросы\n",
        "*   Current_Loan_Amount - возможно есть выбросы\n",
        "*   Monthly_Debt - возможно есть выбросы\n",
        "*   Number_of_Credit_Problems - возможно есть выбросы, и много значений - нули\n",
        "*   Months_since_last_delinquent - много пропущенных значений\n",
        "*   Bankruptcies - есть пропуски\n",
        "*   Credit_Score - много пропусков, корелляция с целевой переменной"
      ],
      "metadata": {
        "id": "B85v5SxlJqI9"
      }
    },
    {
      "cell_type": "markdown",
      "source": [
        "**Матрица корреляции между признаками.**"
      ],
      "metadata": {
        "id": "Q-yCwi_fm5Ql"
      }
    },
    {
      "cell_type": "code",
      "source": [
        "plt.figure(figsize=(15, 5))\n",
        "\n",
        "sns.set(font_scale=1.4)\n",
        "\n",
        "corr_matrix = df_train[feat].corr()\n",
        "corr_matrix = np.round(corr_matrix, 2)\n",
        "corr_matrix[np.abs(corr_matrix) < 0.2] = 0\n",
        "\n",
        "sns.heatmap(corr_matrix, annot=True, linewidths=.5, cmap='GnBu')\n",
        "\n",
        "plt.title('Correlation matrix')\n",
        "plt.show()"
      ],
      "metadata": {
        "colab": {
          "base_uri": "https://localhost:8080/",
          "height": 562
        },
        "id": "U0aGj36wMvAo",
        "outputId": "909f16f5-ec35-4e9a-f64a-7a096048fd88"
      },
      "execution_count": null,
      "outputs": [
        {
          "output_type": "display_data",
          "data": {
            "text/plain": [
              "<Figure size 1080x360 with 2 Axes>"
            ],
            "image/png": "[encoded data removed]"
          },
          "metadata": {
            "needs_background": "light"
          }
        }
      ]
    },
    {
      "cell_type": "markdown",
      "source": [
        "Наблюдаются корреляции между:\n",
        "*  количеством проблемных кредитов и банкротствами (Number_of_Credit_Problems и Bankruptcies) - 0.73\n",
        "*  количеством проблемных кредитов и налоговыми обременениями (Number_of_Credit_Problems и Tax_lies) - 0.6\n",
        "*  месячной задолженностью и годовым доходом (Annual_income и Monthly_Debt) - 0.51\n",
        "*  текущим кредитным балансом и ежемесячной задолженностью (Current_Credit_Balance и Monthly_Debt) - 0.5\n",
        "*  годовым доходом и текущим кредитным балансом (Annual_income и Current_Credit_Balance) - 0.34"
      ],
      "metadata": {
        "id": "Sg0nV0RhNOrr"
      }
    },
    {
      "cell_type": "markdown",
      "source": [
        "Определим степень влияния признаков на целевой класс"
      ],
      "metadata": {
        "id": "5ZLX96zCoTjD"
      }
    },
    {
      "cell_type": "code",
      "source": [
        "sns.set(font_scale=1)\n",
        "corr_with_TARGET = df_train.corr().iloc[:-1, -1].sort_values(ascending=False)\n",
        "plt.figure(figsize=(9, 9))\n",
        "sns.barplot(x=corr_with_TARGET.values, y=corr_with_TARGET.index)\n",
        "plt.title('Correlation with TARGET variable')"
      ],
      "metadata": {
        "colab": {
          "base_uri": "https://localhost:8080/",
          "height": 574
        },
        "id": "Ek2rlGXPoTRL",
        "outputId": "ebcf3cd6-f326-4d07-e131-67b4d7036b1b"
      },
      "execution_count": null,
      "outputs": [
        {
          "output_type": "execute_result",
          "data": {
            "text/plain": [
              "Text(0.5, 1.0, 'Correlation with TARGET variable')"
            ]
          },
          "metadata": {},
          "execution_count": 18
        },
        {
          "output_type": "display_data",
          "data": {
            "text/plain": [
              "<Figure size 648x648 with 1 Axes>"
            ],
            "image/png": "[encoded data removed]"
          },
          "metadata": {}
        }
      ]
    },
    {
      "cell_type": "markdown",
      "source": [
        "Линейная корреляция с целевой переменной наблюдается с Credit_Score и Current_Loan_Amount."
      ],
      "metadata": {
        "id": "y_ziEIYe_cJS"
      }
    },
    {
      "cell_type": "markdown",
      "source": [
        "## 2. Обработка пропусков."
      ],
      "metadata": {
        "id": "P52h45hY_8L1"
      }
    },
    {
      "cell_type": "markdown",
      "source": [
        "Найдём все признаки, где отсутсвуют значения."
      ],
      "metadata": {
        "id": "mj-4fp7GQr_4"
      }
    },
    {
      "cell_type": "code",
      "source": [
        "# определяем цвета \n",
        "# желтый - пропущенные данные, синий - не пропущенные\n",
        "\n",
        "plt.figure(figsize=(12, 10))\n",
        "colours = ['#000099', '#ffff00'] \n",
        "ax = sns.heatmap(df_train[df_train.columns].isnull(), cmap=sns.color_palette(colours))\n",
        "\n",
        "# Decorations\n",
        "\n",
        "plt.title('Пропуски', fontsize=20)\n",
        "\n",
        "plt.xlabel('Features')\n",
        "plt.ylabel('Values')"
      ],
      "metadata": {
        "colab": {
          "base_uri": "https://localhost:8080/",
          "height": 804
        },
        "id": "MS4eLxZpfuSo",
        "outputId": "ada586df-aaab-47d6-e154-ff90cb4ae1b5"
      },
      "execution_count": null,
      "outputs": [
        {
          "output_type": "execute_result",
          "data": {
            "text/plain": [
              "Text(84.5, 0.5, 'Values')"
            ]
          },
          "metadata": {},
          "execution_count": 19
        },
        {
          "output_type": "display_data",
          "data": {
            "text/plain": [
              "<Figure size 864x720 with 2 Axes>"
            ],
            "image/png": "[encoded data removed]"
          },
          "metadata": {}
        }
      ]
    },
    {
      "cell_type": "code",
      "source": [
        "df_train.isna().sum()"
      ],
      "metadata": {
        "colab": {
          "base_uri": "https://localhost:8080/"
        },
        "id": "q_vCWhSgdgTm",
        "outputId": "d4add2f3-9467-422c-ad1b-a060ac159b1e"
      },
      "execution_count": null,
      "outputs": [
        {
          "output_type": "execute_result",
          "data": {
            "text/plain": [
              "Home_Ownership                     0\n",
              "Annual_Income                   1557\n",
              "Years_in_current_job             371\n",
              "Tax_Liens                          0\n",
              "Number_of_Open_Accounts            0\n",
              "Years_of_Credit_History            0\n",
              "Maximum_Open_Credit                0\n",
              "Number_of_Credit_Problems          0\n",
              "Months_since_last_delinquent    4081\n",
              "Bankruptcies                      14\n",
              "Purpose                            0\n",
              "Term                               0\n",
              "Current_Loan_Amount                0\n",
              "Current_Credit_Balance             0\n",
              "Monthly_Debt                       0\n",
              "Credit_Score                    1557\n",
              "Credit_Default                     0\n",
              "dtype: int64"
            ]
          },
          "metadata": {},
          "execution_count": 20
        }
      ]
    },
    {
      "cell_type": "markdown",
      "source": [
        "#### Мой вариант подсчёта процентов пропусков"
      ],
      "metadata": {
        "id": "Bbe2JcbRrZxD"
      }
    },
    {
      "cell_type": "code",
      "source": [
        "print(f'Процент пропусков в датафрейме по столбцам\\n')\n",
        "for col in df_train.columns:\n",
        "  have_null = df_train[col].isna().sum()\n",
        "  if have_null != 0:\n",
        "    print(f'{col} - {round(df_train[col].isna().sum() / df_train.shape[0]*100, 2)}%')"
      ],
      "metadata": {
        "colab": {
          "base_uri": "https://localhost:8080/"
        },
        "id": "YjhsnCz1BX6F",
        "outputId": "74b99b57-b2bf-4787-89bf-65885498a2ab"
      },
      "execution_count": null,
      "outputs": [
        {
          "output_type": "stream",
          "name": "stdout",
          "text": [
            "Процент пропусков в датафрейме по столбцам\n",
            "\n",
            "Annual_Income - 20.76%\n",
            "Years_in_current_job - 4.95%\n",
            "Months_since_last_delinquent - 54.41%\n",
            "Bankruptcies - 0.19%\n",
            "Credit_Score - 20.76%\n"
          ]
        }
      ]
    },
    {
      "cell_type": "markdown",
      "source": [
        "### Annual_Income "
      ],
      "metadata": {
        "id": "HkkugqisEkeq"
      }
    },
    {
      "cell_type": "code",
      "source": [
        "Annual_Income_mode = df_train.Annual_Income.mode()[0]\n",
        "Annual_Income_mode"
      ],
      "metadata": {
        "colab": {
          "base_uri": "https://localhost:8080/"
        },
        "id": "yehYE2SY4-QE",
        "outputId": "936e2d5a-1009-4e2b-fa4b-7afd4a5af64f"
      },
      "execution_count": null,
      "outputs": [
        {
          "output_type": "execute_result",
          "data": {
            "text/plain": [
              "969475.0"
            ]
          },
          "metadata": {},
          "execution_count": 22
        }
      ]
    },
    {
      "cell_type": "markdown",
      "source": [
        "Введём столбец для учёта тех строк, где были отсутствующие значения."
      ],
      "metadata": {
        "id": "aoUICkTDGqWW"
      }
    },
    {
      "cell_type": "code",
      "source": [
        "df_train['Annual_Income_NaN'] = 0\n",
        "df_train.loc[df_train['Annual_Income'].isna(), 'Annual_Income_NaN'] = 1\n",
        "# df_train[df_train['Annual_Income_NaN'] == 1].count()"
      ],
      "metadata": {
        "id": "7x4h85PXZaJG"
      },
      "execution_count": null,
      "outputs": []
    },
    {
      "cell_type": "markdown",
      "source": [
        "Заполним отсутствующие значения модой."
      ],
      "metadata": {
        "id": "mqI1BzYWG7mJ"
      }
    },
    {
      "cell_type": "code",
      "source": [
        "df_train.Annual_Income.fillna(Annual_Income_mode, inplace=True)\n",
        "df_train.Annual_Income.isna().sum()"
      ],
      "metadata": {
        "colab": {
          "base_uri": "https://localhost:8080/"
        },
        "id": "G9yZWdru-WH3",
        "outputId": "8f8e42d8-9c02-4393-d6e0-e2c38925ac80"
      },
      "execution_count": null,
      "outputs": [
        {
          "output_type": "execute_result",
          "data": {
            "text/plain": [
              "0"
            ]
          },
          "metadata": {},
          "execution_count": 24
        }
      ]
    },
    {
      "cell_type": "code",
      "source": [
        "sns.displot(df_train['Annual_Income'], bins=30, kde=True)"
      ],
      "metadata": {
        "colab": {
          "base_uri": "https://localhost:8080/",
          "height": 382
        },
        "id": "43C971yveV0H",
        "outputId": "8dfbc6fa-2bf8-4302-d38a-3d417070062a"
      },
      "execution_count": null,
      "outputs": [
        {
          "output_type": "execute_result",
          "data": {
            "text/plain": [
              "<seaborn.axisgrid.FacetGrid at 0x7f3330926810>"
            ]
          },
          "metadata": {},
          "execution_count": 25
        },
        {
          "output_type": "display_data",
          "data": {
            "text/plain": [
              "<Figure size 360x360 with 1 Axes>"
            ],
            "image/png": "[encoded data removed]"
          },
          "metadata": {}
        }
      ]
    },
    {
      "cell_type": "markdown",
      "source": [
        "### Years_in_current_job"
      ],
      "metadata": {
        "id": "sPmcHUxqBUbj"
      }
    },
    {
      "cell_type": "code",
      "source": [
        "df_train['Years_in_current_job_NaN'] = 0\n",
        "df_train.loc[df_train['Years_in_current_job'].isna(), 'Years_in_current_job_NaN'] = 1"
      ],
      "metadata": {
        "id": "afm5vPoAfHH4"
      },
      "execution_count": null,
      "outputs": []
    },
    {
      "cell_type": "code",
      "source": [
        "Years_in_current_job_mod = df_train.Years_in_current_job.mode()[0]\n",
        "print(Years_in_current_job_mod)\n",
        "\n",
        "df_train.Years_in_current_job.fillna(Years_in_current_job_mod, inplace=True)\n",
        "print(df_train.Years_in_current_job.isna().sum())"
      ],
      "metadata": {
        "colab": {
          "base_uri": "https://localhost:8080/"
        },
        "id": "ozRWFnmkFWby",
        "outputId": "5c935529-8a8c-4414-da75-2cc4708b8a80"
      },
      "execution_count": null,
      "outputs": [
        {
          "output_type": "stream",
          "name": "stdout",
          "text": [
            "10.0\n",
            "0\n"
          ]
        }
      ]
    },
    {
      "cell_type": "code",
      "source": [
        "df_train.corr()['Years_in_current_job']['Credit_Default']"
      ],
      "metadata": {
        "colab": {
          "base_uri": "https://localhost:8080/"
        },
        "id": "KZzgKic7t4uY",
        "outputId": "11971be3-ab51-44a9-c78f-488363beb061"
      },
      "execution_count": null,
      "outputs": [
        {
          "output_type": "execute_result",
          "data": {
            "text/plain": [
              "0.006776090201723654"
            ]
          },
          "metadata": {},
          "execution_count": 28
        }
      ]
    },
    {
      "cell_type": "markdown",
      "source": [
        "### Months_since_last_delinquent"
      ],
      "metadata": {
        "id": "UGSuAKnqEriq"
      }
    },
    {
      "cell_type": "markdown",
      "source": [
        "Линейная корреляция с целевой переменной мала. И большое количество пропусков. В теории можно удалить.\n",
        "\n",
        "Но попробуем обработать: предположим, что у тех, у кого нет проблем с кредитами, то можно проставить 0 в значения для месяцев просрочки."
      ],
      "metadata": {
        "id": "sMmvr8Kf3K39"
      }
    },
    {
      "cell_type": "code",
      "source": [
        "plt.figure(figsize = (9, 6))\n",
        "\n",
        "df_train.loc[df_train['Credit_Default'] == 1, 'Months_since_last_delinquent'].hist(bins=25, density=True, color ='r', alpha=0.5, label ='1')\n",
        "df_train.loc[df_train['Credit_Default'] == 0, 'Months_since_last_delinquent'].hist(bins=25, density=True, color ='b', alpha=0.5, label ='0')\n",
        "plt.xlabel('Months_since_last_delinquent')\n",
        "plt.ylabel('Density')\n",
        "plt.title('Distribution of Months since last delinquent by target')\n",
        "plt.legend()\n",
        "plt.show()"
      ],
      "metadata": {
        "colab": {
          "base_uri": "https://localhost:8080/",
          "height": 410
        },
        "id": "6ATDRz1qI_vF",
        "outputId": "5e82d0eb-5c13-448a-f51d-b0544bb1b8d8"
      },
      "execution_count": null,
      "outputs": [
        {
          "output_type": "display_data",
          "data": {
            "text/plain": [
              "<Figure size 648x432 with 1 Axes>"
            ],
            "image/png": "[encoded data removed]"
          },
          "metadata": {}
        }
      ]
    },
    {
      "cell_type": "markdown",
      "source": [
        "Признак не оказывает сильного влияния на целевую переменную и много отсутсвующих значений. Поэтому лучше его убрать из обучения."
      ],
      "metadata": {
        "id": "gkE80ZKZJN0z"
      }
    },
    {
      "cell_type": "markdown",
      "source": [
        "### Bankruptcies"
      ],
      "metadata": {
        "id": "QTsUQYyuO2vm"
      }
    },
    {
      "cell_type": "markdown",
      "source": [
        "Предположим в отсутствующих значениях банкротств, то их просто нет. И заполним значения 0."
      ],
      "metadata": {
        "id": "XLxOAbojKF-s"
      }
    },
    {
      "cell_type": "code",
      "source": [
        "df_train['Bankruptcies_NaN'] = 0\n",
        "df_train.loc[df_train['Bankruptcies'].isna(), 'Bankruptcies_NaN'] = 1\n",
        "df_train['Bankruptcies'].fillna(0 , inplace=True)\n",
        "df_train['Bankruptcies'].isna().sum()"
      ],
      "metadata": {
        "colab": {
          "base_uri": "https://localhost:8080/"
        },
        "id": "aqXH-SK7heUI",
        "outputId": "3d82b172-9753-4663-c957-c183a010d55b"
      },
      "execution_count": null,
      "outputs": [
        {
          "output_type": "execute_result",
          "data": {
            "text/plain": [
              "0"
            ]
          },
          "metadata": {},
          "execution_count": 30
        }
      ]
    },
    {
      "cell_type": "markdown",
      "source": [
        "### Credit_Score"
      ],
      "metadata": {
        "id": "Ag_WB8SUiQhV"
      }
    },
    {
      "cell_type": "markdown",
      "source": [
        "Заполним отсутствующие значения модой."
      ],
      "metadata": {
        "id": "r0pSDZvkKXq-"
      }
    },
    {
      "cell_type": "code",
      "source": [
        "df_train['Credit_Score_NaN'] = 0\n",
        "df_train.loc[df_train.Credit_Score.isna(), 'Credit_Score_NaN'] = 1\n",
        "\n",
        "Credit_Score_mode = df_train.Credit_Score.mode()[0]\n",
        "Credit_Score_mode\n",
        "\n",
        "df_train.Credit_Score.fillna(Credit_Score_mode, inplace=True)\n",
        "df_train['Credit_Score'].isna().sum()"
      ],
      "metadata": {
        "colab": {
          "base_uri": "https://localhost:8080/"
        },
        "id": "QupedgjTih-M",
        "outputId": "feeee4bf-da94-4234-d102-7318bcd987d3"
      },
      "execution_count": null,
      "outputs": [
        {
          "output_type": "execute_result",
          "data": {
            "text/plain": [
              "0"
            ]
          },
          "metadata": {},
          "execution_count": 31
        }
      ]
    },
    {
      "cell_type": "code",
      "source": [
        "sns.displot(df_train.Credit_Score, bins=30, kde=True)"
      ],
      "metadata": {
        "colab": {
          "base_uri": "https://localhost:8080/",
          "height": 382
        },
        "id": "fKWm-jNjjtNT",
        "outputId": "e72e466e-514e-4f5c-8916-0912b6dc52b6"
      },
      "execution_count": null,
      "outputs": [
        {
          "output_type": "execute_result",
          "data": {
            "text/plain": [
              "<seaborn.axisgrid.FacetGrid at 0x7f332e751250>"
            ]
          },
          "metadata": {},
          "execution_count": 32
        },
        {
          "output_type": "display_data",
          "data": {
            "text/plain": [
              "<Figure size 360x360 with 1 Axes>"
            ],
            "image/png": "[encoded data removed]"
          },
          "metadata": {}
        }
      ]
    },
    {
      "cell_type": "markdown",
      "source": [
        "## Обработка выбросов."
      ],
      "metadata": {
        "id": "GDgVZWvf_Pti"
      }
    },
    {
      "cell_type": "code",
      "source": [
        "df_train[feat].hist(bins=40, figsize=(16, 16), log = True)\n",
        "\n",
        "# Draw plot\n",
        "plt.show()"
      ],
      "metadata": {
        "colab": {
          "base_uri": "https://localhost:8080/",
          "height": 936
        },
        "id": "4o-IpD-q_gh1",
        "outputId": "9ab41848-6ded-4171-aeff-3f0c5f95c631"
      },
      "execution_count": null,
      "outputs": [
        {
          "output_type": "display_data",
          "data": {
            "text/plain": [
              "<Figure size 1152x1152 with 16 Axes>"
            ],
            "image/png": "[encoded data removed]"
          },
          "metadata": {}
        }
      ]
    },
    {
      "cell_type": "markdown",
      "source": [
        "### Current_Loan_Amount"
      ],
      "metadata": {
        "id": "Z6QALUqFEpyA"
      }
    },
    {
      "cell_type": "code",
      "source": [
        "# Prepare Data\n",
        "plt.figure(figsize=(6, 4))\n",
        "\n",
        "# Draw plot\n",
        "sns.boxplot(x=df_train['Current_Loan_Amount'], whis=1.5, orient='h')"
      ],
      "metadata": {
        "colab": {
          "base_uri": "https://localhost:8080/",
          "height": 302
        },
        "id": "rNmYsB3tEpfr",
        "outputId": "55f8bc9c-de8a-4431-be97-dd3a4c231656"
      },
      "execution_count": null,
      "outputs": [
        {
          "output_type": "execute_result",
          "data": {
            "text/plain": [
              "<matplotlib.axes._subplots.AxesSubplot at 0x7f332d5ffa50>"
            ]
          },
          "metadata": {},
          "execution_count": 34
        },
        {
          "output_type": "display_data",
          "data": {
            "text/plain": [
              "<Figure size 432x288 with 1 Axes>"
            ],
            "image/png": "[encoded data removed]"
          },
          "metadata": {}
        }
      ]
    },
    {
      "cell_type": "code",
      "source": [
        "df_train.loc[df_train.Current_Loan_Amount == 99999999.0, 'Current_Loan_Amount'].value_counts()"
      ],
      "metadata": {
        "colab": {
          "base_uri": "https://localhost:8080/"
        },
        "id": "mgAeShs0Ge2q",
        "outputId": "c82bae6e-b2d2-4488-c2fe-403cbe49a8ed"
      },
      "execution_count": null,
      "outputs": [
        {
          "output_type": "execute_result",
          "data": {
            "text/plain": [
              "99999999.0    870\n",
              "Name: Current_Loan_Amount, dtype: int64"
            ]
          },
          "metadata": {},
          "execution_count": 35
        }
      ]
    },
    {
      "cell_type": "markdown",
      "source": [
        "Наблюдается 870 выбросов со значением 99999999.0. "
      ],
      "metadata": {
        "id": "fbqb0Cp3GD-4"
      }
    },
    {
      "cell_type": "markdown",
      "source": [
        "Посмотрим на распределение значений в разрезе целевой переменной."
      ],
      "metadata": {
        "id": "GKVvV-COG4B_"
      }
    },
    {
      "cell_type": "code",
      "source": [
        "plt.figure(figsize = (9, 6))\n",
        "\n",
        "df_train.loc[(df_train['Credit_Default'] == 1) & (df_train['Current_Loan_Amount'] == 99999999.0), 'Current_Loan_Amount'].hist(bins=25, density=True, color ='r', alpha=0.5, label ='1')\n",
        "df_train.loc[(df_train['Credit_Default'] == 0) & (df_train['Current_Loan_Amount'] == 99999999.0), 'Current_Loan_Amount'].hist(bins=25, density=True, color ='b', alpha=0.5, label ='0')\n",
        "plt.xlabel('Current Loan Amount')\n",
        "plt.ylabel('Density')\n",
        "plt.title('Distribution of Current Loan Amount by target')\n",
        "plt.legend()\n",
        "plt.show()"
      ],
      "metadata": {
        "colab": {
          "base_uri": "https://localhost:8080/",
          "height": 445
        },
        "id": "AHyJgHQhFzvk",
        "outputId": "5860c3be-2711-4330-a2d6-4adcc4fe19e2"
      },
      "execution_count": null,
      "outputs": [
        {
          "output_type": "stream",
          "name": "stderr",
          "text": [
            "/usr/local/lib/python3.7/dist-packages/numpy/lib/histograms.py:906: RuntimeWarning: invalid value encountered in true_divide\n",
            "  return n/db/n.sum(), bin_edges\n"
          ]
        },
        {
          "output_type": "display_data",
          "data": {
            "text/plain": [
              "<Figure size 648x432 with 1 Axes>"
            ],
            "image/png": "[encoded data removed]"
          },
          "metadata": {}
        }
      ]
    },
    {
      "cell_type": "markdown",
      "source": [
        "Выбросные значения 99999999.0 имеют значения 0 колонки Credit Default, вероятно, что пользователи с такими значениями не допустили просрочки по кредиту."
      ],
      "metadata": {
        "id": "EWXCy-rJHSch"
      }
    },
    {
      "cell_type": "code",
      "source": [
        "df_train['Current_Loan_Amount'].quantile(.95)"
      ],
      "metadata": {
        "colab": {
          "base_uri": "https://localhost:8080/"
        },
        "id": "LlAYsOcqIBsm",
        "outputId": "889b2d0d-9de3-4e5e-d6ab-d2a91aa259bd"
      },
      "execution_count": null,
      "outputs": [
        {
          "output_type": "execute_result",
          "data": {
            "text/plain": [
              "99999999.0"
            ]
          },
          "metadata": {},
          "execution_count": 37
        }
      ]
    },
    {
      "cell_type": "code",
      "source": [
        "df_train['Current_Loan_Amount_Outlier'] = 0\n",
        "df_train.loc[df_train.Current_Loan_Amount >= df_train.Current_Loan_Amount .quantile(.95), 'Current_Loan_Amount_outlier'] = 1"
      ],
      "metadata": {
        "id": "8fgFTgabQURw"
      },
      "execution_count": null,
      "outputs": []
    },
    {
      "cell_type": "markdown",
      "source": [
        "Предположим, что задолженности нет. Поэтому заполним медианой. Либо возможен вариант, что долга фактически нет и можно заполнить нулём."
      ],
      "metadata": {
        "id": "5KlfkcdTQvS_"
      }
    },
    {
      "cell_type": "code",
      "source": [
        "df_train['Current_Loan_Amount_Outlier'] = 0\n",
        "df_train.loc[df_train['Current_Loan_Amount'] == 99999999.0, 'Current_Loan_Amount_Outlier'] = 1\n",
        "df_train.loc[df_train['Current_Loan_Amount'] == 99999999.0, 'Current_Loan_Amount'] = df_train['Current_Loan_Amount'].median()"
      ],
      "metadata": {
        "id": "MvQXbIUqJLLK"
      },
      "execution_count": null,
      "outputs": []
    },
    {
      "cell_type": "code",
      "source": [
        "sns.displot(x=df_train.Current_Loan_Amount)"
      ],
      "metadata": {
        "colab": {
          "base_uri": "https://localhost:8080/",
          "height": 382
        },
        "id": "6r5s5mj4XCM9",
        "outputId": "8ff5dfa8-6c04-42c6-a2d2-13e1d0806abf"
      },
      "execution_count": null,
      "outputs": [
        {
          "output_type": "execute_result",
          "data": {
            "text/plain": [
              "<seaborn.axisgrid.FacetGrid at 0x7f332d554f10>"
            ]
          },
          "metadata": {},
          "execution_count": 40
        },
        {
          "output_type": "display_data",
          "data": {
            "text/plain": [
              "<Figure size 360x360 with 1 Axes>"
            ],
            "image/png": "[encoded data removed]"
          },
          "metadata": {}
        }
      ]
    },
    {
      "cell_type": "markdown",
      "source": [
        "### Maximum_Open_Credit"
      ],
      "metadata": {
        "id": "Fsl1RYaXXwe1"
      }
    },
    {
      "cell_type": "code",
      "source": [
        "# Prepare Data\n",
        "plt.figure(figsize=(6, 4))\n",
        "\n",
        "# Draw plot\n",
        "sns.boxplot(x=df_train.Maximum_Open_Credit, whis=1.5, orient='h')"
      ],
      "metadata": {
        "colab": {
          "base_uri": "https://localhost:8080/",
          "height": 302
        },
        "id": "ydDEgG1MX6PW",
        "outputId": "81f1475e-150b-4644-ae0b-01ed8b8b13dd"
      },
      "execution_count": null,
      "outputs": [
        {
          "output_type": "execute_result",
          "data": {
            "text/plain": [
              "<matplotlib.axes._subplots.AxesSubplot at 0x7f332d35d110>"
            ]
          },
          "metadata": {},
          "execution_count": 41
        },
        {
          "output_type": "display_data",
          "data": {
            "text/plain": [
              "<Figure size 432x288 with 1 Axes>"
            ],
            "image/png": "[encoded data removed]"
          },
          "metadata": {}
        }
      ]
    },
    {
      "cell_type": "markdown",
      "source": [
        "В Current_Loan_Amount максимальным значением было 99999999.0. Примем его за максимум."
      ],
      "metadata": {
        "id": "sTJDnldgZsOG"
      }
    },
    {
      "cell_type": "code",
      "source": [
        "max_credit = 99999999.0"
      ],
      "metadata": {
        "id": "A9paQkquZrDs"
      },
      "execution_count": null,
      "outputs": []
    },
    {
      "cell_type": "code",
      "source": [
        "df_train.loc[df_train['Maximum_Open_Credit'] > max_credit, 'Maximum_Open_Credit'].count()"
      ],
      "metadata": {
        "colab": {
          "base_uri": "https://localhost:8080/"
        },
        "id": "utAA56FuaUen",
        "outputId": "825095ac-893e-4b04-f19a-2325b05709af"
      },
      "execution_count": null,
      "outputs": [
        {
          "output_type": "execute_result",
          "data": {
            "text/plain": [
              "3"
            ]
          },
          "metadata": {},
          "execution_count": 43
        }
      ]
    },
    {
      "cell_type": "code",
      "source": [
        "df_train['Maximum_Open_Credit_Outlier'] = 0\n",
        "df_train.loc[df_train['Maximum_Open_Credit'] > max_credit, 'Maximum_Open_Credit_Outlier'] = 1\n",
        "df_train.loc[df_train.Maximum_Open_Credit < df_train.Current_Credit_Balance, 'Maximum_Open_Credit_Outlier'] = 1\n",
        "df_train.loc[df_train['Maximum_Open_Credit'] > max_credit, 'Maximum_Open_Credit'] = max_credit"
      ],
      "metadata": {
        "id": "SQSgnt_vaAJs"
      },
      "execution_count": null,
      "outputs": []
    },
    {
      "cell_type": "markdown",
      "source": [
        "Также есть значения, где максимальный кредит меньше размера текущего кредита. Заменим такие значения на Current_Credit_Balance"
      ],
      "metadata": {
        "id": "O0_xsFQtgTdb"
      }
    },
    {
      "cell_type": "code",
      "source": [
        "df_train.loc[df_train.Maximum_Open_Credit < df_train.Current_Credit_Balance, ['Maximum_Open_Credit', 'Current_Credit_Balance']]"
      ],
      "metadata": {
        "id": "fnNoHNPCeo_O",
        "colab": {
          "base_uri": "https://localhost:8080/",
          "height": 426
        },
        "outputId": "32a32e46-b185-4dad-f3d6-dce53353bca5"
      },
      "execution_count": null,
      "outputs": [
        {
          "output_type": "execute_result",
          "data": {
            "text/plain": [
              "      Maximum_Open_Credit  Current_Credit_Balance\n",
              "8                     0.0                    19.0\n",
              "602                   0.0                 60439.0\n",
              "611                   0.0                  7163.0\n",
              "1984                  0.0               2759503.0\n",
              "2081                  0.0                659471.0\n",
              "2872                  0.0                   114.0\n",
              "3900                  0.0                    76.0\n",
              "4256                  0.0                    19.0\n",
              "4962                  0.0                 69084.0\n",
              "5720                  0.0                 48545.0\n",
              "6593                  0.0                    19.0\n",
              "7233                  0.0                 75392.0"
            ],
            "text/html": [
              "\n",
              "  <div id=\"df-97a1c27f-9c82-4193-a051-4d9dad48fcc1\">\n",
              "    <div class=\"colab-df-container\">\n",
              "      <div>\n",
              "<style scoped>\n",
              "    .dataframe tbody tr th:only-of-type {\n",
              "        vertical-align: middle;\n",
              "    }\n",
              "\n",
              "    .dataframe tbody tr th {\n",
              "        vertical-align: top;\n",
              "    }\n",
              "\n",
              "    .dataframe thead th {\n",
              "        text-align: right;\n",
              "    }\n",
              "</style>\n",
              "<table border=\"1\" class=\"dataframe\">\n",
              "  <thead>\n",
              "    <tr style=\"text-align: right;\">\n",
              "      <th></th>\n",
              "      <th>Maximum_Open_Credit</th>\n",
              "      <th>Current_Credit_Balance</th>\n",
              "    </tr>\n",
              "  </thead>\n",
              "  <tbody>\n",
              "    <tr>\n",
              "      <th>8</th>\n",
              "      <td>0.0</td>\n",
              "      <td>19.0</td>\n",
              "    </tr>\n",
              "    <tr>\n",
              "      <th>602</th>\n",
              "      <td>0.0</td>\n",
              "      <td>60439.0</td>\n",
              "    </tr>\n",
              "    <tr>\n",
              "      <th>611</th>\n",
              "      <td>0.0</td>\n",
              "      <td>7163.0</td>\n",
              "    </tr>\n",
              "    <tr>\n",
              "      <th>1984</th>\n",
              "      <td>0.0</td>\n",
              "      <td>2759503.0</td>\n",
              "    </tr>\n",
              "    <tr>\n",
              "      <th>2081</th>\n",
              "      <td>0.0</td>\n",
              "      <td>659471.0</td>\n",
              "    </tr>\n",
              "    <tr>\n",
              "      <th>2872</th>\n",
              "      <td>0.0</td>\n",
              "      <td>114.0</td>\n",
              "    </tr>\n",
              "    <tr>\n",
              "      <th>3900</th>\n",
              "      <td>0.0</td>\n",
              "      <td>76.0</td>\n",
              "    </tr>\n",
              "    <tr>\n",
              "      <th>4256</th>\n",
              "      <td>0.0</td>\n",
              "      <td>19.0</td>\n",
              "    </tr>\n",
              "    <tr>\n",
              "      <th>4962</th>\n",
              "      <td>0.0</td>\n",
              "      <td>69084.0</td>\n",
              "    </tr>\n",
              "    <tr>\n",
              "      <th>5720</th>\n",
              "      <td>0.0</td>\n",
              "      <td>48545.0</td>\n",
              "    </tr>\n",
              "    <tr>\n",
              "      <th>6593</th>\n",
              "      <td>0.0</td>\n",
              "      <td>19.0</td>\n",
              "    </tr>\n",
              "    <tr>\n",
              "      <th>7233</th>\n",
              "      <td>0.0</td>\n",
              "      <td>75392.0</td>\n",
              "    </tr>\n",
              "  </tbody>\n",
              "</table>\n",
              "</div>\n",
              "      <button class=\"colab-df-convert\" onclick=\"convertToInteractive('df-97a1c27f-9c82-4193-a051-4d9dad48fcc1')\"\n",
              "              title=\"Convert this dataframe to an interactive table.\"\n",
              "              style=\"display:none;\">\n",
              "        \n",
              "  <svg xmlns=\"http://www.w3.org/2000/svg\" height=\"24px\"viewBox=\"0 0 24 24\"\n",
              "       width=\"24px\">\n",
              "    <path d=\"M0 0h24v24H0V0z\" fill=\"none\"/>\n",
              "    <path d=\"M18.56 5.44l.94 2.06.94-2.06 2.06-.94-2.06-.94-.94-2.06-.94 2.06-2.06.94zm-11 1L8.5 8.5l.94-2.06 2.06-.94-2.06-.94L8.5 2.5l-.94 2.06-2.06.94zm10 10l.94 2.06.94-2.06 2.06-.94-2.06-.94-.94-2.06-.94 2.06-2.06.94z\"/><path d=\"M17.41 7.96l-1.37-1.37c-.4-.4-.92-.59-1.43-.59-.52 0-1.04.2-1.43.59L10.3 9.45l-7.72 7.72c-.78.78-.78 2.05 0 2.83L4 21.41c.39.39.9.59 1.41.59.51 0 1.02-.2 1.41-.59l7.78-7.78 2.81-2.81c.8-.78.8-2.07 0-2.86zM5.41 20L4 18.59l7.72-7.72 1.47 1.35L5.41 20z\"/>\n",
              "  </svg>\n",
              "      </button>\n",
              "      \n",
              "  <style>\n",
              "    .colab-df-container {\n",
              "      display:flex;\n",
              "      flex-wrap:wrap;\n",
              "      gap: 12px;\n",
              "    }\n",
              "\n",
              "    .colab-df-convert {\n",
              "      background-color: #E8F0FE;\n",
              "      border: none;\n",
              "      border-radius: 50%;\n",
              "      cursor: pointer;\n",
              "      display: none;\n",
              "      fill: #1967D2;\n",
              "      height: 32px;\n",
              "      padding: 0 0 0 0;\n",
              "      width: 32px;\n",
              "    }\n",
              "\n",
              "    .colab-df-convert:hover {\n",
              "      background-color: #E2EBFA;\n",
              "      box-shadow: 0px 1px 2px rgba(60, 64, 67, 0.3), 0px 1px 3px 1px rgba(60, 64, 67, 0.15);\n",
              "      fill: #174EA6;\n",
              "    }\n",
              "\n",
              "    [theme=dark] .colab-df-convert {\n",
              "      background-color: #3B4455;\n",
              "      fill: #D2E3FC;\n",
              "    }\n",
              "\n",
              "    [theme=dark] .colab-df-convert:hover {\n",
              "      background-color: #434B5C;\n",
              "      box-shadow: 0px 1px 3px 1px rgba(0, 0, 0, 0.15);\n",
              "      filter: drop-shadow(0px 1px 2px rgba(0, 0, 0, 0.3));\n",
              "      fill: #FFFFFF;\n",
              "    }\n",
              "  </style>\n",
              "\n",
              "      <script>\n",
              "        const buttonEl =\n",
              "          document.querySelector('#df-97a1c27f-9c82-4193-a051-4d9dad48fcc1 button.colab-df-convert');\n",
              "        buttonEl.style.display =\n",
              "          google.colab.kernel.accessAllowed ? 'block' : 'none';\n",
              "\n",
              "        async function convertToInteractive(key) {\n",
              "          const element = document.querySelector('#df-97a1c27f-9c82-4193-a051-4d9dad48fcc1');\n",
              "          const dataTable =\n",
              "            await google.colab.kernel.invokeFunction('convertToInteractive',\n",
              "                                                     [key], {});\n",
              "          if (!dataTable) return;\n",
              "\n",
              "          const docLinkHtml = 'Like what you see? Visit the ' +\n",
              "            '<a target=\"_blank\" href=https://colab.research.google.com/notebooks/data_table.ipynb>data table notebook</a>'\n",
              "            + ' to learn more about interactive tables.';\n",
              "          element.innerHTML = '';\n",
              "          dataTable['output_type'] = 'display_data';\n",
              "          await google.colab.output.renderOutput(dataTable, element);\n",
              "          const docLink = document.createElement('div');\n",
              "          docLink.innerHTML = docLinkHtml;\n",
              "          element.appendChild(docLink);\n",
              "        }\n",
              "      </script>\n",
              "    </div>\n",
              "  </div>\n",
              "  "
            ]
          },
          "metadata": {},
          "execution_count": 45
        }
      ]
    },
    {
      "cell_type": "code",
      "source": [
        "df_train.loc[df_train.Maximum_Open_Credit < df_train.Current_Loan_Amount, ['Maximum_Open_Credit', 'Current_Loan_Amount']]"
      ],
      "metadata": {
        "colab": {
          "base_uri": "https://localhost:8080/",
          "height": 423
        },
        "id": "qnPaC3t2pZET",
        "outputId": "d2bd39ae-9b8a-4cc5-9a7b-f4d0b93d8405"
      },
      "execution_count": null,
      "outputs": [
        {
          "output_type": "execute_result",
          "data": {
            "text/plain": [
              "      Maximum_Open_Credit  Current_Loan_Amount\n",
              "8                     0.0             129734.0\n",
              "9                511302.0             572880.0\n",
              "18               387222.0             553586.0\n",
              "19               199078.0             309672.0\n",
              "22               288442.0             309573.0\n",
              "...                   ...                  ...\n",
              "7485             429154.0             466796.0\n",
              "7487             232364.0             267982.0\n",
              "7488              51744.0             129338.0\n",
              "7491             280170.0             437404.0\n",
              "7495             107866.0             129360.0\n",
              "\n",
              "[1603 rows x 2 columns]"
            ],
            "text/html": [
              "\n",
              "  <div id=\"df-4e6e5636-757f-454e-b003-4d86ef7fe05b\">\n",
              "    <div class=\"colab-df-container\">\n",
              "      <div>\n",
              "<style scoped>\n",
              "    .dataframe tbody tr th:only-of-type {\n",
              "        vertical-align: middle;\n",
              "    }\n",
              "\n",
              "    .dataframe tbody tr th {\n",
              "        vertical-align: top;\n",
              "    }\n",
              "\n",
              "    .dataframe thead th {\n",
              "        text-align: right;\n",
              "    }\n",
              "</style>\n",
              "<table border=\"1\" class=\"dataframe\">\n",
              "  <thead>\n",
              "    <tr style=\"text-align: right;\">\n",
              "      <th></th>\n",
              "      <th>Maximum_Open_Credit</th>\n",
              "      <th>Current_Loan_Amount</th>\n",
              "    </tr>\n",
              "  </thead>\n",
              "  <tbody>\n",
              "    <tr>\n",
              "      <th>8</th>\n",
              "      <td>0.0</td>\n",
              "      <td>129734.0</td>\n",
              "    </tr>\n",
              "    <tr>\n",
              "      <th>9</th>\n",
              "      <td>511302.0</td>\n",
              "      <td>572880.0</td>\n",
              "    </tr>\n",
              "    <tr>\n",
              "      <th>18</th>\n",
              "      <td>387222.0</td>\n",
              "      <td>553586.0</td>\n",
              "    </tr>\n",
              "    <tr>\n",
              "      <th>19</th>\n",
              "      <td>199078.0</td>\n",
              "      <td>309672.0</td>\n",
              "    </tr>\n",
              "    <tr>\n",
              "      <th>22</th>\n",
              "      <td>288442.0</td>\n",
              "      <td>309573.0</td>\n",
              "    </tr>\n",
              "    <tr>\n",
              "      <th>...</th>\n",
              "      <td>...</td>\n",
              "      <td>...</td>\n",
              "    </tr>\n",
              "    <tr>\n",
              "      <th>7485</th>\n",
              "      <td>429154.0</td>\n",
              "      <td>466796.0</td>\n",
              "    </tr>\n",
              "    <tr>\n",
              "      <th>7487</th>\n",
              "      <td>232364.0</td>\n",
              "      <td>267982.0</td>\n",
              "    </tr>\n",
              "    <tr>\n",
              "      <th>7488</th>\n",
              "      <td>51744.0</td>\n",
              "      <td>129338.0</td>\n",
              "    </tr>\n",
              "    <tr>\n",
              "      <th>7491</th>\n",
              "      <td>280170.0</td>\n",
              "      <td>437404.0</td>\n",
              "    </tr>\n",
              "    <tr>\n",
              "      <th>7495</th>\n",
              "      <td>107866.0</td>\n",
              "      <td>129360.0</td>\n",
              "    </tr>\n",
              "  </tbody>\n",
              "</table>\n",
              "<p>1603 rows × 2 columns</p>\n",
              "</div>\n",
              "      <button class=\"colab-df-convert\" onclick=\"convertToInteractive('df-4e6e5636-757f-454e-b003-4d86ef7fe05b')\"\n",
              "              title=\"Convert this dataframe to an interactive table.\"\n",
              "              style=\"display:none;\">\n",
              "        \n",
              "  <svg xmlns=\"http://www.w3.org/2000/svg\" height=\"24px\"viewBox=\"0 0 24 24\"\n",
              "       width=\"24px\">\n",
              "    <path d=\"M0 0h24v24H0V0z\" fill=\"none\"/>\n",
              "    <path d=\"M18.56 5.44l.94 2.06.94-2.06 2.06-.94-2.06-.94-.94-2.06-.94 2.06-2.06.94zm-11 1L8.5 8.5l.94-2.06 2.06-.94-2.06-.94L8.5 2.5l-.94 2.06-2.06.94zm10 10l.94 2.06.94-2.06 2.06-.94-2.06-.94-.94-2.06-.94 2.06-2.06.94z\"/><path d=\"M17.41 7.96l-1.37-1.37c-.4-.4-.92-.59-1.43-.59-.52 0-1.04.2-1.43.59L10.3 9.45l-7.72 7.72c-.78.78-.78 2.05 0 2.83L4 21.41c.39.39.9.59 1.41.59.51 0 1.02-.2 1.41-.59l7.78-7.78 2.81-2.81c.8-.78.8-2.07 0-2.86zM5.41 20L4 18.59l7.72-7.72 1.47 1.35L5.41 20z\"/>\n",
              "  </svg>\n",
              "      </button>\n",
              "      \n",
              "  <style>\n",
              "    .colab-df-container {\n",
              "      display:flex;\n",
              "      flex-wrap:wrap;\n",
              "      gap: 12px;\n",
              "    }\n",
              "\n",
              "    .colab-df-convert {\n",
              "      background-color: #E8F0FE;\n",
              "      border: none;\n",
              "      border-radius: 50%;\n",
              "      cursor: pointer;\n",
              "      display: none;\n",
              "      fill: #1967D2;\n",
              "      height: 32px;\n",
              "      padding: 0 0 0 0;\n",
              "      width: 32px;\n",
              "    }\n",
              "\n",
              "    .colab-df-convert:hover {\n",
              "      background-color: #E2EBFA;\n",
              "      box-shadow: 0px 1px 2px rgba(60, 64, 67, 0.3), 0px 1px 3px 1px rgba(60, 64, 67, 0.15);\n",
              "      fill: #174EA6;\n",
              "    }\n",
              "\n",
              "    [theme=dark] .colab-df-convert {\n",
              "      background-color: #3B4455;\n",
              "      fill: #D2E3FC;\n",
              "    }\n",
              "\n",
              "    [theme=dark] .colab-df-convert:hover {\n",
              "      background-color: #434B5C;\n",
              "      box-shadow: 0px 1px 3px 1px rgba(0, 0, 0, 0.15);\n",
              "      filter: drop-shadow(0px 1px 2px rgba(0, 0, 0, 0.3));\n",
              "      fill: #FFFFFF;\n",
              "    }\n",
              "  </style>\n",
              "\n",
              "      <script>\n",
              "        const buttonEl =\n",
              "          document.querySelector('#df-4e6e5636-757f-454e-b003-4d86ef7fe05b button.colab-df-convert');\n",
              "        buttonEl.style.display =\n",
              "          google.colab.kernel.accessAllowed ? 'block' : 'none';\n",
              "\n",
              "        async function convertToInteractive(key) {\n",
              "          const element = document.querySelector('#df-4e6e5636-757f-454e-b003-4d86ef7fe05b');\n",
              "          const dataTable =\n",
              "            await google.colab.kernel.invokeFunction('convertToInteractive',\n",
              "                                                     [key], {});\n",
              "          if (!dataTable) return;\n",
              "\n",
              "          const docLinkHtml = 'Like what you see? Visit the ' +\n",
              "            '<a target=\"_blank\" href=https://colab.research.google.com/notebooks/data_table.ipynb>data table notebook</a>'\n",
              "            + ' to learn more about interactive tables.';\n",
              "          element.innerHTML = '';\n",
              "          dataTable['output_type'] = 'display_data';\n",
              "          await google.colab.output.renderOutput(dataTable, element);\n",
              "          const docLink = document.createElement('div');\n",
              "          docLink.innerHTML = docLinkHtml;\n",
              "          element.appendChild(docLink);\n",
              "        }\n",
              "      </script>\n",
              "    </div>\n",
              "  </div>\n",
              "  "
            ]
          },
          "metadata": {},
          "execution_count": 46
        }
      ]
    },
    {
      "cell_type": "code",
      "source": [
        "# for label, content in df_train.loc[df_train.Maximum_Open_Credit < df_train.Current_Credit_Balance, ['Maximum_Open_Credit', 'Current_Credit_Balance']].items():\n",
        "#   print(f'label: {label}')\n",
        "#   print(f'content: {content}', sep='\\n')"
      ],
      "metadata": {
        "id": "Btou8f4zk309"
      },
      "execution_count": null,
      "outputs": []
    },
    {
      "cell_type": "code",
      "source": [
        "for i in range(0, len(df_train['Maximum_Open_Credit'].values)):\n",
        "            if df_train['Maximum_Open_Credit'].values[i] <= df_train.Current_Loan_Amount.values[i]:\n",
        "                df_train['Maximum_Open_Credit'].values[i] = df_train['Current_Loan_Amount'].values[i]"
      ],
      "metadata": {
        "id": "ruqpcqY9o4qR"
      },
      "execution_count": null,
      "outputs": []
    },
    {
      "cell_type": "code",
      "source": [
        "# for i, row in df.iterrows():\n",
        "# \tprint(f\"Index: {i}\")\n",
        "# \tprint(f\"{row}\\n\")"
      ],
      "metadata": {
        "id": "tlqTLImOsN8n"
      },
      "execution_count": null,
      "outputs": []
    },
    {
      "cell_type": "markdown",
      "source": [
        "### Credit_Score"
      ],
      "metadata": {
        "id": "qgPOgbKHbDqc"
      }
    },
    {
      "cell_type": "code",
      "source": [
        "# Prepare Data\n",
        "plt.figure(figsize=(6, 4))\n",
        "\n",
        "# Draw plot\n",
        "sns.boxplot(x=df_train.Credit_Score, whis=1.5, orient='h')"
      ],
      "metadata": {
        "colab": {
          "base_uri": "https://localhost:8080/",
          "height": 302
        },
        "id": "JY6DlXdabNjt",
        "outputId": "c749715e-c828-46e8-ef11-07ffe3550818"
      },
      "execution_count": null,
      "outputs": [
        {
          "output_type": "execute_result",
          "data": {
            "text/plain": [
              "<matplotlib.axes._subplots.AxesSubplot at 0x7f3330a15a10>"
            ]
          },
          "metadata": {},
          "execution_count": 50
        },
        {
          "output_type": "display_data",
          "data": {
            "text/plain": [
              "<Figure size 432x288 with 1 Axes>"
            ],
            "image/png": "[encoded data removed]"
          },
          "metadata": {}
        }
      ]
    },
    {
      "cell_type": "code",
      "source": [
        "df_train[df_train['Credit_Score'] <= 850]['Credit_Score'].count()"
      ],
      "metadata": {
        "colab": {
          "base_uri": "https://localhost:8080/"
        },
        "id": "befb3S4DbUyc",
        "outputId": "263fd749-e387-4c38-e1c2-26f616806ba6"
      },
      "execution_count": null,
      "outputs": [
        {
          "output_type": "execute_result",
          "data": {
            "text/plain": [
              "7100"
            ]
          },
          "metadata": {},
          "execution_count": 51
        }
      ]
    },
    {
      "cell_type": "code",
      "source": [
        "df_train[df_train['Credit_Score'] >= 1000]['Credit_Score'].count()"
      ],
      "metadata": {
        "colab": {
          "base_uri": "https://localhost:8080/"
        },
        "id": "6YodEzbPbxiM",
        "outputId": "253ddab7-37a0-4a38-b72a-da67882817e3"
      },
      "execution_count": null,
      "outputs": [
        {
          "output_type": "execute_result",
          "data": {
            "text/plain": [
              "400"
            ]
          },
          "metadata": {},
          "execution_count": 52
        }
      ]
    },
    {
      "cell_type": "markdown",
      "source": [
        "Есть 400 значений в диапазоне [6000, 8000], которые на порядок больше остальных 7100 в диапазоне [500, 750]. Предположим, что кредитный скор основывается на кредитном рейтинге FICO. Разделим значения более 850 на 10."
      ],
      "metadata": {
        "id": "HPdw0mfAb75A"
      }
    },
    {
      "cell_type": "code",
      "source": [
        "df_train['Credit_Score_Outlier'] = 0\n",
        "df_train.loc[df_train['Credit_Score'] > 1000, 'Credit_Score_Outlier'] = 1\n",
        "df_train.loc[df_train['Credit_Score'] > 1000, 'Credit_Score'] = df_train.loc[df_train['Credit_Score'] > 1000, 'Credit_Score'] / 10"
      ],
      "metadata": {
        "id": "X_l1hIxKcd1t"
      },
      "execution_count": null,
      "outputs": []
    },
    {
      "cell_type": "markdown",
      "source": [
        "### Home_Ownership"
      ],
      "metadata": {
        "id": "FWbu2Ubwwm5j"
      }
    },
    {
      "cell_type": "markdown",
      "source": [
        "Home_Ownership - Есть значение Have Mortgage, в котором всего 12 наблюдений (выбросы) и оно очень похоже на Home Mortgage, которое является самым часто встречающимся в датасете. заменим эти значения на mode()"
      ],
      "metadata": {
        "id": "dIIiC2Ncxj6g"
      }
    },
    {
      "cell_type": "code",
      "source": [
        "# Prepare Data\n",
        "plt.figure(figsize=(10, 4))\n",
        "\n",
        "# Draw plot\n",
        "sns.countplot(x=df_train.Home_Ownership)"
      ],
      "metadata": {
        "colab": {
          "base_uri": "https://localhost:8080/",
          "height": 302
        },
        "id": "TKuqHipQxhzb",
        "outputId": "eeeaae04-4915-470d-eebb-e73f937b2085"
      },
      "execution_count": null,
      "outputs": [
        {
          "output_type": "execute_result",
          "data": {
            "text/plain": [
              "<matplotlib.axes._subplots.AxesSubplot at 0x7f332d28de90>"
            ]
          },
          "metadata": {},
          "execution_count": 54
        },
        {
          "output_type": "display_data",
          "data": {
            "text/plain": [
              "<Figure size 720x288 with 1 Axes>"
            ],
            "image/png": "[encoded data removed]"
          },
          "metadata": {}
        }
      ]
    },
    {
      "cell_type": "code",
      "source": [
        "df_train[df_train.Home_Ownership == 'Have Mortgage']['Home_Ownership'].count()"
      ],
      "metadata": {
        "colab": {
          "base_uri": "https://localhost:8080/"
        },
        "id": "WxNwE6Ktx1qb",
        "outputId": "5966b2f7-d406-44ba-9741-6682f10029db"
      },
      "execution_count": null,
      "outputs": [
        {
          "output_type": "execute_result",
          "data": {
            "text/plain": [
              "12"
            ]
          },
          "metadata": {},
          "execution_count": 55
        }
      ]
    },
    {
      "cell_type": "markdown",
      "source": [
        "Have Mortgage - это просто наличие ипотеки. Также как и Home mortgage. Заменим значения на Home mortgage, точнее на моду."
      ],
      "metadata": {
        "id": "eUokrw2Y8bK-"
      }
    },
    {
      "cell_type": "code",
      "source": [
        "Home_Ownership_mod = df_train.Home_Ownership.mode()[0]\n",
        "print(Home_Ownership_mod)"
      ],
      "metadata": {
        "colab": {
          "base_uri": "https://localhost:8080/"
        },
        "id": "h8bRu_w37pNX",
        "outputId": "87529b66-80a8-489a-cc01-25a775dc7fa7"
      },
      "execution_count": null,
      "outputs": [
        {
          "output_type": "stream",
          "name": "stdout",
          "text": [
            "Home Mortgage\n"
          ]
        }
      ]
    },
    {
      "cell_type": "code",
      "source": [
        "df_train['Home_Ownership_Outlier'] = 0\n",
        "df_train.loc[df_train['Home_Ownership'] == 'Have Mortgage', 'Home_Ownership_Outlier'] = 1\n",
        "df_train.loc[df_train['Home_Ownership'] == 'Have Mortgage', 'Home_Ownership'] = Home_Ownership_mod"
      ],
      "metadata": {
        "id": "MRpTASAh0Efn"
      },
      "execution_count": null,
      "outputs": []
    },
    {
      "cell_type": "markdown",
      "source": [
        "### Years_of_Credit_History"
      ],
      "metadata": {
        "id": "QmIZsb5bBuB7"
      }
    },
    {
      "cell_type": "code",
      "source": [
        "# Prepare Data\n",
        "plt.figure(figsize=(6, 4))\n",
        "\n",
        "# Draw plot\n",
        "sns.boxplot(x=df_train.Years_of_Credit_History, whis=1.5, orient='h')"
      ],
      "metadata": {
        "colab": {
          "base_uri": "https://localhost:8080/",
          "height": 302
        },
        "id": "yHOZ9NoHB1nd",
        "outputId": "3647a3f9-ebcb-4501-d1aa-4c0265caa646"
      },
      "execution_count": null,
      "outputs": [
        {
          "output_type": "execute_result",
          "data": {
            "text/plain": [
              "<matplotlib.axes._subplots.AxesSubplot at 0x7f332d221090>"
            ]
          },
          "metadata": {},
          "execution_count": 58
        },
        {
          "output_type": "display_data",
          "data": {
            "text/plain": [
              "<Figure size 432x288 with 1 Axes>"
            ],
            "image/png": "[encoded data removed]"
          },
          "metadata": {}
        }
      ]
    },
    {
      "cell_type": "code",
      "source": [
        "# df_train.Years_of_Credit_History.quantile(0.995)"
      ],
      "metadata": {
        "id": "SgNRgbTICKC9"
      },
      "execution_count": null,
      "outputs": []
    },
    {
      "cell_type": "code",
      "source": [
        "df_train[df_train['Years_of_Credit_History'] > 50]"
      ],
      "metadata": {
        "colab": {
          "base_uri": "https://localhost:8080/",
          "height": 394
        },
        "id": "kRmjimTTCdMS",
        "outputId": "97c3ddfc-2fa5-42a4-f273-5476c4be1715"
      },
      "execution_count": null,
      "outputs": [
        {
          "output_type": "execute_result",
          "data": {
            "text/plain": [
              "     Home_Ownership  Annual_Income  Years_in_current_job  Tax_Liens  \\\n",
              "247   Home Mortgage      1893426.0                  10.0        0.0   \n",
              "476   Home Mortgage      1076768.0                  10.0        0.0   \n",
              "3091           Rent       582141.0                  10.0        0.0   \n",
              "3628       Own Home       376314.0                  10.0        0.0   \n",
              "4301  Home Mortgage       969475.0                  10.0        0.0   \n",
              "4716           Rent       969475.0                  10.0        0.0   \n",
              "5673  Home Mortgage       949810.0                  10.0        0.0   \n",
              "7251  Home Mortgage       969475.0                  10.0        0.0   \n",
              "\n",
              "      Number_of_Open_Accounts  Years_of_Credit_History  Maximum_Open_Credit  \\\n",
              "247                       7.0                     52.2             711524.0   \n",
              "476                      14.0                     57.7             558360.0   \n",
              "3091                      7.0                     50.9             487498.0   \n",
              "3628                      8.0                     51.3             139436.0   \n",
              "4301                     19.0                     51.9            1602524.0   \n",
              "4716                      5.0                     51.5             614614.0   \n",
              "5673                     15.0                     50.6            1180388.0   \n",
              "7251                      8.0                     51.0            1769900.0   \n",
              "\n",
              "      Number_of_Credit_Problems  Months_since_last_delinquent  Bankruptcies  \\\n",
              "247                         0.0                           NaN           0.0   \n",
              "476                         0.0                          24.0           0.0   \n",
              "3091                        0.0                           NaN           0.0   \n",
              "3628                        1.0                           NaN           1.0   \n",
              "4301                        0.0                          17.0           0.0   \n",
              "4716                        0.0                          14.0           0.0   \n",
              "5673                        0.0                          71.0           0.0   \n",
              "7251                        0.0                          27.0           0.0   \n",
              "\n",
              "      ... Credit_Default  Annual_Income_NaN  Years_in_current_job_NaN  \\\n",
              "247   ...              1                  0                         1   \n",
              "476   ...              1                  0                         1   \n",
              "3091  ...              0                  0                         1   \n",
              "3628  ...              0                  0                         1   \n",
              "4301  ...              0                  1                         1   \n",
              "4716  ...              1                  1                         1   \n",
              "5673  ...              0                  0                         0   \n",
              "7251  ...              1                  1                         0   \n",
              "\n",
              "      Bankruptcies_NaN  Credit_Score_NaN  Current_Loan_Amount_Outlier  \\\n",
              "247                  0                 0                            0   \n",
              "476                  0                 0                            0   \n",
              "3091                 0                 0                            1   \n",
              "3628                 0                 0                            0   \n",
              "4301                 0                 1                            0   \n",
              "4716                 0                 1                            0   \n",
              "5673                 0                 0                            0   \n",
              "7251                 0                 1                            0   \n",
              "\n",
              "      Current_Loan_Amount_outlier  Maximum_Open_Credit_Outlier  \\\n",
              "247                           NaN                            0   \n",
              "476                           NaN                            0   \n",
              "3091                          1.0                            0   \n",
              "3628                          NaN                            0   \n",
              "4301                          NaN                            0   \n",
              "4716                          NaN                            0   \n",
              "5673                          NaN                            0   \n",
              "7251                          NaN                            0   \n",
              "\n",
              "      Credit_Score_Outlier  Home_Ownership_Outlier  \n",
              "247                      0                       0  \n",
              "476                      0                       0  \n",
              "3091                     0                       0  \n",
              "3628                     0                       0  \n",
              "4301                     0                       0  \n",
              "4716                     0                       0  \n",
              "5673                     0                       0  \n",
              "7251                     0                       0  \n",
              "\n",
              "[8 rows x 26 columns]"
            ],
            "text/html": [
              "\n",
              "  <div id=\"df-78a354da-52ac-4480-a86b-3bca3caf7ffd\">\n",
              "    <div class=\"colab-df-container\">\n",
              "      <div>\n",
              "<style scoped>\n",
              "    .dataframe tbody tr th:only-of-type {\n",
              "        vertical-align: middle;\n",
              "    }\n",
              "\n",
              "    .dataframe tbody tr th {\n",
              "        vertical-align: top;\n",
              "    }\n",
              "\n",
              "    .dataframe thead th {\n",
              "        text-align: right;\n",
              "    }\n",
              "</style>\n",
              "<table border=\"1\" class=\"dataframe\">\n",
              "  <thead>\n",
              "    <tr style=\"text-align: right;\">\n",
              "      <th></th>\n",
              "      <th>Home_Ownership</th>\n",
              "      <th>Annual_Income</th>\n",
              "      <th>Years_in_current_job</th>\n",
              "      <th>Tax_Liens</th>\n",
              "      <th>Number_of_Open_Accounts</th>\n",
              "      <th>Years_of_Credit_History</th>\n",
              "      <th>Maximum_Open_Credit</th>\n",
              "      <th>Number_of_Credit_Problems</th>\n",
              "      <th>Months_since_last_delinquent</th>\n",
              "      <th>Bankruptcies</th>\n",
              "      <th>...</th>\n",
              "      <th>Credit_Default</th>\n",
              "      <th>Annual_Income_NaN</th>\n",
              "      <th>Years_in_current_job_NaN</th>\n",
              "      <th>Bankruptcies_NaN</th>\n",
              "      <th>Credit_Score_NaN</th>\n",
              "      <th>Current_Loan_Amount_Outlier</th>\n",
              "      <th>Current_Loan_Amount_outlier</th>\n",
              "      <th>Maximum_Open_Credit_Outlier</th>\n",
              "      <th>Credit_Score_Outlier</th>\n",
              "      <th>Home_Ownership_Outlier</th>\n",
              "    </tr>\n",
              "  </thead>\n",
              "  <tbody>\n",
              "    <tr>\n",
              "      <th>247</th>\n",
              "      <td>Home Mortgage</td>\n",
              "      <td>1893426.0</td>\n",
              "      <td>10.0</td>\n",
              "      <td>0.0</td>\n",
              "      <td>7.0</td>\n",
              "      <td>52.2</td>\n",
              "      <td>711524.0</td>\n",
              "      <td>0.0</td>\n",
              "      <td>NaN</td>\n",
              "      <td>0.0</td>\n",
              "      <td>...</td>\n",
              "      <td>1</td>\n",
              "      <td>0</td>\n",
              "      <td>1</td>\n",
              "      <td>0</td>\n",
              "      <td>0</td>\n",
              "      <td>0</td>\n",
              "      <td>NaN</td>\n",
              "      <td>0</td>\n",
              "      <td>0</td>\n",
              "      <td>0</td>\n",
              "    </tr>\n",
              "    <tr>\n",
              "      <th>476</th>\n",
              "      <td>Home Mortgage</td>\n",
              "      <td>1076768.0</td>\n",
              "      <td>10.0</td>\n",
              "      <td>0.0</td>\n",
              "      <td>14.0</td>\n",
              "      <td>57.7</td>\n",
              "      <td>558360.0</td>\n",
              "      <td>0.0</td>\n",
              "      <td>24.0</td>\n",
              "      <td>0.0</td>\n",
              "      <td>...</td>\n",
              "      <td>1</td>\n",
              "      <td>0</td>\n",
              "      <td>1</td>\n",
              "      <td>0</td>\n",
              "      <td>0</td>\n",
              "      <td>0</td>\n",
              "      <td>NaN</td>\n",
              "      <td>0</td>\n",
              "      <td>0</td>\n",
              "      <td>0</td>\n",
              "    </tr>\n",
              "    <tr>\n",
              "      <th>3091</th>\n",
              "      <td>Rent</td>\n",
              "      <td>582141.0</td>\n",
              "      <td>10.0</td>\n",
              "      <td>0.0</td>\n",
              "      <td>7.0</td>\n",
              "      <td>50.9</td>\n",
              "      <td>487498.0</td>\n",
              "      <td>0.0</td>\n",
              "      <td>NaN</td>\n",
              "      <td>0.0</td>\n",
              "      <td>...</td>\n",
              "      <td>0</td>\n",
              "      <td>0</td>\n",
              "      <td>1</td>\n",
              "      <td>0</td>\n",
              "      <td>0</td>\n",
              "      <td>1</td>\n",
              "      <td>1.0</td>\n",
              "      <td>0</td>\n",
              "      <td>0</td>\n",
              "      <td>0</td>\n",
              "    </tr>\n",
              "    <tr>\n",
              "      <th>3628</th>\n",
              "      <td>Own Home</td>\n",
              "      <td>376314.0</td>\n",
              "      <td>10.0</td>\n",
              "      <td>0.0</td>\n",
              "      <td>8.0</td>\n",
              "      <td>51.3</td>\n",
              "      <td>139436.0</td>\n",
              "      <td>1.0</td>\n",
              "      <td>NaN</td>\n",
              "      <td>1.0</td>\n",
              "      <td>...</td>\n",
              "      <td>0</td>\n",
              "      <td>0</td>\n",
              "      <td>1</td>\n",
              "      <td>0</td>\n",
              "      <td>0</td>\n",
              "      <td>0</td>\n",
              "      <td>NaN</td>\n",
              "      <td>0</td>\n",
              "      <td>0</td>\n",
              "      <td>0</td>\n",
              "    </tr>\n",
              "    <tr>\n",
              "      <th>4301</th>\n",
              "      <td>Home Mortgage</td>\n",
              "      <td>969475.0</td>\n",
              "      <td>10.0</td>\n",
              "      <td>0.0</td>\n",
              "      <td>19.0</td>\n",
              "      <td>51.9</td>\n",
              "      <td>1602524.0</td>\n",
              "      <td>0.0</td>\n",
              "      <td>17.0</td>\n",
              "      <td>0.0</td>\n",
              "      <td>...</td>\n",
              "      <td>0</td>\n",
              "      <td>1</td>\n",
              "      <td>1</td>\n",
              "      <td>0</td>\n",
              "      <td>1</td>\n",
              "      <td>0</td>\n",
              "      <td>NaN</td>\n",
              "      <td>0</td>\n",
              "      <td>0</td>\n",
              "      <td>0</td>\n",
              "    </tr>\n",
              "    <tr>\n",
              "      <th>4716</th>\n",
              "      <td>Rent</td>\n",
              "      <td>969475.0</td>\n",
              "      <td>10.0</td>\n",
              "      <td>0.0</td>\n",
              "      <td>5.0</td>\n",
              "      <td>51.5</td>\n",
              "      <td>614614.0</td>\n",
              "      <td>0.0</td>\n",
              "      <td>14.0</td>\n",
              "      <td>0.0</td>\n",
              "      <td>...</td>\n",
              "      <td>1</td>\n",
              "      <td>1</td>\n",
              "      <td>1</td>\n",
              "      <td>0</td>\n",
              "      <td>1</td>\n",
              "      <td>0</td>\n",
              "      <td>NaN</td>\n",
              "      <td>0</td>\n",
              "      <td>0</td>\n",
              "      <td>0</td>\n",
              "    </tr>\n",
              "    <tr>\n",
              "      <th>5673</th>\n",
              "      <td>Home Mortgage</td>\n",
              "      <td>949810.0</td>\n",
              "      <td>10.0</td>\n",
              "      <td>0.0</td>\n",
              "      <td>15.0</td>\n",
              "      <td>50.6</td>\n",
              "      <td>1180388.0</td>\n",
              "      <td>0.0</td>\n",
              "      <td>71.0</td>\n",
              "      <td>0.0</td>\n",
              "      <td>...</td>\n",
              "      <td>0</td>\n",
              "      <td>0</td>\n",
              "      <td>0</td>\n",
              "      <td>0</td>\n",
              "      <td>0</td>\n",
              "      <td>0</td>\n",
              "      <td>NaN</td>\n",
              "      <td>0</td>\n",
              "      <td>0</td>\n",
              "      <td>0</td>\n",
              "    </tr>\n",
              "    <tr>\n",
              "      <th>7251</th>\n",
              "      <td>Home Mortgage</td>\n",
              "      <td>969475.0</td>\n",
              "      <td>10.0</td>\n",
              "      <td>0.0</td>\n",
              "      <td>8.0</td>\n",
              "      <td>51.0</td>\n",
              "      <td>1769900.0</td>\n",
              "      <td>0.0</td>\n",
              "      <td>27.0</td>\n",
              "      <td>0.0</td>\n",
              "      <td>...</td>\n",
              "      <td>1</td>\n",
              "      <td>1</td>\n",
              "      <td>0</td>\n",
              "      <td>0</td>\n",
              "      <td>1</td>\n",
              "      <td>0</td>\n",
              "      <td>NaN</td>\n",
              "      <td>0</td>\n",
              "      <td>0</td>\n",
              "      <td>0</td>\n",
              "    </tr>\n",
              "  </tbody>\n",
              "</table>\n",
              "<p>8 rows × 26 columns</p>\n",
              "</div>\n",
              "      <button class=\"colab-df-convert\" onclick=\"convertToInteractive('df-78a354da-52ac-4480-a86b-3bca3caf7ffd')\"\n",
              "              title=\"Convert this dataframe to an interactive table.\"\n",
              "              style=\"display:none;\">\n",
              "        \n",
              "  <svg xmlns=\"http://www.w3.org/2000/svg\" height=\"24px\"viewBox=\"0 0 24 24\"\n",
              "       width=\"24px\">\n",
              "    <path d=\"M0 0h24v24H0V0z\" fill=\"none\"/>\n",
              "    <path d=\"M18.56 5.44l.94 2.06.94-2.06 2.06-.94-2.06-.94-.94-2.06-.94 2.06-2.06.94zm-11 1L8.5 8.5l.94-2.06 2.06-.94-2.06-.94L8.5 2.5l-.94 2.06-2.06.94zm10 10l.94 2.06.94-2.06 2.06-.94-2.06-.94-.94-2.06-.94 2.06-2.06.94z\"/><path d=\"M17.41 7.96l-1.37-1.37c-.4-.4-.92-.59-1.43-.59-.52 0-1.04.2-1.43.59L10.3 9.45l-7.72 7.72c-.78.78-.78 2.05 0 2.83L4 21.41c.39.39.9.59 1.41.59.51 0 1.02-.2 1.41-.59l7.78-7.78 2.81-2.81c.8-.78.8-2.07 0-2.86zM5.41 20L4 18.59l7.72-7.72 1.47 1.35L5.41 20z\"/>\n",
              "  </svg>\n",
              "      </button>\n",
              "      \n",
              "  <style>\n",
              "    .colab-df-container {\n",
              "      display:flex;\n",
              "      flex-wrap:wrap;\n",
              "      gap: 12px;\n",
              "    }\n",
              "\n",
              "    .colab-df-convert {\n",
              "      background-color: #E8F0FE;\n",
              "      border: none;\n",
              "      border-radius: 50%;\n",
              "      cursor: pointer;\n",
              "      display: none;\n",
              "      fill: #1967D2;\n",
              "      height: 32px;\n",
              "      padding: 0 0 0 0;\n",
              "      width: 32px;\n",
              "    }\n",
              "\n",
              "    .colab-df-convert:hover {\n",
              "      background-color: #E2EBFA;\n",
              "      box-shadow: 0px 1px 2px rgba(60, 64, 67, 0.3), 0px 1px 3px 1px rgba(60, 64, 67, 0.15);\n",
              "      fill: #174EA6;\n",
              "    }\n",
              "\n",
              "    [theme=dark] .colab-df-convert {\n",
              "      background-color: #3B4455;\n",
              "      fill: #D2E3FC;\n",
              "    }\n",
              "\n",
              "    [theme=dark] .colab-df-convert:hover {\n",
              "      background-color: #434B5C;\n",
              "      box-shadow: 0px 1px 3px 1px rgba(0, 0, 0, 0.15);\n",
              "      filter: drop-shadow(0px 1px 2px rgba(0, 0, 0, 0.3));\n",
              "      fill: #FFFFFF;\n",
              "    }\n",
              "  </style>\n",
              "\n",
              "      <script>\n",
              "        const buttonEl =\n",
              "          document.querySelector('#df-78a354da-52ac-4480-a86b-3bca3caf7ffd button.colab-df-convert');\n",
              "        buttonEl.style.display =\n",
              "          google.colab.kernel.accessAllowed ? 'block' : 'none';\n",
              "\n",
              "        async function convertToInteractive(key) {\n",
              "          const element = document.querySelector('#df-78a354da-52ac-4480-a86b-3bca3caf7ffd');\n",
              "          const dataTable =\n",
              "            await google.colab.kernel.invokeFunction('convertToInteractive',\n",
              "                                                     [key], {});\n",
              "          if (!dataTable) return;\n",
              "\n",
              "          const docLinkHtml = 'Like what you see? Visit the ' +\n",
              "            '<a target=\"_blank\" href=https://colab.research.google.com/notebooks/data_table.ipynb>data table notebook</a>'\n",
              "            + ' to learn more about interactive tables.';\n",
              "          element.innerHTML = '';\n",
              "          dataTable['output_type'] = 'display_data';\n",
              "          await google.colab.output.renderOutput(dataTable, element);\n",
              "          const docLink = document.createElement('div');\n",
              "          docLink.innerHTML = docLinkHtml;\n",
              "          element.appendChild(docLink);\n",
              "        }\n",
              "      </script>\n",
              "    </div>\n",
              "  </div>\n",
              "  "
            ]
          },
          "metadata": {},
          "execution_count": 60
        }
      ]
    },
    {
      "cell_type": "code",
      "source": [
        "Years_of_Credit_History_mod = df_train.Years_of_Credit_History.mode()[0]\n",
        "print(Years_of_Credit_History_mod)\n",
        "\n",
        "df_train['Years_of_Credit_History_Outlier'] = 0\n",
        "df_train.loc[df_train['Years_of_Credit_History'] > 50, 'Years_of_Credit_History_Outlier'] = 1\n",
        "df_train.loc[df_train['Years_of_Credit_History'] > 50, 'Years_of_Credit_History'] = Years_of_Credit_History_mod"
      ],
      "metadata": {
        "colab": {
          "base_uri": "https://localhost:8080/"
        },
        "id": "vBjQwe3IFKix",
        "outputId": "a3231461-426a-45d0-8c0d-0477106b256e"
      },
      "execution_count": null,
      "outputs": [
        {
          "output_type": "stream",
          "name": "stdout",
          "text": [
            "15.0\n"
          ]
        }
      ]
    },
    {
      "cell_type": "markdown",
      "source": [
        "### Monthly_Debt"
      ],
      "metadata": {
        "id": "8G1o_CiwIOMD"
      }
    },
    {
      "cell_type": "code",
      "source": [
        "# Prepare Data\n",
        "plt.figure(figsize=(6, 4))\n",
        "\n",
        "# Draw plot\n",
        "sns.boxplot(x=df_train.Monthly_Debt, whis=1.5, orient='h')"
      ],
      "metadata": {
        "colab": {
          "base_uri": "https://localhost:8080/",
          "height": 302
        },
        "id": "Kr7ryYn1IScV",
        "outputId": "44f43f05-a49e-48b0-d0ed-66dd77627bbd"
      },
      "execution_count": null,
      "outputs": [
        {
          "output_type": "execute_result",
          "data": {
            "text/plain": [
              "<matplotlib.axes._subplots.AxesSubplot at 0x7f332d191250>"
            ]
          },
          "metadata": {},
          "execution_count": 62
        },
        {
          "output_type": "display_data",
          "data": {
            "text/plain": [
              "<Figure size 432x288 with 1 Axes>"
            ],
            "image/png": "[encoded data removed]"
          },
          "metadata": {}
        }
      ]
    },
    {
      "cell_type": "code",
      "source": [
        "df_train.Monthly_Debt.quantile(0.999)"
      ],
      "metadata": {
        "colab": {
          "base_uri": "https://localhost:8080/"
        },
        "id": "0w8DKo4fJtII",
        "outputId": "7953c49a-aad0-44bd-f9f4-7c109385a0e6"
      },
      "execution_count": null,
      "outputs": [
        {
          "output_type": "execute_result",
          "data": {
            "text/plain": [
              "91718.35100000429"
            ]
          },
          "metadata": {},
          "execution_count": 63
        }
      ]
    },
    {
      "cell_type": "code",
      "source": [
        "sns.displot(x=df_train.Monthly_Debt)"
      ],
      "metadata": {
        "colab": {
          "base_uri": "https://localhost:8080/",
          "height": 382
        },
        "id": "mbu0YI3ZLoyW",
        "outputId": "abab9458-02c6-41f1-93fd-c575e5efc852"
      },
      "execution_count": null,
      "outputs": [
        {
          "output_type": "execute_result",
          "data": {
            "text/plain": [
              "<seaborn.axisgrid.FacetGrid at 0x7f332d10ab90>"
            ]
          },
          "metadata": {},
          "execution_count": 64
        },
        {
          "output_type": "display_data",
          "data": {
            "text/plain": [
              "<Figure size 360x360 with 1 Axes>"
            ],
            "image/png": "[encoded data removed]"
          },
          "metadata": {}
        }
      ]
    },
    {
      "cell_type": "code",
      "source": [
        "df_train.Monthly_Debt.median()"
      ],
      "metadata": {
        "colab": {
          "base_uri": "https://localhost:8080/"
        },
        "id": "G_EYpmtnLKCE",
        "outputId": "cd3abf6a-b853-4a63-f99d-d1aee8d5bfc7"
      },
      "execution_count": null,
      "outputs": [
        {
          "output_type": "execute_result",
          "data": {
            "text/plain": [
              "16076.5"
            ]
          },
          "metadata": {},
          "execution_count": 65
        }
      ]
    },
    {
      "cell_type": "code",
      "source": [
        "df_train['Monthly_Debt'].mode()"
      ],
      "metadata": {
        "colab": {
          "base_uri": "https://localhost:8080/"
        },
        "id": "CSgbTWKmLLUe",
        "outputId": "c07251b7-9300-44ca-dfa7-cc0b3b584707"
      },
      "execution_count": null,
      "outputs": [
        {
          "output_type": "execute_result",
          "data": {
            "text/plain": [
              "0    0.0\n",
              "dtype: float64"
            ]
          },
          "metadata": {},
          "execution_count": 66
        }
      ]
    },
    {
      "cell_type": "code",
      "source": [
        "df_train[df_train.Monthly_Debt == 0]['Monthly_Debt']"
      ],
      "metadata": {
        "colab": {
          "base_uri": "https://localhost:8080/"
        },
        "id": "vj8ysimWL9Zt",
        "outputId": "ce5908c2-89cc-44b3-a41f-c8e8995dffac"
      },
      "execution_count": null,
      "outputs": [
        {
          "output_type": "execute_result",
          "data": {
            "text/plain": [
              "780     0.0\n",
              "1643    0.0\n",
              "3219    0.0\n",
              "3496    0.0\n",
              "4165    0.0\n",
              "7124    0.0\n",
              "Name: Monthly_Debt, dtype: float64"
            ]
          },
          "metadata": {},
          "execution_count": 67
        }
      ]
    },
    {
      "cell_type": "code",
      "source": [
        "df_train.loc[(df_train.Monthly_Debt > 16000) & (df_train.Monthly_Debt < 16700), 'Monthly_Debt']"
      ],
      "metadata": {
        "colab": {
          "base_uri": "https://localhost:8080/"
        },
        "id": "VNIox07HMNls",
        "outputId": "9452cf94-7562-4e16-89bd-818106f384f2"
      },
      "execution_count": null,
      "outputs": [
        {
          "output_type": "execute_result",
          "data": {
            "text/plain": [
              "65      16428.0\n",
              "82      16606.0\n",
              "98      16251.0\n",
              "101     16645.0\n",
              "133     16441.0\n",
              "         ...   \n",
              "7399    16199.0\n",
              "7416    16683.0\n",
              "7461    16225.0\n",
              "7475    16473.0\n",
              "7481    16380.0\n",
              "Name: Monthly_Debt, Length: 204, dtype: float64"
            ]
          },
          "metadata": {},
          "execution_count": 68
        }
      ]
    },
    {
      "cell_type": "code",
      "source": [
        "Monthly_Debt_med = df_train.Monthly_Debt.median()\n",
        "print(Monthly_Debt_med)\n",
        "\n",
        "df_train['Monthly_Debt_Outlier'] = 0\n",
        "df_train.loc[df_train['Monthly_Debt'] > df_train.Monthly_Debt.quantile(0.999), 'Monthly_Debt_Outlier'] = 1\n",
        "df_train.loc[df_train['Monthly_Debt'] > df_train.Monthly_Debt.quantile(0.999), 'Monthly_Debt'] = Monthly_Debt_med"
      ],
      "metadata": {
        "colab": {
          "base_uri": "https://localhost:8080/"
        },
        "id": "uGEy0lzrJa01",
        "outputId": "7a260e6c-1d92-4da7-e5cf-9f8107d5c2bb"
      },
      "execution_count": null,
      "outputs": [
        {
          "output_type": "stream",
          "name": "stdout",
          "text": [
            "16076.5\n"
          ]
        }
      ]
    },
    {
      "cell_type": "markdown",
      "source": [
        "## EDA"
      ],
      "metadata": {
        "id": "vjJpuFCv24BU"
      }
    },
    {
      "cell_type": "markdown",
      "source": [
        "### Purpose "
      ],
      "metadata": {
        "id": "g72ZlyA6iyff"
      }
    },
    {
      "cell_type": "markdown",
      "source": [
        "**Оценка признака \"PAY_1\" в разрезе целевой переменной**"
      ],
      "metadata": {
        "id": "tbvEuL5Hjl9-"
      }
    },
    {
      "cell_type": "code",
      "source": [
        "plt.figure(figsize=(35, 8))\n",
        "\n",
        "sns.countplot(x=\"Purpose\", hue=target, data=df_train)\n",
        "plt.title('Purpose grouped by target variable')\n",
        "plt.legend(title='Target', loc='upper right')\n",
        "\n",
        "plt.show()"
      ],
      "metadata": {
        "colab": {
          "base_uri": "https://localhost:8080/",
          "height": 410
        },
        "id": "7GiTXwCljLEk",
        "outputId": "a65b7431-b544-4d0f-e960-25db40d3ae7b"
      },
      "execution_count": null,
      "outputs": [
        {
          "output_type": "display_data",
          "data": {
            "text/plain": [
              "<Figure size 2520x576 with 1 Axes>"
            ],
            "image/png": "[encoded data removed]"
          },
          "metadata": {}
        }
      ]
    },
    {
      "cell_type": "code",
      "source": [
        "df = df_train.copy()\n",
        "variable_name = 'Purpose'\n",
        "df['ID'] = df.index"
      ],
      "metadata": {
        "id": "CcQDxmPHkES5"
      },
      "execution_count": null,
      "outputs": []
    },
    {
      "cell_type": "code",
      "source": [
        "purpose_target = df[['ID', 'Purpose', 'Credit_Default']]\n",
        "\n",
        "table = purpose_target.pivot_table(columns='Credit_Default', index='Purpose', values='ID', aggfunc='count')\n",
        "table.columns.to_list()\n",
        "table['devide'] = table[0] / table[1]\n",
        "table"
      ],
      "metadata": {
        "colab": {
          "base_uri": "https://localhost:8080/",
          "height": 551
        },
        "id": "z8tbB4tmkYch",
        "outputId": "ecb27a2d-b71b-49ac-8027-0e998d556184"
      },
      "execution_count": null,
      "outputs": [
        {
          "output_type": "execute_result",
          "data": {
            "text/plain": [
              "Credit_Default             0       1    devide\n",
              "Purpose                                       \n",
              "business loan           74.0    55.0  1.345455\n",
              "buy a car               72.0    24.0  3.000000\n",
              "buy house               25.0     9.0  2.777778\n",
              "debt consolidation    4290.0  1654.0  2.593712\n",
              "educational expenses     9.0     1.0  9.000000\n",
              "home improvements      304.0   108.0  2.814815\n",
              "major purchase          31.0     9.0  3.444444\n",
              "medical bills           49.0    22.0  2.227273\n",
              "moving                   9.0     2.0  4.500000\n",
              "other                  468.0   197.0  2.375635\n",
              "renewable energy         NaN     2.0       NaN\n",
              "small business          12.0    14.0  0.857143\n",
              "take a trip             27.0    10.0  2.700000\n",
              "vacation                 6.0     2.0  3.000000\n",
              "wedding                 11.0     4.0  2.750000"
            ],
            "text/html": [
              "\n",
              "  <div id=\"df-c32e5108-6b0e-497c-b7c2-7298aad29b4b\">\n",
              "    <div class=\"colab-df-container\">\n",
              "      <div>\n",
              "<style scoped>\n",
              "    .dataframe tbody tr th:only-of-type {\n",
              "        vertical-align: middle;\n",
              "    }\n",
              "\n",
              "    .dataframe tbody tr th {\n",
              "        vertical-align: top;\n",
              "    }\n",
              "\n",
              "    .dataframe thead th {\n",
              "        text-align: right;\n",
              "    }\n",
              "</style>\n",
              "<table border=\"1\" class=\"dataframe\">\n",
              "  <thead>\n",
              "    <tr style=\"text-align: right;\">\n",
              "      <th>Credit_Default</th>\n",
              "      <th>0</th>\n",
              "      <th>1</th>\n",
              "      <th>devide</th>\n",
              "    </tr>\n",
              "    <tr>\n",
              "      <th>Purpose</th>\n",
              "      <th></th>\n",
              "      <th></th>\n",
              "      <th></th>\n",
              "    </tr>\n",
              "  </thead>\n",
              "  <tbody>\n",
              "    <tr>\n",
              "      <th>business loan</th>\n",
              "      <td>74.0</td>\n",
              "      <td>55.0</td>\n",
              "      <td>1.345455</td>\n",
              "    </tr>\n",
              "    <tr>\n",
              "      <th>buy a car</th>\n",
              "      <td>72.0</td>\n",
              "      <td>24.0</td>\n",
              "      <td>3.000000</td>\n",
              "    </tr>\n",
              "    <tr>\n",
              "      <th>buy house</th>\n",
              "      <td>25.0</td>\n",
              "      <td>9.0</td>\n",
              "      <td>2.777778</td>\n",
              "    </tr>\n",
              "    <tr>\n",
              "      <th>debt consolidation</th>\n",
              "      <td>4290.0</td>\n",
              "      <td>1654.0</td>\n",
              "      <td>2.593712</td>\n",
              "    </tr>\n",
              "    <tr>\n",
              "      <th>educational expenses</th>\n",
              "      <td>9.0</td>\n",
              "      <td>1.0</td>\n",
              "      <td>9.000000</td>\n",
              "    </tr>\n",
              "    <tr>\n",
              "      <th>home improvements</th>\n",
              "      <td>304.0</td>\n",
              "      <td>108.0</td>\n",
              "      <td>2.814815</td>\n",
              "    </tr>\n",
              "    <tr>\n",
              "      <th>major purchase</th>\n",
              "      <td>31.0</td>\n",
              "      <td>9.0</td>\n",
              "      <td>3.444444</td>\n",
              "    </tr>\n",
              "    <tr>\n",
              "      <th>medical bills</th>\n",
              "      <td>49.0</td>\n",
              "      <td>22.0</td>\n",
              "      <td>2.227273</td>\n",
              "    </tr>\n",
              "    <tr>\n",
              "      <th>moving</th>\n",
              "      <td>9.0</td>\n",
              "      <td>2.0</td>\n",
              "      <td>4.500000</td>\n",
              "    </tr>\n",
              "    <tr>\n",
              "      <th>other</th>\n",
              "      <td>468.0</td>\n",
              "      <td>197.0</td>\n",
              "      <td>2.375635</td>\n",
              "    </tr>\n",
              "    <tr>\n",
              "      <th>renewable energy</th>\n",
              "      <td>NaN</td>\n",
              "      <td>2.0</td>\n",
              "      <td>NaN</td>\n",
              "    </tr>\n",
              "    <tr>\n",
              "      <th>small business</th>\n",
              "      <td>12.0</td>\n",
              "      <td>14.0</td>\n",
              "      <td>0.857143</td>\n",
              "    </tr>\n",
              "    <tr>\n",
              "      <th>take a trip</th>\n",
              "      <td>27.0</td>\n",
              "      <td>10.0</td>\n",
              "      <td>2.700000</td>\n",
              "    </tr>\n",
              "    <tr>\n",
              "      <th>vacation</th>\n",
              "      <td>6.0</td>\n",
              "      <td>2.0</td>\n",
              "      <td>3.000000</td>\n",
              "    </tr>\n",
              "    <tr>\n",
              "      <th>wedding</th>\n",
              "      <td>11.0</td>\n",
              "      <td>4.0</td>\n",
              "      <td>2.750000</td>\n",
              "    </tr>\n",
              "  </tbody>\n",
              "</table>\n",
              "</div>\n",
              "      <button class=\"colab-df-convert\" onclick=\"convertToInteractive('df-c32e5108-6b0e-497c-b7c2-7298aad29b4b')\"\n",
              "              title=\"Convert this dataframe to an interactive table.\"\n",
              "              style=\"display:none;\">\n",
              "        \n",
              "  <svg xmlns=\"http://www.w3.org/2000/svg\" height=\"24px\"viewBox=\"0 0 24 24\"\n",
              "       width=\"24px\">\n",
              "    <path d=\"M0 0h24v24H0V0z\" fill=\"none\"/>\n",
              "    <path d=\"M18.56 5.44l.94 2.06.94-2.06 2.06-.94-2.06-.94-.94-2.06-.94 2.06-2.06.94zm-11 1L8.5 8.5l.94-2.06 2.06-.94-2.06-.94L8.5 2.5l-.94 2.06-2.06.94zm10 10l.94 2.06.94-2.06 2.06-.94-2.06-.94-.94-2.06-.94 2.06-2.06.94z\"/><path d=\"M17.41 7.96l-1.37-1.37c-.4-.4-.92-.59-1.43-.59-.52 0-1.04.2-1.43.59L10.3 9.45l-7.72 7.72c-.78.78-.78 2.05 0 2.83L4 21.41c.39.39.9.59 1.41.59.51 0 1.02-.2 1.41-.59l7.78-7.78 2.81-2.81c.8-.78.8-2.07 0-2.86zM5.41 20L4 18.59l7.72-7.72 1.47 1.35L5.41 20z\"/>\n",
              "  </svg>\n",
              "      </button>\n",
              "      \n",
              "  <style>\n",
              "    .colab-df-container {\n",
              "      display:flex;\n",
              "      flex-wrap:wrap;\n",
              "      gap: 12px;\n",
              "    }\n",
              "\n",
              "    .colab-df-convert {\n",
              "      background-color: #E8F0FE;\n",
              "      border: none;\n",
              "      border-radius: 50%;\n",
              "      cursor: pointer;\n",
              "      display: none;\n",
              "      fill: #1967D2;\n",
              "      height: 32px;\n",
              "      padding: 0 0 0 0;\n",
              "      width: 32px;\n",
              "    }\n",
              "\n",
              "    .colab-df-convert:hover {\n",
              "      background-color: #E2EBFA;\n",
              "      box-shadow: 0px 1px 2px rgba(60, 64, 67, 0.3), 0px 1px 3px 1px rgba(60, 64, 67, 0.15);\n",
              "      fill: #174EA6;\n",
              "    }\n",
              "\n",
              "    [theme=dark] .colab-df-convert {\n",
              "      background-color: #3B4455;\n",
              "      fill: #D2E3FC;\n",
              "    }\n",
              "\n",
              "    [theme=dark] .colab-df-convert:hover {\n",
              "      background-color: #434B5C;\n",
              "      box-shadow: 0px 1px 3px 1px rgba(0, 0, 0, 0.15);\n",
              "      filter: drop-shadow(0px 1px 2px rgba(0, 0, 0, 0.3));\n",
              "      fill: #FFFFFF;\n",
              "    }\n",
              "  </style>\n",
              "\n",
              "      <script>\n",
              "        const buttonEl =\n",
              "          document.querySelector('#df-c32e5108-6b0e-497c-b7c2-7298aad29b4b button.colab-df-convert');\n",
              "        buttonEl.style.display =\n",
              "          google.colab.kernel.accessAllowed ? 'block' : 'none';\n",
              "\n",
              "        async function convertToInteractive(key) {\n",
              "          const element = document.querySelector('#df-c32e5108-6b0e-497c-b7c2-7298aad29b4b');\n",
              "          const dataTable =\n",
              "            await google.colab.kernel.invokeFunction('convertToInteractive',\n",
              "                                                     [key], {});\n",
              "          if (!dataTable) return;\n",
              "\n",
              "          const docLinkHtml = 'Like what you see? Visit the ' +\n",
              "            '<a target=\"_blank\" href=https://colab.research.google.com/notebooks/data_table.ipynb>data table notebook</a>'\n",
              "            + ' to learn more about interactive tables.';\n",
              "          element.innerHTML = '';\n",
              "          dataTable['output_type'] = 'display_data';\n",
              "          await google.colab.output.renderOutput(dataTable, element);\n",
              "          const docLink = document.createElement('div');\n",
              "          docLink.innerHTML = docLinkHtml;\n",
              "          element.appendChild(docLink);\n",
              "        }\n",
              "      </script>\n",
              "    </div>\n",
              "  </div>\n",
              "  "
            ]
          },
          "metadata": {},
          "execution_count": 147
        }
      ]
    },
    {
      "cell_type": "markdown",
      "source": [
        "**Наблюдение**\n",
        "\n",
        "Изучив получившийся график, видно, что значения wedding, признака PAY_1 имеют схожие доли в разрезе целевой переменной. Если это действительно так, то можно будет, например, объединить их в одну категорию.\n",
        "\n",
        "**Гипотеза** \n",
        "\n",
        "* Нулевая гипотеза: ожидаемые и наблюдаемые частоты согласованы\n",
        "* Альтернативная гипотеза: отклонения в частотах выходят за рамки случайных колебаний, расхождения статистически значимы\n",
        "* Критерий: Хи-квадрат Пирсона\n",
        "* Уровень значимости $\\normalsize \\alpha$: 0.05\n",
        "* Критическая область: двухсторонняя\n",
        "\n",
        "Для проверки данной гипотезы необходимо подать наблюдаемые частоты категорий -1 и 0 признака PAY_1 в выбранный критерий, после чего оценить значение достигаемого уровня значимости p-value и сравнить с его с выбранным порогом альфа, если p-value получится больше выбранного порога, то гипотезу о согласованности частот можно не отбрасывать."
      ],
      "metadata": {
        "id": "0-g4TAD7lQRw"
      }
    },
    {
      "cell_type": "code",
      "source": [
        "df = df_train.copy()\n",
        "variable_name = 'Purpose'\n",
        "df['index'] = df.index\n",
        "\n",
        "purpose_and_target_x = df.loc[df['Purpose'].isin(['take a trip', 'debt consolidation', 'wedding',  'buy house', 'home improvements', 'buy a car',  'vacation', 'medical bills']), ['index', 'Purpose', 'Credit_Default']]\n",
        "# purpose_and_target_x\n",
        "table_p = purpose_and_target_x.pivot_table(columns='Credit_Default', index=purpose_and_target_x.Purpose, values='index', aggfunc='count')\n",
        "table_p"
      ],
      "metadata": {
        "colab": {
          "base_uri": "https://localhost:8080/",
          "height": 331
        },
        "id": "viJCywPYwsbS",
        "outputId": "1770cde7-3023-43c1-fedf-9297b400055f"
      },
      "execution_count": null,
      "outputs": [
        {
          "output_type": "execute_result",
          "data": {
            "text/plain": [
              "Credit_Default         0     1\n",
              "Purpose                       \n",
              "buy a car             72    24\n",
              "buy house             25     9\n",
              "debt consolidation  4290  1654\n",
              "home improvements    304   108\n",
              "medical bills         49    22\n",
              "take a trip           27    10\n",
              "vacation               6     2\n",
              "wedding               11     4"
            ],
            "text/html": [
              "\n",
              "  <div id=\"df-0d52d79b-4e68-46dd-b186-86b768ce0057\">\n",
              "    <div class=\"colab-df-container\">\n",
              "      <div>\n",
              "<style scoped>\n",
              "    .dataframe tbody tr th:only-of-type {\n",
              "        vertical-align: middle;\n",
              "    }\n",
              "\n",
              "    .dataframe tbody tr th {\n",
              "        vertical-align: top;\n",
              "    }\n",
              "\n",
              "    .dataframe thead th {\n",
              "        text-align: right;\n",
              "    }\n",
              "</style>\n",
              "<table border=\"1\" class=\"dataframe\">\n",
              "  <thead>\n",
              "    <tr style=\"text-align: right;\">\n",
              "      <th>Credit_Default</th>\n",
              "      <th>0</th>\n",
              "      <th>1</th>\n",
              "    </tr>\n",
              "    <tr>\n",
              "      <th>Purpose</th>\n",
              "      <th></th>\n",
              "      <th></th>\n",
              "    </tr>\n",
              "  </thead>\n",
              "  <tbody>\n",
              "    <tr>\n",
              "      <th>buy a car</th>\n",
              "      <td>72</td>\n",
              "      <td>24</td>\n",
              "    </tr>\n",
              "    <tr>\n",
              "      <th>buy house</th>\n",
              "      <td>25</td>\n",
              "      <td>9</td>\n",
              "    </tr>\n",
              "    <tr>\n",
              "      <th>debt consolidation</th>\n",
              "      <td>4290</td>\n",
              "      <td>1654</td>\n",
              "    </tr>\n",
              "    <tr>\n",
              "      <th>home improvements</th>\n",
              "      <td>304</td>\n",
              "      <td>108</td>\n",
              "    </tr>\n",
              "    <tr>\n",
              "      <th>medical bills</th>\n",
              "      <td>49</td>\n",
              "      <td>22</td>\n",
              "    </tr>\n",
              "    <tr>\n",
              "      <th>take a trip</th>\n",
              "      <td>27</td>\n",
              "      <td>10</td>\n",
              "    </tr>\n",
              "    <tr>\n",
              "      <th>vacation</th>\n",
              "      <td>6</td>\n",
              "      <td>2</td>\n",
              "    </tr>\n",
              "    <tr>\n",
              "      <th>wedding</th>\n",
              "      <td>11</td>\n",
              "      <td>4</td>\n",
              "    </tr>\n",
              "  </tbody>\n",
              "</table>\n",
              "</div>\n",
              "      <button class=\"colab-df-convert\" onclick=\"convertToInteractive('df-0d52d79b-4e68-46dd-b186-86b768ce0057')\"\n",
              "              title=\"Convert this dataframe to an interactive table.\"\n",
              "              style=\"display:none;\">\n",
              "        \n",
              "  <svg xmlns=\"http://www.w3.org/2000/svg\" height=\"24px\"viewBox=\"0 0 24 24\"\n",
              "       width=\"24px\">\n",
              "    <path d=\"M0 0h24v24H0V0z\" fill=\"none\"/>\n",
              "    <path d=\"M18.56 5.44l.94 2.06.94-2.06 2.06-.94-2.06-.94-.94-2.06-.94 2.06-2.06.94zm-11 1L8.5 8.5l.94-2.06 2.06-.94-2.06-.94L8.5 2.5l-.94 2.06-2.06.94zm10 10l.94 2.06.94-2.06 2.06-.94-2.06-.94-.94-2.06-.94 2.06-2.06.94z\"/><path d=\"M17.41 7.96l-1.37-1.37c-.4-.4-.92-.59-1.43-.59-.52 0-1.04.2-1.43.59L10.3 9.45l-7.72 7.72c-.78.78-.78 2.05 0 2.83L4 21.41c.39.39.9.59 1.41.59.51 0 1.02-.2 1.41-.59l7.78-7.78 2.81-2.81c.8-.78.8-2.07 0-2.86zM5.41 20L4 18.59l7.72-7.72 1.47 1.35L5.41 20z\"/>\n",
              "  </svg>\n",
              "      </button>\n",
              "      \n",
              "  <style>\n",
              "    .colab-df-container {\n",
              "      display:flex;\n",
              "      flex-wrap:wrap;\n",
              "      gap: 12px;\n",
              "    }\n",
              "\n",
              "    .colab-df-convert {\n",
              "      background-color: #E8F0FE;\n",
              "      border: none;\n",
              "      border-radius: 50%;\n",
              "      cursor: pointer;\n",
              "      display: none;\n",
              "      fill: #1967D2;\n",
              "      height: 32px;\n",
              "      padding: 0 0 0 0;\n",
              "      width: 32px;\n",
              "    }\n",
              "\n",
              "    .colab-df-convert:hover {\n",
              "      background-color: #E2EBFA;\n",
              "      box-shadow: 0px 1px 2px rgba(60, 64, 67, 0.3), 0px 1px 3px 1px rgba(60, 64, 67, 0.15);\n",
              "      fill: #174EA6;\n",
              "    }\n",
              "\n",
              "    [theme=dark] .colab-df-convert {\n",
              "      background-color: #3B4455;\n",
              "      fill: #D2E3FC;\n",
              "    }\n",
              "\n",
              "    [theme=dark] .colab-df-convert:hover {\n",
              "      background-color: #434B5C;\n",
              "      box-shadow: 0px 1px 3px 1px rgba(0, 0, 0, 0.15);\n",
              "      filter: drop-shadow(0px 1px 2px rgba(0, 0, 0, 0.3));\n",
              "      fill: #FFFFFF;\n",
              "    }\n",
              "  </style>\n",
              "\n",
              "      <script>\n",
              "        const buttonEl =\n",
              "          document.querySelector('#df-0d52d79b-4e68-46dd-b186-86b768ce0057 button.colab-df-convert');\n",
              "        buttonEl.style.display =\n",
              "          google.colab.kernel.accessAllowed ? 'block' : 'none';\n",
              "\n",
              "        async function convertToInteractive(key) {\n",
              "          const element = document.querySelector('#df-0d52d79b-4e68-46dd-b186-86b768ce0057');\n",
              "          const dataTable =\n",
              "            await google.colab.kernel.invokeFunction('convertToInteractive',\n",
              "                                                     [key], {});\n",
              "          if (!dataTable) return;\n",
              "\n",
              "          const docLinkHtml = 'Like what you see? Visit the ' +\n",
              "            '<a target=\"_blank\" href=https://colab.research.google.com/notebooks/data_table.ipynb>data table notebook</a>'\n",
              "            + ' to learn more about interactive tables.';\n",
              "          element.innerHTML = '';\n",
              "          dataTable['output_type'] = 'display_data';\n",
              "          await google.colab.output.renderOutput(dataTable, element);\n",
              "          const docLink = document.createElement('div');\n",
              "          docLink.innerHTML = docLinkHtml;\n",
              "          element.appendChild(docLink);\n",
              "        }\n",
              "      </script>\n",
              "    </div>\n",
              "  </div>\n",
              "  "
            ]
          },
          "metadata": {},
          "execution_count": 150
        }
      ]
    },
    {
      "cell_type": "code",
      "source": [
        "chi2, p, dof, expected = chi2_contingency(table_p, correction=False)\n",
        "p"
      ],
      "metadata": {
        "colab": {
          "base_uri": "https://localhost:8080/"
        },
        "id": "rZN9K7o7tKVD",
        "outputId": "d5be7ea7-a133-4129-d044-40afa022a2c6"
      },
      "execution_count": null,
      "outputs": [
        {
          "output_type": "execute_result",
          "data": {
            "text/plain": [
              "0.9882982010763037"
            ]
          },
          "metadata": {},
          "execution_count": 151
        }
      ]
    },
    {
      "cell_type": "markdown",
      "source": [
        "### Tax_Liens"
      ],
      "metadata": {
        "id": "McN-Xmrt3XAA"
      }
    },
    {
      "cell_type": "markdown",
      "source": [
        "Рассмотрим распределение признака в разрезе целевой переменной."
      ],
      "metadata": {
        "id": "vBZJYI2d3ph7"
      }
    },
    {
      "cell_type": "code",
      "source": [
        "plt.figure(figsize=(10, 6))\n",
        "sns.pointplot(x=df_train.Tax_Liens, y=col, data=df_train, capsize=.1, label='train', color='r')"
      ],
      "metadata": {
        "colab": {
          "base_uri": "https://localhost:8080/",
          "height": 411
        },
        "id": "to9ugSyj3-FN",
        "outputId": "87299e34-7436-480d-e45d-9b8bd3f5316e"
      },
      "execution_count": null,
      "outputs": [
        {
          "output_type": "execute_result",
          "data": {
            "text/plain": [
              "<matplotlib.axes._subplots.AxesSubplot at 0x7f332cfcbad0>"
            ]
          },
          "metadata": {},
          "execution_count": 70
        },
        {
          "output_type": "display_data",
          "data": {
            "text/plain": [
              "<Figure size 720x432 with 1 Axes>"
            ],
            "image/png": "[encoded data removed]"
          },
          "metadata": {}
        }
      ]
    },
    {
      "cell_type": "code",
      "source": [
        "plt.figure(figsize=(9, 6))\n",
        "\n",
        "sns.countplot(x='Tax_Liens', hue='Credit_Default', data=df_train)\n",
        "plt.title('Tax_Liens grouped by target variable')\n",
        "plt.legend(title='Target', loc='upper right')\n",
        "\n",
        "plt.show()"
      ],
      "metadata": {
        "colab": {
          "base_uri": "https://localhost:8080/",
          "height": 410
        },
        "id": "6yLgtwlT6DO4",
        "outputId": "6eb82c87-fb79-4d47-9eb5-cc1c7a76b8d3"
      },
      "execution_count": null,
      "outputs": [
        {
          "output_type": "display_data",
          "data": {
            "text/plain": [
              "<Figure size 648x432 with 1 Axes>"
            ],
            "image/png": "[encoded data removed]"
          },
          "metadata": {}
        }
      ]
    },
    {
      "cell_type": "code",
      "source": [
        "df = df_train.copy()\n",
        "variable_name = 'Tax_Liens'\n",
        "df['index'] = df.index"
      ],
      "metadata": {
        "id": "6xhrEp6h5Bdt"
      },
      "execution_count": null,
      "outputs": []
    },
    {
      "cell_type": "code",
      "source": [
        "variable_and_target = df.loc[df[variable_name].isin([0, 1]), ['Id', variable_name, TARGET_NAME]]\n",
        "table = variable_and_target.pivot_table(values='Id', index=variable_name, columns=TARGET_NAME, aggfunc='count')\n",
        "table"
      ],
      "metadata": {
        "id": "kZdYOMPa5U_A",
        "colab": {
          "base_uri": "https://localhost:8080/",
          "height": 200
        },
        "outputId": "0545934b-e93b-4fc3-e5df-ac26d183e07d"
      },
      "execution_count": null,
      "outputs": [
        {
          "output_type": "error",
          "ename": "NameError",
          "evalue": "ignored",
          "traceback": [
            "\u001b[0;31m---------------------------------------------------------------------------\u001b[0m",
            "\u001b[0;31mNameError\u001b[0m                                 Traceback (most recent call last)",
            "\u001b[0;32m<ipython-input-73-9d9c0353fbf6>\u001b[0m in \u001b[0;36m<module>\u001b[0;34m()\u001b[0m\n\u001b[0;32m----> 1\u001b[0;31m \u001b[0mvariable_and_target\u001b[0m \u001b[0;34m=\u001b[0m \u001b[0mdf\u001b[0m\u001b[0;34m.\u001b[0m\u001b[0mloc\u001b[0m\u001b[0;34m[\u001b[0m\u001b[0mdf\u001b[0m\u001b[0;34m[\u001b[0m\u001b[0mvariable_name\u001b[0m\u001b[0;34m]\u001b[0m\u001b[0;34m.\u001b[0m\u001b[0misin\u001b[0m\u001b[0;34m(\u001b[0m\u001b[0;34m[\u001b[0m\u001b[0;36m0\u001b[0m\u001b[0;34m,\u001b[0m \u001b[0;36m1\u001b[0m\u001b[0;34m]\u001b[0m\u001b[0;34m)\u001b[0m\u001b[0;34m,\u001b[0m \u001b[0;34m[\u001b[0m\u001b[0;34m'Id'\u001b[0m\u001b[0;34m,\u001b[0m \u001b[0mvariable_name\u001b[0m\u001b[0;34m,\u001b[0m \u001b[0mTARGET_NAME\u001b[0m\u001b[0;34m]\u001b[0m\u001b[0;34m]\u001b[0m\u001b[0;34m\u001b[0m\u001b[0;34m\u001b[0m\u001b[0m\n\u001b[0m\u001b[1;32m      2\u001b[0m \u001b[0mtable\u001b[0m \u001b[0;34m=\u001b[0m \u001b[0mvariable_and_target\u001b[0m\u001b[0;34m.\u001b[0m\u001b[0mpivot_table\u001b[0m\u001b[0;34m(\u001b[0m\u001b[0mvalues\u001b[0m\u001b[0;34m=\u001b[0m\u001b[0;34m'Id'\u001b[0m\u001b[0;34m,\u001b[0m \u001b[0mindex\u001b[0m\u001b[0;34m=\u001b[0m\u001b[0mvariable_name\u001b[0m\u001b[0;34m,\u001b[0m \u001b[0mcolumns\u001b[0m\u001b[0;34m=\u001b[0m\u001b[0mTARGET_NAME\u001b[0m\u001b[0;34m,\u001b[0m \u001b[0maggfunc\u001b[0m\u001b[0;34m=\u001b[0m\u001b[0;34m'count'\u001b[0m\u001b[0;34m)\u001b[0m\u001b[0;34m\u001b[0m\u001b[0;34m\u001b[0m\u001b[0m\n\u001b[1;32m      3\u001b[0m \u001b[0mtable\u001b[0m\u001b[0;34m\u001b[0m\u001b[0;34m\u001b[0m\u001b[0m\n",
            "\u001b[0;31mNameError\u001b[0m: name 'TARGET_NAME' is not defined"
          ]
        }
      ]
    },
    {
      "cell_type": "code",
      "source": [
        "plt.figure(figsize=(8, 5))\n",
        "\n",
        "sns.pointplot(x=target, y='Tax_Liens', data=df_train, capsize=.1)\n",
        "\n",
        "plt.title('Confidence intervals (95 %) for Tax_Liens')\n",
        "plt.show()"
      ],
      "metadata": {
        "id": "eRor82834MXf"
      },
      "execution_count": null,
      "outputs": []
    },
    {
      "cell_type": "markdown",
      "source": [
        "Посмотрим на признак 'Years in current job' в разрезе целевой переменной"
      ],
      "metadata": {
        "id": "6ZZrHxDFPfvc"
      }
    },
    {
      "cell_type": "code",
      "source": [
        "plt.figure(figsize=(9, 6))\n",
        "\n",
        "sns.countplot(x='Years_in_current_job', hue='Credit_Default', data=df_train)\n",
        "plt.title('Years in current job grouped by target variable')\n",
        "plt.legend(title='Target', loc='upper right')\n",
        "\n",
        "plt.show()"
      ],
      "metadata": {
        "id": "RIHmx_FUPesd"
      },
      "execution_count": null,
      "outputs": []
    },
    {
      "cell_type": "code",
      "source": [
        "df_train['Index'] = df_train.index\n",
        "years_target = df_train[['Index', 'Years_in_current_job', 'Credit_Default']]\n",
        "\n",
        "t = years_target.pivot_table(columns='Credit_Default', index='Years_in_current_job', values='Index', aggfunc='count')\n",
        "t.columns.to_list()\n",
        "t['devide'] = t[0]/t[1]\n",
        "t"
      ],
      "metadata": {
        "id": "cCpkluOTgroF"
      },
      "execution_count": null,
      "outputs": []
    },
    {
      "cell_type": "code",
      "source": [
        "df_train.groupby('Years_in_current_job')['Credit_Default'].mean().sort_values()"
      ],
      "metadata": {
        "id": "KSYZQNwddfyt"
      },
      "execution_count": null,
      "outputs": []
    },
    {
      "cell_type": "code",
      "source": [
        "# df_train.groupby('Years_in_current_job').head()"
      ],
      "metadata": {
        "id": "t5AqzVVFd9gA"
      },
      "execution_count": null,
      "outputs": []
    },
    {
      "cell_type": "code",
      "source": [
        "df_train['Index'] = df_train.index\n",
        "years_target = df_train[['Index', 'Years_in_current_job', 'Credit_Default']]\n",
        "\n",
        "table = years_target.pivot_table(columns='Credit_Default', index='Years_in_current_job', values='Index', aggfunc='count')\n",
        "t.columns.to_list()\n",
        "t['devide'] = t[0]/t[1]\n",
        "t"
      ],
      "metadata": {
        "id": "8ppXLHhEhDHC"
      },
      "execution_count": null,
      "outputs": []
    },
    {
      "cell_type": "code",
      "source": [
        "years_and_target_s = df_train.loc[df_train['Years_in_current_job'].isin([0, 1]), ['Index', 'Years_in_current_job', 'Credit_Default']]"
      ],
      "metadata": {
        "id": "GuUDFVi4hOJJ"
      },
      "execution_count": null,
      "outputs": []
    },
    {
      "cell_type": "code",
      "source": [
        "table = years_and_target_s.pivot_table(values='Index', index='Years_in_current_job', columns='Credit_Default', aggfunc='count')\n",
        "table"
      ],
      "metadata": {
        "id": "EdXqQgzWhP-n"
      },
      "execution_count": null,
      "outputs": []
    },
    {
      "cell_type": "code",
      "source": [
        "from scipy.stats import chi2_contingency"
      ],
      "metadata": {
        "id": "_2rdvJqVh5yD"
      },
      "execution_count": null,
      "outputs": []
    },
    {
      "cell_type": "code",
      "source": [
        "chi2, p, _, _ = chi2_contingency(table)\n",
        "p"
      ],
      "metadata": {
        "id": "RlTNGnU7hoI-"
      },
      "execution_count": null,
      "outputs": []
    },
    {
      "cell_type": "code",
      "source": [
        "chi2, p, dof, expected = chi2_contingency(t, correction=False)\n",
        "p"
      ],
      "metadata": {
        "id": "7aI1ECygzltJ"
      },
      "execution_count": null,
      "outputs": []
    }
  ]
}