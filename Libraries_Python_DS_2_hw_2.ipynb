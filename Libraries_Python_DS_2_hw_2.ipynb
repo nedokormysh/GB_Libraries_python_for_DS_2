{
  "nbformat": 4,
  "nbformat_minor": 0,
  "metadata": {
    "colab": {
      "name": "Libraries_Python_DS_2_hw_2.ipynb",
      "provenance": [],
      "collapsed_sections": [],
      "authorship_tag": "ABX9TyMlQ2LYXZdt4VPXTGkZuIgC",
      "include_colab_link": true
    },
    "kernelspec": {
      "name": "python3",
      "display_name": "Python 3"
    },
    "language_info": {
      "name": "python"
    }
  },
  "cells": [
    {
      "cell_type": "markdown",
      "metadata": {
        "id": "view-in-github",
        "colab_type": "text"
      },
      "source": [
        "<a href=\"https://colab.research.google.com/github/nedokormysh/GB_Libraries_python_for_DS_2/blob/main/Libraries_Python_DS_2_hw_2.ipynb\" target=\"_parent\"><img src=\"https://colab.research.google.com/assets/colab-badge.svg\" alt=\"Open In Colab\"/></a>"
      ]
    },
    {
      "cell_type": "markdown",
      "source": [
        "# В чём различие между зависимыми и независимыми выборками?\n"
      ],
      "metadata": {
        "id": "sTA_cIf1VGSO"
      }
    },
    {
      "cell_type": "markdown",
      "source": [
        "Если между объектами разных групп была установлена некая зависимость, т.е. можно установить пару, где одному объекту из одной выборки соответствует один объект из другой выборки и наоборот, то такие выборки считаются зависимыми.\n",
        "\n",
        "Если такая взаимосвязь между выборками отсутствует, то эти выборки считаются независимыми "
      ],
      "metadata": {
        "id": "OkezSsP-vBh1"
      }
    },
    {
      "cell_type": "markdown",
      "source": [
        "# Когда применяются параметрические статистические критерии, а когда — их непараметрические аналоги?"
      ],
      "metadata": {
        "id": "DMn8p_fkVPQV"
      }
    },
    {
      "cell_type": "markdown",
      "source": [
        "Критерий называют параметрическим, если он основан на конкретном типе распределения генеральной совокупности (как правило, нормальном) или использует параметры этой совокупности (среднее, дисперсии и т. д.).\n",
        "\n",
        "Непараметрические методы не основываются на оценке параметров (таких как среднее или стандартное отклонение) при описании выборочного распределения интересующей величины. Соответственно, непараметрические критерии применяются для выборок малого объема с переменными, про распределение которых мало что или вообще ничего не известно."
      ],
      "metadata": {
        "id": "lfDUbJKd_dXJ"
      }
    }
  ]
}